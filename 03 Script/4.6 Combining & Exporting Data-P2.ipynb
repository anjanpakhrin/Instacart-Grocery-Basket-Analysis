{
 "cells": [
  {
   "cell_type": "markdown",
   "id": "8b29e1c5-c26f-4a64-aba3-e4e3e5e24b88",
   "metadata": {},
   "source": [
    "### 4.6: Merging and Exporting Data - Part 2 \n",
    "### Contents\n",
    "- Merging Instacart Data\n",
    "- Exporting Data in Pickle Format\n",
    "- Task"
   ]
  },
  {
   "cell_type": "code",
   "execution_count": 1,
   "id": "ea55db82-4aa8-4a92-a359-114077be9f91",
   "metadata": {},
   "outputs": [],
   "source": [
    "# Import libraries\n",
    "\n",
    "import pandas as pd\n",
    "import numpy as np\n",
    "import os"
   ]
  },
  {
   "cell_type": "code",
   "execution_count": 2,
   "id": "c76fecf7-eab8-42be-a79f-507ba774f6f1",
   "metadata": {},
   "outputs": [],
   "source": [
    "# Set display options for better viewing\n",
    "\n",
    "pd.set_option('display.width', 1000)\n",
    "pd.set_option('display.max_columns', 100)  # Limit columns\n",
    "pd.set_option('display.max_rows', 50)      # Limit rows"
   ]
  },
  {
   "cell_type": "markdown",
   "id": "a9caf3ff-7413-4440-ac67-bfa65f8c8904",
   "metadata": {},
   "source": [
    "#### **Merging Instacart Data**"
   ]
  },
  {
   "cell_type": "code",
   "execution_count": 3,
   "id": "be0b088e-958b-4bd7-a6d1-00f504f60ac2",
   "metadata": {},
   "outputs": [],
   "source": [
    "# Create shortcut for data file\n",
    "path= r'/Users/anjanpakhrin/Documents/Instacart Basket Analysis'"
   ]
  },
  {
   "cell_type": "code",
   "execution_count": 4,
   "id": "3ca4f499-c2d3-4f9b-8233-4129130d1c4d",
   "metadata": {},
   "outputs": [],
   "source": [
    "# Create path to data files\n",
    "df_ords_prior = pd.read_csv(os.path.join(path, '02 Data', 'Original Data', 'orders_products_prior.csv'), index_col = False)\n",
    "df_ords = pd.read_csv(os.path.join(path, '02 Data', 'Prepared Data', 'orders_checked.csv'), index_col = False)\n",
    "df_prods = pd.read_csv(os.path.join(path, '02 Data', 'Prepared Data', 'products_checked.csv'), index_col = False)"
   ]
  },
  {
   "cell_type": "code",
   "execution_count": 5,
   "id": "56751bed-ccbd-46c7-ab21-4c246e0a0b17",
   "metadata": {},
   "outputs": [
    {
     "data": {
      "text/plain": [
       "(49672, 5)"
      ]
     },
     "execution_count": 5,
     "metadata": {},
     "output_type": "execute_result"
    }
   ],
   "source": [
    "df_prods.shape"
   ]
  },
  {
   "cell_type": "markdown",
   "id": "15f6548b-41dd-4571-963a-0a6f392225bf",
   "metadata": {},
   "source": [
    "#### - Checking Output"
   ]
  },
  {
   "cell_type": "code",
   "execution_count": 6,
   "id": "4f6c9ec1-8095-42cf-8fe6-feb5f0e8e71e",
   "metadata": {},
   "outputs": [
    {
     "data": {
      "text/html": [
       "<div>\n",
       "<style scoped>\n",
       "    .dataframe tbody tr th:only-of-type {\n",
       "        vertical-align: middle;\n",
       "    }\n",
       "\n",
       "    .dataframe tbody tr th {\n",
       "        vertical-align: top;\n",
       "    }\n",
       "\n",
       "    .dataframe thead th {\n",
       "        text-align: right;\n",
       "    }\n",
       "</style>\n",
       "<table border=\"1\" class=\"dataframe\">\n",
       "  <thead>\n",
       "    <tr style=\"text-align: right;\">\n",
       "      <th></th>\n",
       "      <th>order_id</th>\n",
       "      <th>product_id</th>\n",
       "      <th>add_to_cart_order</th>\n",
       "      <th>reordered</th>\n",
       "    </tr>\n",
       "  </thead>\n",
       "  <tbody>\n",
       "    <tr>\n",
       "      <th>0</th>\n",
       "      <td>2</td>\n",
       "      <td>33120</td>\n",
       "      <td>1</td>\n",
       "      <td>1</td>\n",
       "    </tr>\n",
       "    <tr>\n",
       "      <th>1</th>\n",
       "      <td>2</td>\n",
       "      <td>28985</td>\n",
       "      <td>2</td>\n",
       "      <td>1</td>\n",
       "    </tr>\n",
       "    <tr>\n",
       "      <th>2</th>\n",
       "      <td>2</td>\n",
       "      <td>9327</td>\n",
       "      <td>3</td>\n",
       "      <td>0</td>\n",
       "    </tr>\n",
       "    <tr>\n",
       "      <th>3</th>\n",
       "      <td>2</td>\n",
       "      <td>45918</td>\n",
       "      <td>4</td>\n",
       "      <td>1</td>\n",
       "    </tr>\n",
       "    <tr>\n",
       "      <th>4</th>\n",
       "      <td>2</td>\n",
       "      <td>30035</td>\n",
       "      <td>5</td>\n",
       "      <td>0</td>\n",
       "    </tr>\n",
       "  </tbody>\n",
       "</table>\n",
       "</div>"
      ],
      "text/plain": [
       "   order_id  product_id  add_to_cart_order  reordered\n",
       "0         2       33120                  1          1\n",
       "1         2       28985                  2          1\n",
       "2         2        9327                  3          0\n",
       "3         2       45918                  4          1\n",
       "4         2       30035                  5          0"
      ]
     },
     "execution_count": 6,
     "metadata": {},
     "output_type": "execute_result"
    }
   ],
   "source": [
    "# Check the output\n",
    "df_ords_prior.head()"
   ]
  },
  {
   "cell_type": "code",
   "execution_count": 7,
   "id": "9083a48d-eedc-4055-90a0-7c9b3f3014e6",
   "metadata": {},
   "outputs": [
    {
     "data": {
      "text/html": [
       "<div>\n",
       "<style scoped>\n",
       "    .dataframe tbody tr th:only-of-type {\n",
       "        vertical-align: middle;\n",
       "    }\n",
       "\n",
       "    .dataframe tbody tr th {\n",
       "        vertical-align: top;\n",
       "    }\n",
       "\n",
       "    .dataframe thead th {\n",
       "        text-align: right;\n",
       "    }\n",
       "</style>\n",
       "<table border=\"1\" class=\"dataframe\">\n",
       "  <thead>\n",
       "    <tr style=\"text-align: right;\">\n",
       "      <th></th>\n",
       "      <th>order_id</th>\n",
       "      <th>user_id</th>\n",
       "      <th>order_number</th>\n",
       "      <th>order_day_of_week</th>\n",
       "      <th>order_hour_of_day</th>\n",
       "      <th>days_since_prior_order</th>\n",
       "      <th>first_order</th>\n",
       "    </tr>\n",
       "  </thead>\n",
       "  <tbody>\n",
       "    <tr>\n",
       "      <th>0</th>\n",
       "      <td>2539329</td>\n",
       "      <td>1</td>\n",
       "      <td>1</td>\n",
       "      <td>2</td>\n",
       "      <td>8</td>\n",
       "      <td>NaN</td>\n",
       "      <td>True</td>\n",
       "    </tr>\n",
       "    <tr>\n",
       "      <th>1</th>\n",
       "      <td>2398795</td>\n",
       "      <td>1</td>\n",
       "      <td>2</td>\n",
       "      <td>3</td>\n",
       "      <td>7</td>\n",
       "      <td>15.0</td>\n",
       "      <td>False</td>\n",
       "    </tr>\n",
       "    <tr>\n",
       "      <th>2</th>\n",
       "      <td>473747</td>\n",
       "      <td>1</td>\n",
       "      <td>3</td>\n",
       "      <td>3</td>\n",
       "      <td>12</td>\n",
       "      <td>21.0</td>\n",
       "      <td>False</td>\n",
       "    </tr>\n",
       "    <tr>\n",
       "      <th>3</th>\n",
       "      <td>2254736</td>\n",
       "      <td>1</td>\n",
       "      <td>4</td>\n",
       "      <td>4</td>\n",
       "      <td>7</td>\n",
       "      <td>29.0</td>\n",
       "      <td>False</td>\n",
       "    </tr>\n",
       "    <tr>\n",
       "      <th>4</th>\n",
       "      <td>431534</td>\n",
       "      <td>1</td>\n",
       "      <td>5</td>\n",
       "      <td>4</td>\n",
       "      <td>15</td>\n",
       "      <td>28.0</td>\n",
       "      <td>False</td>\n",
       "    </tr>\n",
       "  </tbody>\n",
       "</table>\n",
       "</div>"
      ],
      "text/plain": [
       "   order_id  user_id  order_number  order_day_of_week  order_hour_of_day  days_since_prior_order  first_order\n",
       "0   2539329        1             1                  2                  8                     NaN         True\n",
       "1   2398795        1             2                  3                  7                    15.0        False\n",
       "2    473747        1             3                  3                 12                    21.0        False\n",
       "3   2254736        1             4                  4                  7                    29.0        False\n",
       "4    431534        1             5                  4                 15                    28.0        False"
      ]
     },
     "execution_count": 7,
     "metadata": {},
     "output_type": "execute_result"
    }
   ],
   "source": [
    "# Check the output of up-to-date version of \"orders data\"\n",
    "df_ords.head()"
   ]
  },
  {
   "cell_type": "markdown",
   "id": "d9cc58ca-7b4a-416f-8b2b-6d615c8e022d",
   "metadata": {},
   "source": [
    "### Consistency checks for \"**df_ords_prior**\""
   ]
  },
  {
   "cell_type": "markdown",
   "id": "2e09470b-de9e-46aa-bd82-59625f51732a",
   "metadata": {},
   "source": [
    "#### - Checking for mixed data types"
   ]
  },
  {
   "cell_type": "code",
   "execution_count": 8,
   "id": "6be7524b-1c40-475e-9c43-07b0b4be1320",
   "metadata": {},
   "outputs": [],
   "source": [
    "# Check for mixed data types\n",
    "for col in df_ords_prior.columns.tolist():\n",
    "    weird = (df_ords_prior[[col]].map(type) != df_ords_prior[[col]].iloc[0].apply(type)).any(axis = 1)\n",
    "    if len (df_ords_prior[weird]) > 0:\n",
    "             print('Data type:',(col))"
   ]
  },
  {
   "cell_type": "markdown",
   "id": "6da4e114-7e9d-4cfd-9ad5-943c740624b6",
   "metadata": {},
   "source": [
    "- No mixed data type found"
   ]
  },
  {
   "cell_type": "markdown",
   "id": "b726bf66-bfb6-4628-918c-86a9cc31e461",
   "metadata": {},
   "source": [
    "#### - Finding missing values in \"**df_ords_prior**\""
   ]
  },
  {
   "cell_type": "code",
   "execution_count": 9,
   "id": "145fe676-34c8-42af-9c51-cc08e76ffddf",
   "metadata": {},
   "outputs": [
    {
     "data": {
      "text/plain": [
       "order_id             0\n",
       "product_id           0\n",
       "add_to_cart_order    0\n",
       "reordered            0\n",
       "dtype: int64"
      ]
     },
     "execution_count": 9,
     "metadata": {},
     "output_type": "execute_result"
    }
   ],
   "source": [
    "# Check missing values\n",
    "df_ords_prior.isnull().sum()"
   ]
  },
  {
   "cell_type": "markdown",
   "id": "53419765-e7bc-41fe-9884-08b4968bcded",
   "metadata": {},
   "source": [
    "- No missing value"
   ]
  },
  {
   "cell_type": "markdown",
   "id": "924a960c-1e36-4cb6-8115-60a95027c60f",
   "metadata": {},
   "source": [
    "#### - Finding Duplicates"
   ]
  },
  {
   "cell_type": "code",
   "execution_count": 10,
   "id": "40e86edb-d3ae-4ffe-8148-ee65610c171a",
   "metadata": {},
   "outputs": [
    {
     "name": "stdout",
     "output_type": "stream",
     "text": [
      "No duplicates found!\n"
     ]
    }
   ],
   "source": [
    "# Check Duplicates\n",
    "df_dups = df_ords_prior[df_ords_prior.duplicated()]\n",
    "if df_dups.empty:\n",
    "    print(\"No duplicates found!\")\n",
    "else:\n",
    "    print(f\"Found{len(df_dups)} duplicates row(s):\")"
   ]
  },
  {
   "cell_type": "markdown",
   "id": "39bb0551-e2ae-433a-9922-52122ec2c6d2",
   "metadata": {},
   "source": [
    "#### - Checking Dimensions of Dataframes"
   ]
  },
  {
   "cell_type": "code",
   "execution_count": 11,
   "id": "ecfa7d21-b677-494c-b5c2-0fa59a6a60a1",
   "metadata": {},
   "outputs": [
    {
     "data": {
      "text/plain": [
       "(32434489, 4)"
      ]
     },
     "execution_count": 11,
     "metadata": {},
     "output_type": "execute_result"
    }
   ],
   "source": [
    "# Check dimension of \"df_ords_priro\"\n",
    "df_ords_prior.shape"
   ]
  },
  {
   "cell_type": "code",
   "execution_count": 12,
   "id": "9a936f03-cda4-4dc7-8b1e-3c7f29913736",
   "metadata": {},
   "outputs": [
    {
     "data": {
      "text/plain": [
       "(3421083, 7)"
      ]
     },
     "execution_count": 12,
     "metadata": {},
     "output_type": "execute_result"
    }
   ],
   "source": [
    "# Check dimensions of \"df_ords\"\n",
    "df_ords.shape"
   ]
  },
  {
   "cell_type": "markdown",
   "id": "2f0f9bac-99bd-4328-bf7a-6176560d75af",
   "metadata": {},
   "source": [
    "#### - Merging \"df_ords\" and \"df_ords_prior\" (common key: **order_id**)"
   ]
  },
  {
   "cell_type": "code",
   "execution_count": 13,
   "id": "32c84899-f475-451d-8e6d-d9d49fbaa8f9",
   "metadata": {},
   "outputs": [],
   "source": [
    "# Create new merged dataframe \"df_merged_large\"; Check match\n",
    "df_merged_large = df_ords.merge(df_ords_prior, on = 'order_id', indicator = True)"
   ]
  },
  {
   "cell_type": "code",
   "execution_count": 14,
   "id": "e64a83f6-6758-4866-ae86-95caa0d7a9c2",
   "metadata": {},
   "outputs": [
    {
     "data": {
      "text/html": [
       "<div>\n",
       "<style scoped>\n",
       "    .dataframe tbody tr th:only-of-type {\n",
       "        vertical-align: middle;\n",
       "    }\n",
       "\n",
       "    .dataframe tbody tr th {\n",
       "        vertical-align: top;\n",
       "    }\n",
       "\n",
       "    .dataframe thead th {\n",
       "        text-align: right;\n",
       "    }\n",
       "</style>\n",
       "<table border=\"1\" class=\"dataframe\">\n",
       "  <thead>\n",
       "    <tr style=\"text-align: right;\">\n",
       "      <th></th>\n",
       "      <th>order_id</th>\n",
       "      <th>user_id</th>\n",
       "      <th>order_number</th>\n",
       "      <th>order_day_of_week</th>\n",
       "      <th>order_hour_of_day</th>\n",
       "      <th>days_since_prior_order</th>\n",
       "      <th>first_order</th>\n",
       "      <th>product_id</th>\n",
       "      <th>add_to_cart_order</th>\n",
       "      <th>reordered</th>\n",
       "      <th>_merge</th>\n",
       "    </tr>\n",
       "  </thead>\n",
       "  <tbody>\n",
       "    <tr>\n",
       "      <th>0</th>\n",
       "      <td>2539329</td>\n",
       "      <td>1</td>\n",
       "      <td>1</td>\n",
       "      <td>2</td>\n",
       "      <td>8</td>\n",
       "      <td>NaN</td>\n",
       "      <td>True</td>\n",
       "      <td>196</td>\n",
       "      <td>1</td>\n",
       "      <td>0</td>\n",
       "      <td>both</td>\n",
       "    </tr>\n",
       "    <tr>\n",
       "      <th>1</th>\n",
       "      <td>2539329</td>\n",
       "      <td>1</td>\n",
       "      <td>1</td>\n",
       "      <td>2</td>\n",
       "      <td>8</td>\n",
       "      <td>NaN</td>\n",
       "      <td>True</td>\n",
       "      <td>14084</td>\n",
       "      <td>2</td>\n",
       "      <td>0</td>\n",
       "      <td>both</td>\n",
       "    </tr>\n",
       "    <tr>\n",
       "      <th>2</th>\n",
       "      <td>2539329</td>\n",
       "      <td>1</td>\n",
       "      <td>1</td>\n",
       "      <td>2</td>\n",
       "      <td>8</td>\n",
       "      <td>NaN</td>\n",
       "      <td>True</td>\n",
       "      <td>12427</td>\n",
       "      <td>3</td>\n",
       "      <td>0</td>\n",
       "      <td>both</td>\n",
       "    </tr>\n",
       "    <tr>\n",
       "      <th>3</th>\n",
       "      <td>2539329</td>\n",
       "      <td>1</td>\n",
       "      <td>1</td>\n",
       "      <td>2</td>\n",
       "      <td>8</td>\n",
       "      <td>NaN</td>\n",
       "      <td>True</td>\n",
       "      <td>26088</td>\n",
       "      <td>4</td>\n",
       "      <td>0</td>\n",
       "      <td>both</td>\n",
       "    </tr>\n",
       "    <tr>\n",
       "      <th>4</th>\n",
       "      <td>2539329</td>\n",
       "      <td>1</td>\n",
       "      <td>1</td>\n",
       "      <td>2</td>\n",
       "      <td>8</td>\n",
       "      <td>NaN</td>\n",
       "      <td>True</td>\n",
       "      <td>26405</td>\n",
       "      <td>5</td>\n",
       "      <td>0</td>\n",
       "      <td>both</td>\n",
       "    </tr>\n",
       "  </tbody>\n",
       "</table>\n",
       "</div>"
      ],
      "text/plain": [
       "   order_id  user_id  order_number  order_day_of_week  order_hour_of_day  days_since_prior_order  first_order  product_id  add_to_cart_order  reordered _merge\n",
       "0   2539329        1             1                  2                  8                     NaN         True         196                  1          0   both\n",
       "1   2539329        1             1                  2                  8                     NaN         True       14084                  2          0   both\n",
       "2   2539329        1             1                  2                  8                     NaN         True       12427                  3          0   both\n",
       "3   2539329        1             1                  2                  8                     NaN         True       26088                  4          0   both\n",
       "4   2539329        1             1                  2                  8                     NaN         True       26405                  5          0   both"
      ]
     },
     "execution_count": 14,
     "metadata": {},
     "output_type": "execute_result"
    }
   ],
   "source": [
    "# Check output (first 5 rows)\n",
    "df_merged_large.head()"
   ]
  },
  {
   "cell_type": "code",
   "execution_count": 15,
   "id": "9878d693-6012-41bf-823a-f6d4373971d1",
   "metadata": {},
   "outputs": [
    {
     "data": {
      "text/plain": [
       "(32434489, 11)"
      ]
     },
     "execution_count": 15,
     "metadata": {},
     "output_type": "execute_result"
    }
   ],
   "source": [
    "# Check dimensions of merged dataframe\n",
    "df_merged_large.shape"
   ]
  },
  {
   "cell_type": "code",
   "execution_count": 16,
   "id": "12ed616c-f72c-4f14-a3b8-9fdf378f5c3d",
   "metadata": {},
   "outputs": [
    {
     "data": {
      "text/plain": [
       "_merge\n",
       "both          32434489\n",
       "left_only            0\n",
       "right_only           0\n",
       "Name: count, dtype: int64"
      ]
     },
     "execution_count": 16,
     "metadata": {},
     "output_type": "execute_result"
    }
   ],
   "source": [
    "# Check matching criterion\n",
    "df_merged_large['_merge'].value_counts()"
   ]
  },
  {
   "cell_type": "code",
   "execution_count": 17,
   "id": "e8b49c30-f309-4926-a625-36d0cab9cf4a",
   "metadata": {},
   "outputs": [],
   "source": [
    "# Merge dataframe using \"outer join\"\n",
    "df_merged_large_outer = df_ords.merge(df_ords_prior, on = 'order_id', indicator = True, how = 'outer')"
   ]
  },
  {
   "cell_type": "code",
   "execution_count": 18,
   "id": "4cb6cbb0-5aca-48d4-a7c8-718cd450a764",
   "metadata": {},
   "outputs": [
    {
     "data": {
      "text/plain": [
       "_merge\n",
       "both          32434489\n",
       "left_only       206209\n",
       "right_only           0\n",
       "Name: count, dtype: int64"
      ]
     },
     "execution_count": 18,
     "metadata": {},
     "output_type": "execute_result"
    }
   ],
   "source": [
    "df_merged_large_outer['_merge'].value_counts()"
   ]
  },
  {
   "cell_type": "markdown",
   "id": "8e8d01ae-3a28-4cb9-8cfb-b5018df7d03c",
   "metadata": {},
   "source": [
    "##### *No full match between 2 dataframes*"
   ]
  },
  {
   "cell_type": "markdown",
   "id": "50ceb71c-e335-4b3d-9038-839ea0cc66e8",
   "metadata": {},
   "source": [
    "#### **Exporting Data in Pickle Format**"
   ]
  },
  {
   "cell_type": "markdown",
   "id": "cf704bb3-8462-40f1-a17a-fdcf28584606",
   "metadata": {},
   "source": [
    "#### - Dropping flagging column \"_merge\" for exporting\n",
    "--> no more necessary for further analysis"
   ]
  },
  {
   "cell_type": "code",
   "execution_count": 19,
   "id": "8813206a-4ac1-4896-a7e0-cba4f7e3a1ec",
   "metadata": {},
   "outputs": [],
   "source": [
    "# Drop the \"_merge\" column\n",
    "df_merged_large = df_merged_large.drop(columns=['_merge'])"
   ]
  },
  {
   "cell_type": "code",
   "execution_count": 20,
   "id": "81c673cf-fc87-4cd0-812d-6387b964ede4",
   "metadata": {},
   "outputs": [
    {
     "name": "stdout",
     "output_type": "stream",
     "text": [
      "<class 'pandas.core.frame.DataFrame'>\n",
      "RangeIndex: 32434489 entries, 0 to 32434488\n",
      "Data columns (total 10 columns):\n",
      " #   Column                  Dtype  \n",
      "---  ------                  -----  \n",
      " 0   order_id                int64  \n",
      " 1   user_id                 int64  \n",
      " 2   order_number            int64  \n",
      " 3   order_day_of_week       int64  \n",
      " 4   order_hour_of_day       int64  \n",
      " 5   days_since_prior_order  float64\n",
      " 6   first_order             bool   \n",
      " 7   product_id              int64  \n",
      " 8   add_to_cart_order       int64  \n",
      " 9   reordered               int64  \n",
      "dtypes: bool(1), float64(1), int64(8)\n",
      "memory usage: 2.2 GB\n"
     ]
    }
   ],
   "source": [
    "df_merged_large.info()"
   ]
  },
  {
   "cell_type": "code",
   "execution_count": 21,
   "id": "9ec68c80-eebc-4110-907e-84b2bb0de906",
   "metadata": {},
   "outputs": [],
   "source": [
    "# Changing data types to reduce file size\n",
    "df_merged_large['order_id'] = df_merged_large['order_id'].astype('int32')  \n",
    "df_merged_large['user_id'] = df_merged_large['user_id'].astype('int32')  \n",
    "df_merged_large['order_number'] = df_merged_large['order_number'].astype('int32')\n",
    "df_merged_large['order_day_of_week'] = df_merged_large['order_day_of_week'].astype('int32')  \n",
    "df_merged_large['order_hour_of_day'] = df_merged_large['order_hour_of_day'].astype('int32') \n",
    "df_merged_large['days_since_prior_order']  = df_merged_large['days_since_prior_order'].astype('float32')\n",
    "df_merged_large['product_id'] = df_merged_large['product_id'].astype('int32')  \n",
    "df_merged_large['add_to_cart_order'] = df_merged_large['add_to_cart_order'].astype('int32')  \n",
    "df_merged_large['reordered'] = df_merged_large['reordered'].astype('int32')"
   ]
  },
  {
   "cell_type": "code",
   "execution_count": 22,
   "id": "4367ef89-289d-4667-9385-e0d89420339c",
   "metadata": {},
   "outputs": [],
   "source": [
    "# Export data to csv\n",
    "df_merged_large.to_csv(os.path.join(path, '02 Data','Prepared Data', 'orders_products_combined.csv'))"
   ]
  },
  {
   "cell_type": "code",
   "execution_count": 23,
   "id": "3979abc1-291b-47bd-aa77-12ed45c02cfa",
   "metadata": {},
   "outputs": [
    {
     "name": "stdout",
     "output_type": "stream",
     "text": [
      "<class 'pandas.core.frame.DataFrame'>\n",
      "RangeIndex: 32434489 entries, 0 to 32434488\n",
      "Data columns (total 10 columns):\n",
      " #   Column                  Dtype  \n",
      "---  ------                  -----  \n",
      " 0   order_id                int32  \n",
      " 1   user_id                 int32  \n",
      " 2   order_number            int32  \n",
      " 3   order_day_of_week       int32  \n",
      " 4   order_hour_of_day       int32  \n",
      " 5   days_since_prior_order  float32\n",
      " 6   first_order             bool   \n",
      " 7   product_id              int32  \n",
      " 8   add_to_cart_order       int32  \n",
      " 9   reordered               int32  \n",
      "dtypes: bool(1), float32(1), int32(8)\n",
      "memory usage: 1.1 GB\n"
     ]
    }
   ],
   "source": [
    "df_merged_large.info()"
   ]
  },
  {
   "cell_type": "markdown",
   "id": "54314e9a-8079-4c75-a31f-27e3ac216ba4",
   "metadata": {},
   "source": [
    "### **Task 4.6**"
   ]
  },
  {
   "cell_type": "markdown",
   "id": "5266a684-7c12-4ac1-8a96-c7c516b2cb28",
   "metadata": {},
   "source": [
    "#### **Step 2: Export merged file in pickle format \"orders_products_combined\"**"
   ]
  },
  {
   "cell_type": "code",
   "execution_count": 24,
   "id": "6d394f41-2710-4278-801e-39e190e601a0",
   "metadata": {},
   "outputs": [],
   "source": [
    "# Export data to pkl\n",
    "df_merged_large.to_pickle(os.path.join(path, '02 Data','Prepared Data', 'orders_products_combined.pkl'))"
   ]
  },
  {
   "cell_type": "code",
   "execution_count": 25,
   "id": "8dee9ffe-51de-4bc1-bb97-0e79876c8c8d",
   "metadata": {},
   "outputs": [
    {
     "data": {
      "text/plain": [
       "(32434489, 10)"
      ]
     },
     "execution_count": 25,
     "metadata": {},
     "output_type": "execute_result"
    }
   ],
   "source": [
    "# Check shape\n",
    "df_merged_large.shape"
   ]
  },
  {
   "cell_type": "markdown",
   "id": "594e1509-b24b-4d08-bcfe-19317207149e",
   "metadata": {},
   "source": [
    "#### **Step 3: Import \"*orders_products_combined*\"**"
   ]
  },
  {
   "cell_type": "code",
   "execution_count": 26,
   "id": "63a51388-ddab-4ed6-9ab2-78eff9ba3221",
   "metadata": {},
   "outputs": [],
   "source": [
    "# Import combined dataframe (path to the folder reated above)\n",
    "df_orders_products_combined = pd.read_pickle(os.path.join(path, '02 Data', 'Prepared Data', 'orders_products_combined.pkl'))"
   ]
  },
  {
   "cell_type": "code",
   "execution_count": 27,
   "id": "a137612a-fe82-4042-90a3-acdacb9c709d",
   "metadata": {},
   "outputs": [
    {
     "data": {
      "text/html": [
       "<div>\n",
       "<style scoped>\n",
       "    .dataframe tbody tr th:only-of-type {\n",
       "        vertical-align: middle;\n",
       "    }\n",
       "\n",
       "    .dataframe tbody tr th {\n",
       "        vertical-align: top;\n",
       "    }\n",
       "\n",
       "    .dataframe thead th {\n",
       "        text-align: right;\n",
       "    }\n",
       "</style>\n",
       "<table border=\"1\" class=\"dataframe\">\n",
       "  <thead>\n",
       "    <tr style=\"text-align: right;\">\n",
       "      <th></th>\n",
       "      <th>order_id</th>\n",
       "      <th>user_id</th>\n",
       "      <th>order_number</th>\n",
       "      <th>order_day_of_week</th>\n",
       "      <th>order_hour_of_day</th>\n",
       "      <th>days_since_prior_order</th>\n",
       "      <th>first_order</th>\n",
       "      <th>product_id</th>\n",
       "      <th>add_to_cart_order</th>\n",
       "      <th>reordered</th>\n",
       "    </tr>\n",
       "  </thead>\n",
       "  <tbody>\n",
       "    <tr>\n",
       "      <th>0</th>\n",
       "      <td>2539329</td>\n",
       "      <td>1</td>\n",
       "      <td>1</td>\n",
       "      <td>2</td>\n",
       "      <td>8</td>\n",
       "      <td>NaN</td>\n",
       "      <td>True</td>\n",
       "      <td>196</td>\n",
       "      <td>1</td>\n",
       "      <td>0</td>\n",
       "    </tr>\n",
       "    <tr>\n",
       "      <th>1</th>\n",
       "      <td>2539329</td>\n",
       "      <td>1</td>\n",
       "      <td>1</td>\n",
       "      <td>2</td>\n",
       "      <td>8</td>\n",
       "      <td>NaN</td>\n",
       "      <td>True</td>\n",
       "      <td>14084</td>\n",
       "      <td>2</td>\n",
       "      <td>0</td>\n",
       "    </tr>\n",
       "    <tr>\n",
       "      <th>2</th>\n",
       "      <td>2539329</td>\n",
       "      <td>1</td>\n",
       "      <td>1</td>\n",
       "      <td>2</td>\n",
       "      <td>8</td>\n",
       "      <td>NaN</td>\n",
       "      <td>True</td>\n",
       "      <td>12427</td>\n",
       "      <td>3</td>\n",
       "      <td>0</td>\n",
       "    </tr>\n",
       "    <tr>\n",
       "      <th>3</th>\n",
       "      <td>2539329</td>\n",
       "      <td>1</td>\n",
       "      <td>1</td>\n",
       "      <td>2</td>\n",
       "      <td>8</td>\n",
       "      <td>NaN</td>\n",
       "      <td>True</td>\n",
       "      <td>26088</td>\n",
       "      <td>4</td>\n",
       "      <td>0</td>\n",
       "    </tr>\n",
       "    <tr>\n",
       "      <th>4</th>\n",
       "      <td>2539329</td>\n",
       "      <td>1</td>\n",
       "      <td>1</td>\n",
       "      <td>2</td>\n",
       "      <td>8</td>\n",
       "      <td>NaN</td>\n",
       "      <td>True</td>\n",
       "      <td>26405</td>\n",
       "      <td>5</td>\n",
       "      <td>0</td>\n",
       "    </tr>\n",
       "  </tbody>\n",
       "</table>\n",
       "</div>"
      ],
      "text/plain": [
       "   order_id  user_id  order_number  order_day_of_week  order_hour_of_day  days_since_prior_order  first_order  product_id  add_to_cart_order  reordered\n",
       "0   2539329        1             1                  2                  8                     NaN         True         196                  1          0\n",
       "1   2539329        1             1                  2                  8                     NaN         True       14084                  2          0\n",
       "2   2539329        1             1                  2                  8                     NaN         True       12427                  3          0\n",
       "3   2539329        1             1                  2                  8                     NaN         True       26088                  4          0\n",
       "4   2539329        1             1                  2                  8                     NaN         True       26405                  5          0"
      ]
     },
     "execution_count": 27,
     "metadata": {},
     "output_type": "execute_result"
    }
   ],
   "source": [
    "# Recall first 5 rows to check\n",
    "df_orders_products_combined.head()"
   ]
  },
  {
   "cell_type": "markdown",
   "id": "ea564048-fff3-4487-8d6d-6438ff93a41b",
   "metadata": {},
   "source": [
    "#### **Step 4: Check the shape of \"*orders_products_combined*\"**"
   ]
  },
  {
   "cell_type": "code",
   "execution_count": 28,
   "id": "4edebbea-f674-4769-b4fc-d4f022d8b200",
   "metadata": {},
   "outputs": [
    {
     "data": {
      "text/plain": [
       "(32434489, 10)"
      ]
     },
     "execution_count": 28,
     "metadata": {},
     "output_type": "execute_result"
    }
   ],
   "source": [
    "# Check shape\n",
    "df_orders_products_combined.shape"
   ]
  },
  {
   "cell_type": "code",
   "execution_count": 29,
   "id": "4a8fad8e-cc02-4f88-83e4-f68fe803a58c",
   "metadata": {},
   "outputs": [
    {
     "name": "stdout",
     "output_type": "stream",
     "text": [
      "Shape of df_merged_large: (32434489, 10)\n",
      "Shape of df_orders_products_combined: (32434489, 10)\n",
      "DataFrames are IDENTICAL.\n"
     ]
    }
   ],
   "source": [
    "# Compare shape of \"df_merged_large\" and \"orders_products_combined\"\n",
    "print('Shape of df_merged_large:', df_merged_large.shape)\n",
    "print('Shape of df_orders_products_combined:', df_orders_products_combined.shape)\n",
    "\n",
    "# Check if they are identical\n",
    "if df_merged_large.shape == df_orders_products_combined.shape:\n",
    "    print('DataFrames are IDENTICAL.')\n",
    "else:\n",
    "    print('DataFrames are DIFFERENT.')"
   ]
  },
  {
   "cell_type": "markdown",
   "id": "8103060f-2be8-42ba-9b41-8a0c023efd97",
   "metadata": {},
   "source": [
    "#### **Step 5: Combining *\"orders_products_combined\"* and wrangled, cleaned, and deduped dataframe of *\"products\"* data set**"
   ]
  },
  {
   "cell_type": "markdown",
   "id": "ae94f2e2-5a64-47d2-94af-121a138033ae",
   "metadata": {},
   "source": [
    "#### - Checking shape of DataFrames"
   ]
  },
  {
   "cell_type": "code",
   "execution_count": 30,
   "id": "d0c3de13-171d-466f-a2a3-28234422b3a5",
   "metadata": {
    "scrolled": true
   },
   "outputs": [
    {
     "name": "stdout",
     "output_type": "stream",
     "text": [
      "Shape of df_orders_products_combined: (32434489, 10)\n",
      "Shape of df_prods: (49672, 5)\n"
     ]
    }
   ],
   "source": [
    "# Checking shape of \"orders_products_combined\" and \"df_prods\" (products)\n",
    "print('Shape of df_orders_products_combined:', df_orders_products_combined.shape)\n",
    "print('Shape of df_prods:', df_prods.shape)"
   ]
  },
  {
   "cell_type": "code",
   "execution_count": 31,
   "id": "b8f609e7-1059-4a88-bd3b-7b3f972f67b3",
   "metadata": {},
   "outputs": [
    {
     "name": "stdout",
     "output_type": "stream",
     "text": [
      "<class 'pandas.core.frame.DataFrame'>\n",
      "RangeIndex: 49672 entries, 0 to 49671\n",
      "Data columns (total 5 columns):\n",
      " #   Column         Non-Null Count  Dtype  \n",
      "---  ------         --------------  -----  \n",
      " 0   product_id     49672 non-null  int64  \n",
      " 1   product_name   49672 non-null  object \n",
      " 2   aisle_id       49672 non-null  int64  \n",
      " 3   department_id  49672 non-null  int64  \n",
      " 4   prices         49672 non-null  float64\n",
      "dtypes: float64(1), int64(3), object(1)\n",
      "memory usage: 1.9+ MB\n"
     ]
    }
   ],
   "source": [
    "df_prods.info()"
   ]
  },
  {
   "cell_type": "code",
   "execution_count": 32,
   "id": "a6c71f1d-0aa0-4831-98c6-a4581ec1726c",
   "metadata": {},
   "outputs": [],
   "source": [
    "# Changing data type of_prods to match the data types of df_orders_products_combined\n",
    "df_prods['product_id'] = df_prods['product_id'].astype('int32')\n",
    "df_prods['aisle_id'] = df_prods['aisle_id'].astype('int32')\n",
    "df_prods['department_id'] = df_prods['department_id'].astype('int32')\n",
    "df_prods['prices'] = df_prods['prices'].astype('float32')"
   ]
  },
  {
   "cell_type": "code",
   "execution_count": 33,
   "id": "9916d494-1864-43b7-a4fb-10d83a6d6066",
   "metadata": {},
   "outputs": [
    {
     "name": "stdout",
     "output_type": "stream",
     "text": [
      "<class 'pandas.core.frame.DataFrame'>\n",
      "RangeIndex: 49672 entries, 0 to 49671\n",
      "Data columns (total 5 columns):\n",
      " #   Column         Non-Null Count  Dtype  \n",
      "---  ------         --------------  -----  \n",
      " 0   product_id     49672 non-null  int32  \n",
      " 1   product_name   49672 non-null  object \n",
      " 2   aisle_id       49672 non-null  int32  \n",
      " 3   department_id  49672 non-null  int32  \n",
      " 4   prices         49672 non-null  float32\n",
      "dtypes: float32(1), int32(3), object(1)\n",
      "memory usage: 1.1+ MB\n"
     ]
    }
   ],
   "source": [
    "# Confirming changes\n",
    "df_prods.info()"
   ]
  },
  {
   "cell_type": "markdown",
   "id": "83b041a7-8e2b-4789-9ea1-fe535b901415",
   "metadata": {},
   "source": [
    "#### - Checking for common key columns"
   ]
  },
  {
   "cell_type": "code",
   "execution_count": 34,
   "id": "270c1f42-8239-4611-a4f6-9b80cdb53e27",
   "metadata": {},
   "outputs": [
    {
     "data": {
      "text/html": [
       "<div>\n",
       "<style scoped>\n",
       "    .dataframe tbody tr th:only-of-type {\n",
       "        vertical-align: middle;\n",
       "    }\n",
       "\n",
       "    .dataframe tbody tr th {\n",
       "        vertical-align: top;\n",
       "    }\n",
       "\n",
       "    .dataframe thead th {\n",
       "        text-align: right;\n",
       "    }\n",
       "</style>\n",
       "<table border=\"1\" class=\"dataframe\">\n",
       "  <thead>\n",
       "    <tr style=\"text-align: right;\">\n",
       "      <th></th>\n",
       "      <th>product_id</th>\n",
       "      <th>product_name</th>\n",
       "      <th>aisle_id</th>\n",
       "      <th>department_id</th>\n",
       "      <th>prices</th>\n",
       "    </tr>\n",
       "  </thead>\n",
       "  <tbody>\n",
       "    <tr>\n",
       "      <th>0</th>\n",
       "      <td>1</td>\n",
       "      <td>Chocolate Sandwich Cookies</td>\n",
       "      <td>61</td>\n",
       "      <td>19</td>\n",
       "      <td>5.8</td>\n",
       "    </tr>\n",
       "    <tr>\n",
       "      <th>1</th>\n",
       "      <td>2</td>\n",
       "      <td>All-Seasons Salt</td>\n",
       "      <td>104</td>\n",
       "      <td>13</td>\n",
       "      <td>9.3</td>\n",
       "    </tr>\n",
       "    <tr>\n",
       "      <th>2</th>\n",
       "      <td>3</td>\n",
       "      <td>Robust Golden Unsweetened Oolong Tea</td>\n",
       "      <td>94</td>\n",
       "      <td>7</td>\n",
       "      <td>4.5</td>\n",
       "    </tr>\n",
       "    <tr>\n",
       "      <th>3</th>\n",
       "      <td>4</td>\n",
       "      <td>Smart Ones Classic Favorites Mini Rigatoni Wit...</td>\n",
       "      <td>38</td>\n",
       "      <td>1</td>\n",
       "      <td>10.5</td>\n",
       "    </tr>\n",
       "    <tr>\n",
       "      <th>4</th>\n",
       "      <td>5</td>\n",
       "      <td>Green Chile Anytime Sauce</td>\n",
       "      <td>5</td>\n",
       "      <td>13</td>\n",
       "      <td>4.3</td>\n",
       "    </tr>\n",
       "  </tbody>\n",
       "</table>\n",
       "</div>"
      ],
      "text/plain": [
       "   product_id                                       product_name  aisle_id  department_id  prices\n",
       "0           1                         Chocolate Sandwich Cookies        61             19     5.8\n",
       "1           2                                   All-Seasons Salt       104             13     9.3\n",
       "2           3               Robust Golden Unsweetened Oolong Tea        94              7     4.5\n",
       "3           4  Smart Ones Classic Favorites Mini Rigatoni Wit...        38              1    10.5\n",
       "4           5                          Green Chile Anytime Sauce         5             13     4.3"
      ]
     },
     "execution_count": 34,
     "metadata": {},
     "output_type": "execute_result"
    }
   ],
   "source": [
    "# Check output of products data set\n",
    "df_prods.head()"
   ]
  },
  {
   "cell_type": "code",
   "execution_count": 35,
   "id": "343dc3e9-a3c2-4a9f-9ed0-f33b3ddc80e9",
   "metadata": {},
   "outputs": [
    {
     "data": {
      "text/html": [
       "<div>\n",
       "<style scoped>\n",
       "    .dataframe tbody tr th:only-of-type {\n",
       "        vertical-align: middle;\n",
       "    }\n",
       "\n",
       "    .dataframe tbody tr th {\n",
       "        vertical-align: top;\n",
       "    }\n",
       "\n",
       "    .dataframe thead th {\n",
       "        text-align: right;\n",
       "    }\n",
       "</style>\n",
       "<table border=\"1\" class=\"dataframe\">\n",
       "  <thead>\n",
       "    <tr style=\"text-align: right;\">\n",
       "      <th></th>\n",
       "      <th>order_id</th>\n",
       "      <th>user_id</th>\n",
       "      <th>order_number</th>\n",
       "      <th>order_day_of_week</th>\n",
       "      <th>order_hour_of_day</th>\n",
       "      <th>days_since_prior_order</th>\n",
       "      <th>first_order</th>\n",
       "      <th>product_id</th>\n",
       "      <th>add_to_cart_order</th>\n",
       "      <th>reordered</th>\n",
       "    </tr>\n",
       "  </thead>\n",
       "  <tbody>\n",
       "    <tr>\n",
       "      <th>0</th>\n",
       "      <td>2539329</td>\n",
       "      <td>1</td>\n",
       "      <td>1</td>\n",
       "      <td>2</td>\n",
       "      <td>8</td>\n",
       "      <td>NaN</td>\n",
       "      <td>True</td>\n",
       "      <td>196</td>\n",
       "      <td>1</td>\n",
       "      <td>0</td>\n",
       "    </tr>\n",
       "    <tr>\n",
       "      <th>1</th>\n",
       "      <td>2539329</td>\n",
       "      <td>1</td>\n",
       "      <td>1</td>\n",
       "      <td>2</td>\n",
       "      <td>8</td>\n",
       "      <td>NaN</td>\n",
       "      <td>True</td>\n",
       "      <td>14084</td>\n",
       "      <td>2</td>\n",
       "      <td>0</td>\n",
       "    </tr>\n",
       "    <tr>\n",
       "      <th>2</th>\n",
       "      <td>2539329</td>\n",
       "      <td>1</td>\n",
       "      <td>1</td>\n",
       "      <td>2</td>\n",
       "      <td>8</td>\n",
       "      <td>NaN</td>\n",
       "      <td>True</td>\n",
       "      <td>12427</td>\n",
       "      <td>3</td>\n",
       "      <td>0</td>\n",
       "    </tr>\n",
       "    <tr>\n",
       "      <th>3</th>\n",
       "      <td>2539329</td>\n",
       "      <td>1</td>\n",
       "      <td>1</td>\n",
       "      <td>2</td>\n",
       "      <td>8</td>\n",
       "      <td>NaN</td>\n",
       "      <td>True</td>\n",
       "      <td>26088</td>\n",
       "      <td>4</td>\n",
       "      <td>0</td>\n",
       "    </tr>\n",
       "    <tr>\n",
       "      <th>4</th>\n",
       "      <td>2539329</td>\n",
       "      <td>1</td>\n",
       "      <td>1</td>\n",
       "      <td>2</td>\n",
       "      <td>8</td>\n",
       "      <td>NaN</td>\n",
       "      <td>True</td>\n",
       "      <td>26405</td>\n",
       "      <td>5</td>\n",
       "      <td>0</td>\n",
       "    </tr>\n",
       "  </tbody>\n",
       "</table>\n",
       "</div>"
      ],
      "text/plain": [
       "   order_id  user_id  order_number  order_day_of_week  order_hour_of_day  days_since_prior_order  first_order  product_id  add_to_cart_order  reordered\n",
       "0   2539329        1             1                  2                  8                     NaN         True         196                  1          0\n",
       "1   2539329        1             1                  2                  8                     NaN         True       14084                  2          0\n",
       "2   2539329        1             1                  2                  8                     NaN         True       12427                  3          0\n",
       "3   2539329        1             1                  2                  8                     NaN         True       26088                  4          0\n",
       "4   2539329        1             1                  2                  8                     NaN         True       26405                  5          0"
      ]
     },
     "execution_count": 35,
     "metadata": {},
     "output_type": "execute_result"
    }
   ],
   "source": [
    "# Check output for combined data set\n",
    "df_orders_products_combined.head()"
   ]
  },
  {
   "cell_type": "markdown",
   "id": "f5a5194e-9a97-4ad0-8af2-6a75aa2535f7",
   "metadata": {},
   "source": [
    "#### - Identifying \"common columns\""
   ]
  },
  {
   "cell_type": "code",
   "execution_count": 36,
   "id": "7f9357e2-4a5e-4d6f-a5fb-eb93001af588",
   "metadata": {},
   "outputs": [
    {
     "name": "stdout",
     "output_type": "stream",
     "text": [
      "Common column/s between both DataFrames: ['product_id']\n"
     ]
    }
   ],
   "source": [
    "# Find common columns\n",
    "common_columns = list(set(df_prods.columns) & set(df_orders_products_combined.columns))\n",
    "print('Common column/s between both DataFrames:', common_columns)"
   ]
  },
  {
   "cell_type": "code",
   "execution_count": 37,
   "id": "f12633b4-f86b-4aa3-a6e3-641bdfdb9f06",
   "metadata": {},
   "outputs": [
    {
     "data": {
      "text/plain": [
       "dtype('int32')"
      ]
     },
     "execution_count": 37,
     "metadata": {},
     "output_type": "execute_result"
    }
   ],
   "source": [
    "# Checking data type of product_id in df_orders_products_combined\n",
    "df_orders_products_combined['product_id'].dtype"
   ]
  },
  {
   "cell_type": "code",
   "execution_count": 38,
   "id": "f686a977-43e0-42af-b12e-d565fe0895f1",
   "metadata": {},
   "outputs": [
    {
     "data": {
      "text/plain": [
       "dtype('int32')"
      ]
     },
     "execution_count": 38,
     "metadata": {},
     "output_type": "execute_result"
    }
   ],
   "source": [
    "# Checking data type of product_id in df_prods\n",
    "df_prods['product_id'].dtype"
   ]
  },
  {
   "cell_type": "markdown",
   "id": "85bd260e-d10f-4d82-8b56-746baab6d6b8",
   "metadata": {},
   "source": [
    "#### - Merging DataFrames with default JOIN with common key \"product_id\""
   ]
  },
  {
   "cell_type": "code",
   "execution_count": 39,
   "id": "52fd54e1-0a6a-4aa2-831e-371989ce92ea",
   "metadata": {},
   "outputs": [],
   "source": [
    "# Create new merged dataframe \"df_merged_large\"; Check match\n",
    "df_prods_merged_large_inner = df_orders_products_combined.merge(df_prods, on = 'product_id', indicator = True)"
   ]
  },
  {
   "cell_type": "code",
   "execution_count": 40,
   "id": "87b5be6b-2d38-48d4-bfc5-19cf627b3f07",
   "metadata": {},
   "outputs": [
    {
     "data": {
      "text/html": [
       "<div>\n",
       "<style scoped>\n",
       "    .dataframe tbody tr th:only-of-type {\n",
       "        vertical-align: middle;\n",
       "    }\n",
       "\n",
       "    .dataframe tbody tr th {\n",
       "        vertical-align: top;\n",
       "    }\n",
       "\n",
       "    .dataframe thead th {\n",
       "        text-align: right;\n",
       "    }\n",
       "</style>\n",
       "<table border=\"1\" class=\"dataframe\">\n",
       "  <thead>\n",
       "    <tr style=\"text-align: right;\">\n",
       "      <th></th>\n",
       "      <th>order_id</th>\n",
       "      <th>user_id</th>\n",
       "      <th>order_number</th>\n",
       "      <th>order_day_of_week</th>\n",
       "      <th>order_hour_of_day</th>\n",
       "      <th>days_since_prior_order</th>\n",
       "      <th>first_order</th>\n",
       "      <th>product_id</th>\n",
       "      <th>add_to_cart_order</th>\n",
       "      <th>reordered</th>\n",
       "      <th>product_name</th>\n",
       "      <th>aisle_id</th>\n",
       "      <th>department_id</th>\n",
       "      <th>prices</th>\n",
       "      <th>_merge</th>\n",
       "    </tr>\n",
       "  </thead>\n",
       "  <tbody>\n",
       "    <tr>\n",
       "      <th>0</th>\n",
       "      <td>2539329</td>\n",
       "      <td>1</td>\n",
       "      <td>1</td>\n",
       "      <td>2</td>\n",
       "      <td>8</td>\n",
       "      <td>NaN</td>\n",
       "      <td>True</td>\n",
       "      <td>196</td>\n",
       "      <td>1</td>\n",
       "      <td>0</td>\n",
       "      <td>Soda</td>\n",
       "      <td>77</td>\n",
       "      <td>7</td>\n",
       "      <td>9.0</td>\n",
       "      <td>both</td>\n",
       "    </tr>\n",
       "    <tr>\n",
       "      <th>1</th>\n",
       "      <td>2539329</td>\n",
       "      <td>1</td>\n",
       "      <td>1</td>\n",
       "      <td>2</td>\n",
       "      <td>8</td>\n",
       "      <td>NaN</td>\n",
       "      <td>True</td>\n",
       "      <td>14084</td>\n",
       "      <td>2</td>\n",
       "      <td>0</td>\n",
       "      <td>Organic Unsweetened Vanilla Almond Milk</td>\n",
       "      <td>91</td>\n",
       "      <td>16</td>\n",
       "      <td>12.5</td>\n",
       "      <td>both</td>\n",
       "    </tr>\n",
       "    <tr>\n",
       "      <th>2</th>\n",
       "      <td>2539329</td>\n",
       "      <td>1</td>\n",
       "      <td>1</td>\n",
       "      <td>2</td>\n",
       "      <td>8</td>\n",
       "      <td>NaN</td>\n",
       "      <td>True</td>\n",
       "      <td>12427</td>\n",
       "      <td>3</td>\n",
       "      <td>0</td>\n",
       "      <td>Original Beef Jerky</td>\n",
       "      <td>23</td>\n",
       "      <td>19</td>\n",
       "      <td>4.4</td>\n",
       "      <td>both</td>\n",
       "    </tr>\n",
       "    <tr>\n",
       "      <th>3</th>\n",
       "      <td>2539329</td>\n",
       "      <td>1</td>\n",
       "      <td>1</td>\n",
       "      <td>2</td>\n",
       "      <td>8</td>\n",
       "      <td>NaN</td>\n",
       "      <td>True</td>\n",
       "      <td>26088</td>\n",
       "      <td>4</td>\n",
       "      <td>0</td>\n",
       "      <td>Aged White Cheddar Popcorn</td>\n",
       "      <td>23</td>\n",
       "      <td>19</td>\n",
       "      <td>4.7</td>\n",
       "      <td>both</td>\n",
       "    </tr>\n",
       "    <tr>\n",
       "      <th>4</th>\n",
       "      <td>2539329</td>\n",
       "      <td>1</td>\n",
       "      <td>1</td>\n",
       "      <td>2</td>\n",
       "      <td>8</td>\n",
       "      <td>NaN</td>\n",
       "      <td>True</td>\n",
       "      <td>26405</td>\n",
       "      <td>5</td>\n",
       "      <td>0</td>\n",
       "      <td>XL Pick-A-Size Paper Towel Rolls</td>\n",
       "      <td>54</td>\n",
       "      <td>17</td>\n",
       "      <td>1.0</td>\n",
       "      <td>both</td>\n",
       "    </tr>\n",
       "  </tbody>\n",
       "</table>\n",
       "</div>"
      ],
      "text/plain": [
       "   order_id  user_id  order_number  order_day_of_week  order_hour_of_day  days_since_prior_order  first_order  product_id  add_to_cart_order  reordered                             product_name  aisle_id  department_id  prices _merge\n",
       "0   2539329        1             1                  2                  8                     NaN         True         196                  1          0                                     Soda        77              7     9.0   both\n",
       "1   2539329        1             1                  2                  8                     NaN         True       14084                  2          0  Organic Unsweetened Vanilla Almond Milk        91             16    12.5   both\n",
       "2   2539329        1             1                  2                  8                     NaN         True       12427                  3          0                      Original Beef Jerky        23             19     4.4   both\n",
       "3   2539329        1             1                  2                  8                     NaN         True       26088                  4          0               Aged White Cheddar Popcorn        23             19     4.7   both\n",
       "4   2539329        1             1                  2                  8                     NaN         True       26405                  5          0         XL Pick-A-Size Paper Towel Rolls        54             17     1.0   both"
      ]
     },
     "execution_count": 40,
     "metadata": {},
     "output_type": "execute_result"
    }
   ],
   "source": [
    "# Check output\n",
    "df_prods_merged_large_inner.head()"
   ]
  },
  {
   "cell_type": "code",
   "execution_count": 41,
   "id": "37338c3f-7265-469f-b979-b9a273f4a823",
   "metadata": {},
   "outputs": [
    {
     "data": {
      "text/plain": [
       "_merge\n",
       "both          32404859\n",
       "left_only            0\n",
       "right_only           0\n",
       "Name: count, dtype: int64"
      ]
     },
     "execution_count": 41,
     "metadata": {},
     "output_type": "execute_result"
    }
   ],
   "source": [
    "# Check matching criterion - checking merge flag frequency\n",
    "df_prods_merged_large_inner['_merge'].value_counts()"
   ]
  },
  {
   "cell_type": "markdown",
   "id": "15afef8a-4f20-430d-a0dd-174fd886a084",
   "metadata": {},
   "source": [
    "#### **PERFECT MATCH:** Common key \"product_id\" exists in both DataFrames, which is ideal outcome, data intergrity is perfect. Let's verify this result with another JOIN type as follows."
   ]
  },
  {
   "cell_type": "markdown",
   "id": "6db4ada6-76ef-41a7-bdc1-c89b48e5453e",
   "metadata": {},
   "source": [
    "#### **Step 6: Confirm the results using merge flag**"
   ]
  },
  {
   "cell_type": "code",
   "execution_count": 42,
   "id": "bf6f3e3f-8681-4d59-9a75-4a49c55c140e",
   "metadata": {},
   "outputs": [],
   "source": [
    "# Merge dataframe using \"outer join\"\n",
    "df_prods_merged_large_outer = df_orders_products_combined.merge(df_prods, on = 'product_id', how = 'outer', indicator = True)"
   ]
  },
  {
   "cell_type": "code",
   "execution_count": 43,
   "id": "801d6cf4-6226-47b8-aa1d-92a3e2f515af",
   "metadata": {},
   "outputs": [
    {
     "data": {
      "text/plain": [
       "_merge\n",
       "both          32404859\n",
       "left_only        30200\n",
       "right_only          11\n",
       "Name: count, dtype: int64"
      ]
     },
     "execution_count": 43,
     "metadata": {},
     "output_type": "execute_result"
    }
   ],
   "source": [
    "# Check matching criterion - checking merge flag frequency\n",
    "df_prods_merged_large_outer['_merge'].value_counts()"
   ]
  },
  {
   "cell_type": "markdown",
   "id": "74a16d01-b6ed-4061-99a0-44bb1e6570da",
   "metadata": {},
   "source": [
    "**SOME UNMATCHED RECORDS:** We actually don't have a full match. There are 30,200 **product_id** which does not exist in df_prods. It verifies that the result from step 6 is correct, where the result from step 5 is not correct."
   ]
  },
  {
   "cell_type": "code",
   "execution_count": 44,
   "id": "44c0d870-3ba1-431c-b043-007953392f07",
   "metadata": {},
   "outputs": [
    {
     "data": {
      "text/plain": [
       "(32435070, 15)"
      ]
     },
     "execution_count": 44,
     "metadata": {},
     "output_type": "execute_result"
    }
   ],
   "source": [
    "# Check dimensions of merged dataframe with \"OUTER JOIN\" for checking\n",
    "df_prods_merged_large_outer.shape"
   ]
  },
  {
   "cell_type": "markdown",
   "id": "be82f8a5-e4cc-4da6-98b4-1b88be0fb287",
   "metadata": {},
   "source": [
    "#### Step 7: Export new merged DataFrame as **\"ords_prods_merge\"**"
   ]
  },
  {
   "cell_type": "markdown",
   "id": "f68d60c4-310f-4620-a4cc-979586936434",
   "metadata": {},
   "source": [
    "1. Drop flagging column \"_merge\" for exporting¶\n",
    "--> not required for analysis"
   ]
  },
  {
   "cell_type": "code",
   "execution_count": 45,
   "id": "e691aea6-9791-4a1a-9e0c-7876cab51fa8",
   "metadata": {},
   "outputs": [],
   "source": [
    "# Drop the \"_merge\" column\n",
    "df_prods_merged_large_inner = df_prods_merged_large_inner.drop(columns=['_merge'])"
   ]
  },
  {
   "cell_type": "code",
   "execution_count": 46,
   "id": "58d8e262-5b47-48c2-99ed-cc1c07c46ddf",
   "metadata": {},
   "outputs": [
    {
     "data": {
      "text/html": [
       "<div>\n",
       "<style scoped>\n",
       "    .dataframe tbody tr th:only-of-type {\n",
       "        vertical-align: middle;\n",
       "    }\n",
       "\n",
       "    .dataframe tbody tr th {\n",
       "        vertical-align: top;\n",
       "    }\n",
       "\n",
       "    .dataframe thead th {\n",
       "        text-align: right;\n",
       "    }\n",
       "</style>\n",
       "<table border=\"1\" class=\"dataframe\">\n",
       "  <thead>\n",
       "    <tr style=\"text-align: right;\">\n",
       "      <th></th>\n",
       "      <th>order_id</th>\n",
       "      <th>user_id</th>\n",
       "      <th>order_number</th>\n",
       "      <th>order_day_of_week</th>\n",
       "      <th>order_hour_of_day</th>\n",
       "      <th>days_since_prior_order</th>\n",
       "      <th>first_order</th>\n",
       "      <th>product_id</th>\n",
       "      <th>add_to_cart_order</th>\n",
       "      <th>reordered</th>\n",
       "      <th>product_name</th>\n",
       "      <th>aisle_id</th>\n",
       "      <th>department_id</th>\n",
       "      <th>prices</th>\n",
       "    </tr>\n",
       "  </thead>\n",
       "  <tbody>\n",
       "    <tr>\n",
       "      <th>0</th>\n",
       "      <td>2539329</td>\n",
       "      <td>1</td>\n",
       "      <td>1</td>\n",
       "      <td>2</td>\n",
       "      <td>8</td>\n",
       "      <td>NaN</td>\n",
       "      <td>True</td>\n",
       "      <td>196</td>\n",
       "      <td>1</td>\n",
       "      <td>0</td>\n",
       "      <td>Soda</td>\n",
       "      <td>77</td>\n",
       "      <td>7</td>\n",
       "      <td>9.0</td>\n",
       "    </tr>\n",
       "    <tr>\n",
       "      <th>1</th>\n",
       "      <td>2539329</td>\n",
       "      <td>1</td>\n",
       "      <td>1</td>\n",
       "      <td>2</td>\n",
       "      <td>8</td>\n",
       "      <td>NaN</td>\n",
       "      <td>True</td>\n",
       "      <td>14084</td>\n",
       "      <td>2</td>\n",
       "      <td>0</td>\n",
       "      <td>Organic Unsweetened Vanilla Almond Milk</td>\n",
       "      <td>91</td>\n",
       "      <td>16</td>\n",
       "      <td>12.5</td>\n",
       "    </tr>\n",
       "    <tr>\n",
       "      <th>2</th>\n",
       "      <td>2539329</td>\n",
       "      <td>1</td>\n",
       "      <td>1</td>\n",
       "      <td>2</td>\n",
       "      <td>8</td>\n",
       "      <td>NaN</td>\n",
       "      <td>True</td>\n",
       "      <td>12427</td>\n",
       "      <td>3</td>\n",
       "      <td>0</td>\n",
       "      <td>Original Beef Jerky</td>\n",
       "      <td>23</td>\n",
       "      <td>19</td>\n",
       "      <td>4.4</td>\n",
       "    </tr>\n",
       "    <tr>\n",
       "      <th>3</th>\n",
       "      <td>2539329</td>\n",
       "      <td>1</td>\n",
       "      <td>1</td>\n",
       "      <td>2</td>\n",
       "      <td>8</td>\n",
       "      <td>NaN</td>\n",
       "      <td>True</td>\n",
       "      <td>26088</td>\n",
       "      <td>4</td>\n",
       "      <td>0</td>\n",
       "      <td>Aged White Cheddar Popcorn</td>\n",
       "      <td>23</td>\n",
       "      <td>19</td>\n",
       "      <td>4.7</td>\n",
       "    </tr>\n",
       "    <tr>\n",
       "      <th>4</th>\n",
       "      <td>2539329</td>\n",
       "      <td>1</td>\n",
       "      <td>1</td>\n",
       "      <td>2</td>\n",
       "      <td>8</td>\n",
       "      <td>NaN</td>\n",
       "      <td>True</td>\n",
       "      <td>26405</td>\n",
       "      <td>5</td>\n",
       "      <td>0</td>\n",
       "      <td>XL Pick-A-Size Paper Towel Rolls</td>\n",
       "      <td>54</td>\n",
       "      <td>17</td>\n",
       "      <td>1.0</td>\n",
       "    </tr>\n",
       "  </tbody>\n",
       "</table>\n",
       "</div>"
      ],
      "text/plain": [
       "   order_id  user_id  order_number  order_day_of_week  order_hour_of_day  days_since_prior_order  first_order  product_id  add_to_cart_order  reordered                             product_name  aisle_id  department_id  prices\n",
       "0   2539329        1             1                  2                  8                     NaN         True         196                  1          0                                     Soda        77              7     9.0\n",
       "1   2539329        1             1                  2                  8                     NaN         True       14084                  2          0  Organic Unsweetened Vanilla Almond Milk        91             16    12.5\n",
       "2   2539329        1             1                  2                  8                     NaN         True       12427                  3          0                      Original Beef Jerky        23             19     4.4\n",
       "3   2539329        1             1                  2                  8                     NaN         True       26088                  4          0               Aged White Cheddar Popcorn        23             19     4.7\n",
       "4   2539329        1             1                  2                  8                     NaN         True       26405                  5          0         XL Pick-A-Size Paper Towel Rolls        54             17     1.0"
      ]
     },
     "execution_count": 46,
     "metadata": {},
     "output_type": "execute_result"
    }
   ],
   "source": [
    "df_prods_merged_large_inner.head()"
   ]
  },
  {
   "cell_type": "code",
   "execution_count": 47,
   "id": "f6d21ff9-b697-42bd-9eb3-7db0084ca20b",
   "metadata": {},
   "outputs": [],
   "source": [
    "# Export data to pkl\n",
    "df_prods_merged_large_inner.to_pickle(os.path.join(path, '02 Data','Prepared Data', 'ords_prods_merge.pkl'))"
   ]
  },
  {
   "cell_type": "code",
   "execution_count": 48,
   "id": "c2534610-11f3-4b8b-8abf-73526414ab4e",
   "metadata": {},
   "outputs": [],
   "source": [
    "# Export data to csv\n",
    "df_prods_merged_large_inner.to_csv(os.path.join(path, '02 Data','Prepared Data', 'ords_prods_merge.csv'))"
   ]
  },
  {
   "cell_type": "code",
   "execution_count": 49,
   "id": "f700d6fa-a809-48b0-90ac-8a870e264ee7",
   "metadata": {},
   "outputs": [
    {
     "data": {
      "text/plain": [
       "(32404859, 14)"
      ]
     },
     "execution_count": 49,
     "metadata": {},
     "output_type": "execute_result"
    }
   ],
   "source": [
    "# Check shape of ddf_prods_merged_large_inner\n",
    "df_prods_merged_large_inner.shape"
   ]
  }
 ],
 "metadata": {
  "kernelspec": {
   "display_name": "Python (myenv)",
   "language": "python",
   "name": "myenv"
  },
  "language_info": {
   "codemirror_mode": {
    "name": "ipython",
    "version": 3
   },
   "file_extension": ".py",
   "mimetype": "text/x-python",
   "name": "python",
   "nbconvert_exporter": "python",
   "pygments_lexer": "ipython3",
   "version": "3.11.13"
  }
 },
 "nbformat": 4,
 "nbformat_minor": 5
}
