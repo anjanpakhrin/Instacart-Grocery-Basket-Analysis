{
 "cells": [
  {
   "cell_type": "markdown",
   "id": "e1ef5fb4-404e-442c-9475-858766101713",
   "metadata": {},
   "source": [
    "### 4.5: Data Consistency Checks"
   ]
  },
  {
   "cell_type": "code",
   "execution_count": 1,
   "id": "410a7cac-bed8-453f-9b9e-13eee16562bb",
   "metadata": {},
   "outputs": [],
   "source": [
    "# Import libraries\n",
    "import pandas as pd\n",
    "import numpy as nm\n",
    "import os"
   ]
  },
  {
   "cell_type": "code",
   "execution_count": 2,
   "id": "3aae4abf-c544-44d5-a9d8-c470947fd823",
   "metadata": {},
   "outputs": [],
   "source": [
    "# Set display options for better viewing\n",
    "pd.set_option('display.width', 1000)\n",
    "pd.set_option('display.max_columns', 100)  # Limit columns\n",
    "pd.set_option('display.max_rows', 50)      # Limit rows"
   ]
  },
  {
   "cell_type": "code",
   "execution_count": 3,
   "id": "04ba2ca6-4606-42e6-aeed-e9b40ca82b17",
   "metadata": {},
   "outputs": [],
   "source": [
    "# Create shortcut for data file\n",
    "path= r'/Users/anjanpakhrin/Documents/Instacart Basket Analysis'"
   ]
  },
  {
   "cell_type": "code",
   "execution_count": 4,
   "id": "9f3ae7fb-1b58-4071-9a41-cc083914ee35",
   "metadata": {},
   "outputs": [],
   "source": [
    "# Create path to data files\n",
    "df_ords = pd.read_csv(os.path.join(path, '02 Data', 'Prepared Data', 'orders_wrangled.csv'), index_col = False)\n",
    "df_prods = pd.read_csv(os.path.join(path, '02 Data', 'Original Data', 'products.csv'), index_col = False)"
   ]
  },
  {
   "cell_type": "code",
   "execution_count": 5,
   "id": "5c777a53-f9d4-4311-be7e-c3dd6e616e99",
   "metadata": {},
   "outputs": [
    {
     "data": {
      "text/html": [
       "<div>\n",
       "<style scoped>\n",
       "    .dataframe tbody tr th:only-of-type {\n",
       "        vertical-align: middle;\n",
       "    }\n",
       "\n",
       "    .dataframe tbody tr th {\n",
       "        vertical-align: top;\n",
       "    }\n",
       "\n",
       "    .dataframe thead th {\n",
       "        text-align: right;\n",
       "    }\n",
       "</style>\n",
       "<table border=\"1\" class=\"dataframe\">\n",
       "  <thead>\n",
       "    <tr style=\"text-align: right;\">\n",
       "      <th></th>\n",
       "      <th>order_id</th>\n",
       "      <th>user_id</th>\n",
       "      <th>order_number</th>\n",
       "      <th>order_day_of_week</th>\n",
       "      <th>order_hour_of_day</th>\n",
       "      <th>days_since_prior_order</th>\n",
       "    </tr>\n",
       "  </thead>\n",
       "  <tbody>\n",
       "    <tr>\n",
       "      <th>count</th>\n",
       "      <td>3.421083e+06</td>\n",
       "      <td>3.421083e+06</td>\n",
       "      <td>3.421083e+06</td>\n",
       "      <td>3.421083e+06</td>\n",
       "      <td>3.421083e+06</td>\n",
       "      <td>3.214874e+06</td>\n",
       "    </tr>\n",
       "    <tr>\n",
       "      <th>mean</th>\n",
       "      <td>1.710542e+06</td>\n",
       "      <td>1.029782e+05</td>\n",
       "      <td>1.715486e+01</td>\n",
       "      <td>2.776219e+00</td>\n",
       "      <td>1.345202e+01</td>\n",
       "      <td>1.111484e+01</td>\n",
       "    </tr>\n",
       "    <tr>\n",
       "      <th>std</th>\n",
       "      <td>9.875817e+05</td>\n",
       "      <td>5.953372e+04</td>\n",
       "      <td>1.773316e+01</td>\n",
       "      <td>2.046829e+00</td>\n",
       "      <td>4.226088e+00</td>\n",
       "      <td>9.206737e+00</td>\n",
       "    </tr>\n",
       "    <tr>\n",
       "      <th>min</th>\n",
       "      <td>1.000000e+00</td>\n",
       "      <td>1.000000e+00</td>\n",
       "      <td>1.000000e+00</td>\n",
       "      <td>0.000000e+00</td>\n",
       "      <td>0.000000e+00</td>\n",
       "      <td>0.000000e+00</td>\n",
       "    </tr>\n",
       "    <tr>\n",
       "      <th>25%</th>\n",
       "      <td>8.552715e+05</td>\n",
       "      <td>5.139400e+04</td>\n",
       "      <td>5.000000e+00</td>\n",
       "      <td>1.000000e+00</td>\n",
       "      <td>1.000000e+01</td>\n",
       "      <td>4.000000e+00</td>\n",
       "    </tr>\n",
       "    <tr>\n",
       "      <th>50%</th>\n",
       "      <td>1.710542e+06</td>\n",
       "      <td>1.026890e+05</td>\n",
       "      <td>1.100000e+01</td>\n",
       "      <td>3.000000e+00</td>\n",
       "      <td>1.300000e+01</td>\n",
       "      <td>7.000000e+00</td>\n",
       "    </tr>\n",
       "    <tr>\n",
       "      <th>75%</th>\n",
       "      <td>2.565812e+06</td>\n",
       "      <td>1.543850e+05</td>\n",
       "      <td>2.300000e+01</td>\n",
       "      <td>5.000000e+00</td>\n",
       "      <td>1.600000e+01</td>\n",
       "      <td>1.500000e+01</td>\n",
       "    </tr>\n",
       "    <tr>\n",
       "      <th>max</th>\n",
       "      <td>3.421083e+06</td>\n",
       "      <td>2.062090e+05</td>\n",
       "      <td>1.000000e+02</td>\n",
       "      <td>6.000000e+00</td>\n",
       "      <td>2.300000e+01</td>\n",
       "      <td>3.000000e+01</td>\n",
       "    </tr>\n",
       "  </tbody>\n",
       "</table>\n",
       "</div>"
      ],
      "text/plain": [
       "           order_id       user_id  order_number  order_day_of_week  order_hour_of_day  days_since_prior_order\n",
       "count  3.421083e+06  3.421083e+06  3.421083e+06       3.421083e+06       3.421083e+06            3.214874e+06\n",
       "mean   1.710542e+06  1.029782e+05  1.715486e+01       2.776219e+00       1.345202e+01            1.111484e+01\n",
       "std    9.875817e+05  5.953372e+04  1.773316e+01       2.046829e+00       4.226088e+00            9.206737e+00\n",
       "min    1.000000e+00  1.000000e+00  1.000000e+00       0.000000e+00       0.000000e+00            0.000000e+00\n",
       "25%    8.552715e+05  5.139400e+04  5.000000e+00       1.000000e+00       1.000000e+01            4.000000e+00\n",
       "50%    1.710542e+06  1.026890e+05  1.100000e+01       3.000000e+00       1.300000e+01            7.000000e+00\n",
       "75%    2.565812e+06  1.543850e+05  2.300000e+01       5.000000e+00       1.600000e+01            1.500000e+01\n",
       "max    3.421083e+06  2.062090e+05  1.000000e+02       6.000000e+00       2.300000e+01            3.000000e+01"
      ]
     },
     "execution_count": 5,
     "metadata": {},
     "output_type": "execute_result"
    }
   ],
   "source": [
    "# Descriptive Statistics for orders_wrangled.csv\n",
    "df_ords.describe()"
   ]
  },
  {
   "cell_type": "markdown",
   "id": "70a9af2b-218e-4513-9beb-403a2bd852d4",
   "metadata": {},
   "source": [
    "#### Mixed Data Types: Create New dataframe"
   ]
  },
  {
   "cell_type": "code",
   "execution_count": 6,
   "id": "d620fb49-2f5a-4149-98ec-a92a54a8eb43",
   "metadata": {},
   "outputs": [],
   "source": [
    "# create a dataframe\n",
    "df_test = pd.DataFrame()"
   ]
  },
  {
   "cell_type": "code",
   "execution_count": 7,
   "id": "dfe18347-4e27-4ea1-b30f-7744f18d1906",
   "metadata": {},
   "outputs": [],
   "source": [
    "# Create a Column with mixed Data Type [Column name: mix, 'a' and 'b': strings, 1: integer, True: bool]\n",
    "df_test['mix'] = ['a', 'b', 1, True]"
   ]
  },
  {
   "cell_type": "code",
   "execution_count": 8,
   "id": "17ed530f-15e4-4f3a-823a-12c67ac4fd05",
   "metadata": {},
   "outputs": [
    {
     "data": {
      "text/html": [
       "<div>\n",
       "<style scoped>\n",
       "    .dataframe tbody tr th:only-of-type {\n",
       "        vertical-align: middle;\n",
       "    }\n",
       "\n",
       "    .dataframe tbody tr th {\n",
       "        vertical-align: top;\n",
       "    }\n",
       "\n",
       "    .dataframe thead th {\n",
       "        text-align: right;\n",
       "    }\n",
       "</style>\n",
       "<table border=\"1\" class=\"dataframe\">\n",
       "  <thead>\n",
       "    <tr style=\"text-align: right;\">\n",
       "      <th></th>\n",
       "      <th>mix</th>\n",
       "    </tr>\n",
       "  </thead>\n",
       "  <tbody>\n",
       "    <tr>\n",
       "      <th>0</th>\n",
       "      <td>a</td>\n",
       "    </tr>\n",
       "    <tr>\n",
       "      <th>1</th>\n",
       "      <td>b</td>\n",
       "    </tr>\n",
       "    <tr>\n",
       "      <th>2</th>\n",
       "      <td>1</td>\n",
       "    </tr>\n",
       "    <tr>\n",
       "      <th>3</th>\n",
       "      <td>True</td>\n",
       "    </tr>\n",
       "  </tbody>\n",
       "</table>\n",
       "</div>"
      ],
      "text/plain": [
       "    mix\n",
       "0     a\n",
       "1     b\n",
       "2     1\n",
       "3  True"
      ]
     },
     "execution_count": 8,
     "metadata": {},
     "output_type": "execute_result"
    }
   ],
   "source": [
    "df_test.head()"
   ]
  },
  {
   "cell_type": "markdown",
   "id": "2c485405-c77e-4056-b911-2f5cd33030b7",
   "metadata": {},
   "source": [
    "#### Mixed Data Types: Check for Mixed Data Types"
   ]
  },
  {
   "cell_type": "code",
   "execution_count": 9,
   "id": "3eed9a2f-8134-4602-931d-022faaa2958e",
   "metadata": {},
   "outputs": [
    {
     "name": "stdout",
     "output_type": "stream",
     "text": [
      "Data type: mix\n"
     ]
    }
   ],
   "source": [
    "# Check for mixed data types\n",
    "for col in df_test.columns.tolist():\n",
    "    weird = (df_test[[col]].map(type) != df_test[[col]].iloc[0].apply(type)).any(axis = 1)\n",
    "    if len (df_test[weird]) > 0:\n",
    "             print('Data type:',(col))"
   ]
  },
  {
   "cell_type": "code",
   "execution_count": 10,
   "id": "bd538419-a95e-4728-a29f-87ff46cc20d0",
   "metadata": {},
   "outputs": [
    {
     "name": "stdout",
     "output_type": "stream",
     "text": [
      "Data type: mix\n"
     ]
    }
   ],
   "source": [
    "# Alternative way to check for mixed data types\n",
    "for col in df_test.columns:\n",
    "    # Get all the unique types in the column (ignoring missing values)\n",
    "    unique_types = df_test[col].dropna().map(type).nunique()\n",
    "    \n",
    "    # If there is more than 1 unique type, then the column is mixed\n",
    "    if unique_types > 1:\n",
    "        print('Data type:', (col))"
   ]
  },
  {
   "cell_type": "markdown",
   "id": "9b46ab46-6b73-458c-bded-79d389dda200",
   "metadata": {},
   "source": [
    "#### Mixed Data Types: Fixing Mixed Data Types"
   ]
  },
  {
   "cell_type": "code",
   "execution_count": 11,
   "id": "b543ed66-34a8-4425-92f8-cb811b955d00",
   "metadata": {},
   "outputs": [],
   "source": [
    "# Fixing data types: Set the data type for column\n",
    "df_test['mix'] = df_test['mix'].astype('str')"
   ]
  },
  {
   "cell_type": "code",
   "execution_count": 12,
   "id": "22d76f8b-a3e3-400e-a2cc-314abaa2f703",
   "metadata": {},
   "outputs": [
    {
     "name": "stdout",
     "output_type": "stream",
     "text": [
      "Data type after fix: object\n"
     ]
    }
   ],
   "source": [
    "# Checking data type for \"mix\" column\n",
    "print('Data type after fix:',df_test['mix'].dtype)"
   ]
  },
  {
   "cell_type": "markdown",
   "id": "2cedeffd-c850-4cf9-b3f7-1791304d4ec2",
   "metadata": {},
   "source": [
    "#### Missing Values: Finding Missing Values"
   ]
  },
  {
   "cell_type": "code",
   "execution_count": 13,
   "id": "85f4fb37-b01d-4598-be4f-1aa5372c2da0",
   "metadata": {},
   "outputs": [
    {
     "data": {
      "text/plain": [
       "product_id        0\n",
       "product_name     16\n",
       "aisle_id          0\n",
       "department_id     0\n",
       "prices            0\n",
       "dtype: int64"
      ]
     },
     "execution_count": 13,
     "metadata": {},
     "output_type": "execute_result"
    }
   ],
   "source": [
    "# Finding missing values in \"products.csv\"\n",
    "df_prods.isnull().sum()"
   ]
  },
  {
   "cell_type": "markdown",
   "id": "581865c8-9d2b-430a-9cf4-bdf1f62dc870",
   "metadata": {},
   "source": [
    "#### Missing Values: Creating Subset of Missing Values"
   ]
  },
  {
   "cell_type": "code",
   "execution_count": 14,
   "id": "6897f4c9-d1ba-4bcc-b4d8-19b5300fc4f8",
   "metadata": {},
   "outputs": [],
   "source": [
    "# Creating subset of observations with missing values (NaN values in product_name) \n",
    "df_nan = df_prods[df_prods['product_name'].isnull() == True]"
   ]
  },
  {
   "cell_type": "code",
   "execution_count": 15,
   "id": "c6c00be6-fd12-4c56-aa99-b45ab83a4d69",
   "metadata": {},
   "outputs": [
    {
     "data": {
      "text/html": [
       "<div>\n",
       "<style scoped>\n",
       "    .dataframe tbody tr th:only-of-type {\n",
       "        vertical-align: middle;\n",
       "    }\n",
       "\n",
       "    .dataframe tbody tr th {\n",
       "        vertical-align: top;\n",
       "    }\n",
       "\n",
       "    .dataframe thead th {\n",
       "        text-align: right;\n",
       "    }\n",
       "</style>\n",
       "<table border=\"1\" class=\"dataframe\">\n",
       "  <thead>\n",
       "    <tr style=\"text-align: right;\">\n",
       "      <th></th>\n",
       "      <th>product_id</th>\n",
       "      <th>product_name</th>\n",
       "      <th>aisle_id</th>\n",
       "      <th>department_id</th>\n",
       "      <th>prices</th>\n",
       "    </tr>\n",
       "  </thead>\n",
       "  <tbody>\n",
       "    <tr>\n",
       "      <th>33</th>\n",
       "      <td>34</td>\n",
       "      <td>NaN</td>\n",
       "      <td>121</td>\n",
       "      <td>14</td>\n",
       "      <td>12.2</td>\n",
       "    </tr>\n",
       "    <tr>\n",
       "      <th>68</th>\n",
       "      <td>69</td>\n",
       "      <td>NaN</td>\n",
       "      <td>26</td>\n",
       "      <td>7</td>\n",
       "      <td>11.8</td>\n",
       "    </tr>\n",
       "    <tr>\n",
       "      <th>115</th>\n",
       "      <td>116</td>\n",
       "      <td>NaN</td>\n",
       "      <td>93</td>\n",
       "      <td>3</td>\n",
       "      <td>10.8</td>\n",
       "    </tr>\n",
       "    <tr>\n",
       "      <th>261</th>\n",
       "      <td>262</td>\n",
       "      <td>NaN</td>\n",
       "      <td>110</td>\n",
       "      <td>13</td>\n",
       "      <td>12.1</td>\n",
       "    </tr>\n",
       "    <tr>\n",
       "      <th>525</th>\n",
       "      <td>525</td>\n",
       "      <td>NaN</td>\n",
       "      <td>109</td>\n",
       "      <td>11</td>\n",
       "      <td>1.2</td>\n",
       "    </tr>\n",
       "    <tr>\n",
       "      <th>1511</th>\n",
       "      <td>1511</td>\n",
       "      <td>NaN</td>\n",
       "      <td>84</td>\n",
       "      <td>16</td>\n",
       "      <td>14.3</td>\n",
       "    </tr>\n",
       "    <tr>\n",
       "      <th>1780</th>\n",
       "      <td>1780</td>\n",
       "      <td>NaN</td>\n",
       "      <td>126</td>\n",
       "      <td>11</td>\n",
       "      <td>12.3</td>\n",
       "    </tr>\n",
       "    <tr>\n",
       "      <th>2240</th>\n",
       "      <td>2240</td>\n",
       "      <td>NaN</td>\n",
       "      <td>52</td>\n",
       "      <td>1</td>\n",
       "      <td>14.2</td>\n",
       "    </tr>\n",
       "    <tr>\n",
       "      <th>2586</th>\n",
       "      <td>2586</td>\n",
       "      <td>NaN</td>\n",
       "      <td>104</td>\n",
       "      <td>13</td>\n",
       "      <td>12.4</td>\n",
       "    </tr>\n",
       "    <tr>\n",
       "      <th>3159</th>\n",
       "      <td>3159</td>\n",
       "      <td>NaN</td>\n",
       "      <td>126</td>\n",
       "      <td>11</td>\n",
       "      <td>13.1</td>\n",
       "    </tr>\n",
       "    <tr>\n",
       "      <th>3230</th>\n",
       "      <td>3230</td>\n",
       "      <td>NaN</td>\n",
       "      <td>120</td>\n",
       "      <td>16</td>\n",
       "      <td>14.4</td>\n",
       "    </tr>\n",
       "    <tr>\n",
       "      <th>3736</th>\n",
       "      <td>3736</td>\n",
       "      <td>NaN</td>\n",
       "      <td>41</td>\n",
       "      <td>8</td>\n",
       "      <td>14.8</td>\n",
       "    </tr>\n",
       "    <tr>\n",
       "      <th>4283</th>\n",
       "      <td>4283</td>\n",
       "      <td>NaN</td>\n",
       "      <td>77</td>\n",
       "      <td>7</td>\n",
       "      <td>14.4</td>\n",
       "    </tr>\n",
       "    <tr>\n",
       "      <th>4790</th>\n",
       "      <td>4790</td>\n",
       "      <td>NaN</td>\n",
       "      <td>91</td>\n",
       "      <td>16</td>\n",
       "      <td>14.5</td>\n",
       "    </tr>\n",
       "    <tr>\n",
       "      <th>38187</th>\n",
       "      <td>38183</td>\n",
       "      <td>NaN</td>\n",
       "      <td>39</td>\n",
       "      <td>12</td>\n",
       "      <td>20.9</td>\n",
       "    </tr>\n",
       "    <tr>\n",
       "      <th>40444</th>\n",
       "      <td>40440</td>\n",
       "      <td>NaN</td>\n",
       "      <td>120</td>\n",
       "      <td>16</td>\n",
       "      <td>14.8</td>\n",
       "    </tr>\n",
       "  </tbody>\n",
       "</table>\n",
       "</div>"
      ],
      "text/plain": [
       "       product_id product_name  aisle_id  department_id  prices\n",
       "33             34          NaN       121             14    12.2\n",
       "68             69          NaN        26              7    11.8\n",
       "115           116          NaN        93              3    10.8\n",
       "261           262          NaN       110             13    12.1\n",
       "525           525          NaN       109             11     1.2\n",
       "1511         1511          NaN        84             16    14.3\n",
       "1780         1780          NaN       126             11    12.3\n",
       "2240         2240          NaN        52              1    14.2\n",
       "2586         2586          NaN       104             13    12.4\n",
       "3159         3159          NaN       126             11    13.1\n",
       "3230         3230          NaN       120             16    14.4\n",
       "3736         3736          NaN        41              8    14.8\n",
       "4283         4283          NaN        77              7    14.4\n",
       "4790         4790          NaN        91             16    14.5\n",
       "38187       38183          NaN        39             12    20.9\n",
       "40444       40440          NaN       120             16    14.8"
      ]
     },
     "execution_count": 15,
     "metadata": {},
     "output_type": "execute_result"
    }
   ],
   "source": [
    "df_nan"
   ]
  },
  {
   "cell_type": "markdown",
   "id": "610afa4a-8515-40e2-bb7b-a106a82a5f29",
   "metadata": {},
   "source": [
    "#### Addressing Missing Values\n",
    "1. Create a new variable that acts like a flag based on the missing value\n",
    "2. Impute the value with the mean or median of the column (if the variable is numeric)\n",
    "3. Remove or filter out the missing data"
   ]
  },
  {
   "cell_type": "code",
   "execution_count": 16,
   "id": "15aea77b-4e0c-46ad-a97a-684b8893694a",
   "metadata": {},
   "outputs": [
    {
     "data": {
      "text/plain": [
       "(49693, 5)"
      ]
     },
     "execution_count": 16,
     "metadata": {},
     "output_type": "execute_result"
    }
   ],
   "source": [
    "# Return number of rows and columns in df_prods\n",
    "df_prods.shape"
   ]
  },
  {
   "cell_type": "code",
   "execution_count": 17,
   "id": "f002eba9-6284-406c-a7e1-c872903728ff",
   "metadata": {},
   "outputs": [],
   "source": [
    "# Create new dataframe df_prods_clean (dataframe after cleaning/filtering missing values)\n",
    "df_prods_clean = df_prods[df_prods['product_name'].isnull() == False]"
   ]
  },
  {
   "cell_type": "code",
   "execution_count": 18,
   "id": "d298b242-3054-4f70-907d-c9bd036decb0",
   "metadata": {},
   "outputs": [
    {
     "data": {
      "text/plain": [
       "(49677, 5)"
      ]
     },
     "execution_count": 18,
     "metadata": {},
     "output_type": "execute_result"
    }
   ],
   "source": [
    "df_prods_clean.shape"
   ]
  },
  {
   "cell_type": "markdown",
   "id": "4d1ea7df-8b83-4fb5-911a-b763074930d5",
   "metadata": {},
   "source": [
    "#### Duplicates: Finding duplicates"
   ]
  },
  {
   "cell_type": "code",
   "execution_count": 19,
   "id": "a5a6e90d-f5b5-498a-aa37-1cbf1212b267",
   "metadata": {},
   "outputs": [],
   "source": [
    "# Create subset of duplicates within dataframe (look for full duplicates)\n",
    "df_dups = df_prods_clean[df_prods_clean.duplicated()]"
   ]
  },
  {
   "cell_type": "code",
   "execution_count": 20,
   "id": "ad331545-f110-4527-896b-edef8389c4f4",
   "metadata": {},
   "outputs": [
    {
     "data": {
      "text/html": [
       "<div>\n",
       "<style scoped>\n",
       "    .dataframe tbody tr th:only-of-type {\n",
       "        vertical-align: middle;\n",
       "    }\n",
       "\n",
       "    .dataframe tbody tr th {\n",
       "        vertical-align: top;\n",
       "    }\n",
       "\n",
       "    .dataframe thead th {\n",
       "        text-align: right;\n",
       "    }\n",
       "</style>\n",
       "<table border=\"1\" class=\"dataframe\">\n",
       "  <thead>\n",
       "    <tr style=\"text-align: right;\">\n",
       "      <th></th>\n",
       "      <th>product_id</th>\n",
       "      <th>product_name</th>\n",
       "      <th>aisle_id</th>\n",
       "      <th>department_id</th>\n",
       "      <th>prices</th>\n",
       "    </tr>\n",
       "  </thead>\n",
       "  <tbody>\n",
       "    <tr>\n",
       "      <th>462</th>\n",
       "      <td>462</td>\n",
       "      <td>Fiber 4g Gummy Dietary Supplement</td>\n",
       "      <td>70</td>\n",
       "      <td>11</td>\n",
       "      <td>4.8</td>\n",
       "    </tr>\n",
       "    <tr>\n",
       "      <th>18459</th>\n",
       "      <td>18458</td>\n",
       "      <td>Ranger IPA</td>\n",
       "      <td>27</td>\n",
       "      <td>5</td>\n",
       "      <td>9.2</td>\n",
       "    </tr>\n",
       "    <tr>\n",
       "      <th>26810</th>\n",
       "      <td>26808</td>\n",
       "      <td>Black House Coffee Roasty Stout Beer</td>\n",
       "      <td>27</td>\n",
       "      <td>5</td>\n",
       "      <td>13.4</td>\n",
       "    </tr>\n",
       "    <tr>\n",
       "      <th>35309</th>\n",
       "      <td>35306</td>\n",
       "      <td>Gluten Free Organic Peanut Butter &amp; Chocolate ...</td>\n",
       "      <td>121</td>\n",
       "      <td>14</td>\n",
       "      <td>6.8</td>\n",
       "    </tr>\n",
       "    <tr>\n",
       "      <th>35495</th>\n",
       "      <td>35491</td>\n",
       "      <td>Adore Forever Body Wash</td>\n",
       "      <td>127</td>\n",
       "      <td>11</td>\n",
       "      <td>9.9</td>\n",
       "    </tr>\n",
       "  </tbody>\n",
       "</table>\n",
       "</div>"
      ],
      "text/plain": [
       "       product_id                                       product_name  aisle_id  department_id  prices\n",
       "462           462                  Fiber 4g Gummy Dietary Supplement        70             11     4.8\n",
       "18459       18458                                         Ranger IPA        27              5     9.2\n",
       "26810       26808               Black House Coffee Roasty Stout Beer        27              5    13.4\n",
       "35309       35306  Gluten Free Organic Peanut Butter & Chocolate ...       121             14     6.8\n",
       "35495       35491                            Adore Forever Body Wash       127             11     9.9"
      ]
     },
     "execution_count": 20,
     "metadata": {},
     "output_type": "execute_result"
    }
   ],
   "source": [
    "df_dups"
   ]
  },
  {
   "cell_type": "markdown",
   "id": "3d9df636-5b2f-4461-850c-56597e70e221",
   "metadata": {},
   "source": [
    "#### Addressing Duplicates\n",
    "Remove the duplicates"
   ]
  },
  {
   "cell_type": "code",
   "execution_count": 21,
   "id": "ed87aa04-1857-4853-a500-86ac36f08ea0",
   "metadata": {},
   "outputs": [
    {
     "name": "stdout",
     "output_type": "stream",
     "text": [
      "Rows, Columns before removing duplicates: (49677, 5)\n"
     ]
    }
   ],
   "source": [
    "# Checking dimensions of df_prods_clean before addressing duplicates\n",
    "print('Rows, Columns before removing duplicates:',df_prods_clean.shape)"
   ]
  },
  {
   "cell_type": "code",
   "execution_count": 22,
   "id": "06d59178-3e38-4d03-baac-c3756467177c",
   "metadata": {},
   "outputs": [],
   "source": [
    "# Remove duplicates\n",
    "df_prods_clean_no_dups = df_prods_clean.drop_duplicates()"
   ]
  },
  {
   "cell_type": "code",
   "execution_count": 23,
   "id": "5835108c-11f3-441c-9288-25327e204b9a",
   "metadata": {},
   "outputs": [
    {
     "name": "stdout",
     "output_type": "stream",
     "text": [
      "Rows, Columns after removing duplicates: (49672, 5)\n"
     ]
    }
   ],
   "source": [
    "print('Rows, Columns after removing duplicates:',df_prods_clean_no_dups.shape)"
   ]
  },
  {
   "cell_type": "code",
   "execution_count": 24,
   "id": "8aad8f31-c349-4bdd-bf03-eb29e63a263f",
   "metadata": {},
   "outputs": [],
   "source": [
    "# Export cleaned/checked dataframe \"products.csv\" to \"Prepared Data\" as \"products_checked\"\n",
    "df_prods_clean_no_dups.to_csv(os.path.join(path, '02 Data', 'Prepared Data', 'products_checked.csv'), index = False)"
   ]
  },
  {
   "cell_type": "markdown",
   "id": "0577f265-cb15-4e55-a115-d89e9bea23d0",
   "metadata": {},
   "source": [
    "### Task"
   ]
  },
  {
   "cell_type": "markdown",
   "id": "e0e3bc3e-d45d-45bd-9132-9eb72d26f269",
   "metadata": {},
   "source": [
    "#### Step 2"
   ]
  },
  {
   "cell_type": "code",
   "execution_count": 25,
   "id": "5092afcf-67ad-4900-8656-b26183e2cd53",
   "metadata": {},
   "outputs": [
    {
     "data": {
      "text/html": [
       "<div>\n",
       "<style scoped>\n",
       "    .dataframe tbody tr th:only-of-type {\n",
       "        vertical-align: middle;\n",
       "    }\n",
       "\n",
       "    .dataframe tbody tr th {\n",
       "        vertical-align: top;\n",
       "    }\n",
       "\n",
       "    .dataframe thead th {\n",
       "        text-align: right;\n",
       "    }\n",
       "</style>\n",
       "<table border=\"1\" class=\"dataframe\">\n",
       "  <thead>\n",
       "    <tr style=\"text-align: right;\">\n",
       "      <th></th>\n",
       "      <th>order_id</th>\n",
       "      <th>user_id</th>\n",
       "      <th>order_number</th>\n",
       "      <th>order_day_of_week</th>\n",
       "      <th>order_hour_of_day</th>\n",
       "      <th>days_since_prior_order</th>\n",
       "    </tr>\n",
       "  </thead>\n",
       "  <tbody>\n",
       "    <tr>\n",
       "      <th>count</th>\n",
       "      <td>3.421083e+06</td>\n",
       "      <td>3.421083e+06</td>\n",
       "      <td>3.421083e+06</td>\n",
       "      <td>3.421083e+06</td>\n",
       "      <td>3.421083e+06</td>\n",
       "      <td>3.214874e+06</td>\n",
       "    </tr>\n",
       "    <tr>\n",
       "      <th>mean</th>\n",
       "      <td>1.710542e+06</td>\n",
       "      <td>1.029782e+05</td>\n",
       "      <td>1.715486e+01</td>\n",
       "      <td>2.776219e+00</td>\n",
       "      <td>1.345202e+01</td>\n",
       "      <td>1.111484e+01</td>\n",
       "    </tr>\n",
       "    <tr>\n",
       "      <th>std</th>\n",
       "      <td>9.875817e+05</td>\n",
       "      <td>5.953372e+04</td>\n",
       "      <td>1.773316e+01</td>\n",
       "      <td>2.046829e+00</td>\n",
       "      <td>4.226088e+00</td>\n",
       "      <td>9.206737e+00</td>\n",
       "    </tr>\n",
       "    <tr>\n",
       "      <th>min</th>\n",
       "      <td>1.000000e+00</td>\n",
       "      <td>1.000000e+00</td>\n",
       "      <td>1.000000e+00</td>\n",
       "      <td>0.000000e+00</td>\n",
       "      <td>0.000000e+00</td>\n",
       "      <td>0.000000e+00</td>\n",
       "    </tr>\n",
       "    <tr>\n",
       "      <th>25%</th>\n",
       "      <td>8.552715e+05</td>\n",
       "      <td>5.139400e+04</td>\n",
       "      <td>5.000000e+00</td>\n",
       "      <td>1.000000e+00</td>\n",
       "      <td>1.000000e+01</td>\n",
       "      <td>4.000000e+00</td>\n",
       "    </tr>\n",
       "    <tr>\n",
       "      <th>50%</th>\n",
       "      <td>1.710542e+06</td>\n",
       "      <td>1.026890e+05</td>\n",
       "      <td>1.100000e+01</td>\n",
       "      <td>3.000000e+00</td>\n",
       "      <td>1.300000e+01</td>\n",
       "      <td>7.000000e+00</td>\n",
       "    </tr>\n",
       "    <tr>\n",
       "      <th>75%</th>\n",
       "      <td>2.565812e+06</td>\n",
       "      <td>1.543850e+05</td>\n",
       "      <td>2.300000e+01</td>\n",
       "      <td>5.000000e+00</td>\n",
       "      <td>1.600000e+01</td>\n",
       "      <td>1.500000e+01</td>\n",
       "    </tr>\n",
       "    <tr>\n",
       "      <th>max</th>\n",
       "      <td>3.421083e+06</td>\n",
       "      <td>2.062090e+05</td>\n",
       "      <td>1.000000e+02</td>\n",
       "      <td>6.000000e+00</td>\n",
       "      <td>2.300000e+01</td>\n",
       "      <td>3.000000e+01</td>\n",
       "    </tr>\n",
       "  </tbody>\n",
       "</table>\n",
       "</div>"
      ],
      "text/plain": [
       "           order_id       user_id  order_number  order_day_of_week  order_hour_of_day  days_since_prior_order\n",
       "count  3.421083e+06  3.421083e+06  3.421083e+06       3.421083e+06       3.421083e+06            3.214874e+06\n",
       "mean   1.710542e+06  1.029782e+05  1.715486e+01       2.776219e+00       1.345202e+01            1.111484e+01\n",
       "std    9.875817e+05  5.953372e+04  1.773316e+01       2.046829e+00       4.226088e+00            9.206737e+00\n",
       "min    1.000000e+00  1.000000e+00  1.000000e+00       0.000000e+00       0.000000e+00            0.000000e+00\n",
       "25%    8.552715e+05  5.139400e+04  5.000000e+00       1.000000e+00       1.000000e+01            4.000000e+00\n",
       "50%    1.710542e+06  1.026890e+05  1.100000e+01       3.000000e+00       1.300000e+01            7.000000e+00\n",
       "75%    2.565812e+06  1.543850e+05  2.300000e+01       5.000000e+00       1.600000e+01            1.500000e+01\n",
       "max    3.421083e+06  2.062090e+05  1.000000e+02       6.000000e+00       2.300000e+01            3.000000e+01"
      ]
     },
     "execution_count": 25,
     "metadata": {},
     "output_type": "execute_result"
    }
   ],
   "source": [
    "# Descriptive statistics \"df_ords\"\n",
    "df_ords.describe()"
   ]
  },
  {
   "cell_type": "markdown",
   "id": "0a1e869e-72dc-4933-bc6c-babc44019ac7",
   "metadata": {},
   "source": [
    "1. **order_day_of_week:** Values min = 0(Monday), max = 6(Sunday) give a total of exact 7 values for 7 days of the week. For instance, the column looks clean with other for example, 3 for the 50th percentile representing center of min and max.\n",
    "2. **order_hour_of_day:** Values seem consistent representing a 24-hour clock (0 = 12:00 AM, 23 = 11:00 PM)\n",
    "3. **days_since_prio_order:** The **count** for this column (3.21 million) is lower than for all other columns (3.42 million). This indicates there are missing values in this column. The **max** value seems high indicating a 30-day high gap between orders, which might be worth checking if it's a data entry error.\n",
    "4. **order_numer:** suspiciously max. value (100) in this column might be a data cap. "
   ]
  },
  {
   "cell_type": "markdown",
   "id": "5226a374-0335-4a90-af92-84707796e232",
   "metadata": {},
   "source": [
    "#### Step 3: Check mixed-type data in df_ords"
   ]
  },
  {
   "cell_type": "code",
   "execution_count": 26,
   "id": "2b990239-39c8-40d6-85bf-0109e5e9e1dc",
   "metadata": {},
   "outputs": [
    {
     "data": {
      "text/html": [
       "<div>\n",
       "<style scoped>\n",
       "    .dataframe tbody tr th:only-of-type {\n",
       "        vertical-align: middle;\n",
       "    }\n",
       "\n",
       "    .dataframe tbody tr th {\n",
       "        vertical-align: top;\n",
       "    }\n",
       "\n",
       "    .dataframe thead th {\n",
       "        text-align: right;\n",
       "    }\n",
       "</style>\n",
       "<table border=\"1\" class=\"dataframe\">\n",
       "  <thead>\n",
       "    <tr style=\"text-align: right;\">\n",
       "      <th></th>\n",
       "      <th>order_id</th>\n",
       "      <th>user_id</th>\n",
       "      <th>order_number</th>\n",
       "      <th>order_day_of_week</th>\n",
       "      <th>order_hour_of_day</th>\n",
       "      <th>days_since_prior_order</th>\n",
       "    </tr>\n",
       "  </thead>\n",
       "  <tbody>\n",
       "    <tr>\n",
       "      <th>0</th>\n",
       "      <td>2539329</td>\n",
       "      <td>1</td>\n",
       "      <td>1</td>\n",
       "      <td>2</td>\n",
       "      <td>8</td>\n",
       "      <td>NaN</td>\n",
       "    </tr>\n",
       "    <tr>\n",
       "      <th>1</th>\n",
       "      <td>2398795</td>\n",
       "      <td>1</td>\n",
       "      <td>2</td>\n",
       "      <td>3</td>\n",
       "      <td>7</td>\n",
       "      <td>15.0</td>\n",
       "    </tr>\n",
       "    <tr>\n",
       "      <th>2</th>\n",
       "      <td>473747</td>\n",
       "      <td>1</td>\n",
       "      <td>3</td>\n",
       "      <td>3</td>\n",
       "      <td>12</td>\n",
       "      <td>21.0</td>\n",
       "    </tr>\n",
       "    <tr>\n",
       "      <th>3</th>\n",
       "      <td>2254736</td>\n",
       "      <td>1</td>\n",
       "      <td>4</td>\n",
       "      <td>4</td>\n",
       "      <td>7</td>\n",
       "      <td>29.0</td>\n",
       "    </tr>\n",
       "    <tr>\n",
       "      <th>4</th>\n",
       "      <td>431534</td>\n",
       "      <td>1</td>\n",
       "      <td>5</td>\n",
       "      <td>4</td>\n",
       "      <td>15</td>\n",
       "      <td>28.0</td>\n",
       "    </tr>\n",
       "  </tbody>\n",
       "</table>\n",
       "</div>"
      ],
      "text/plain": [
       "   order_id  user_id  order_number  order_day_of_week  order_hour_of_day  days_since_prior_order\n",
       "0   2539329        1             1                  2                  8                     NaN\n",
       "1   2398795        1             2                  3                  7                    15.0\n",
       "2    473747        1             3                  3                 12                    21.0\n",
       "3   2254736        1             4                  4                  7                    29.0\n",
       "4    431534        1             5                  4                 15                    28.0"
      ]
     },
     "execution_count": 26,
     "metadata": {},
     "output_type": "execute_result"
    }
   ],
   "source": [
    "# Recall a few first rows of df_ords for visual check\n",
    "df_ords.head()"
   ]
  },
  {
   "cell_type": "markdown",
   "id": "f7c1578c-67e5-401b-8aae-7150761d7111",
   "metadata": {},
   "source": [
    "Since this few rows couldn't show the expected result if there are any columns existent in the dataframe, further checking with the query is required."
   ]
  },
  {
   "cell_type": "code",
   "execution_count": 27,
   "id": "6a6a7475-94a0-48c5-a5e8-03afad3a8629",
   "metadata": {},
   "outputs": [
    {
     "name": "stdout",
     "output_type": "stream",
     "text": [
      "No mixed data types found in df_ords.\n"
     ]
    }
   ],
   "source": [
    "# flag if any mixed type column is found\n",
    "mixed_type_found = False\n",
    "# Check for mixed data types\n",
    "for col in df_ords.columns.tolist():\n",
    "    weird = (df_ords[[col]].map(type) != df_ords[[col]].iloc[0].apply(type)).any(axis = 1)\n",
    "    if len (df_ords[weird]) > 0:\n",
    "        print('Mixed data types found in:',(col))\n",
    "        mixed_type_found = True\n",
    "# checking for flag\n",
    "if not mixed_type_found:\n",
    "    print('No mixed data types found in df_ords.')"
   ]
  },
  {
   "cell_type": "markdown",
   "id": "339e016c-fbc4-423e-9fcd-ca096dd1b598",
   "metadata": {},
   "source": [
    "#### Step 4: No mixed-type data found in dataframe **df_ords**"
   ]
  },
  {
   "cell_type": "markdown",
   "id": "488685c6-457a-4a1d-b0fb-0bbb0b9fc955",
   "metadata": {},
   "source": [
    "#### Step 5: Checking for missing values"
   ]
  },
  {
   "cell_type": "markdown",
   "id": "a11bc99f-017d-452b-95b6-aa8c5afc3b5e",
   "metadata": {},
   "source": [
    "Finding missing values in **df_ords**\n",
    "df_ords.isnull().sum()"
   ]
  },
  {
   "cell_type": "markdown",
   "id": "5bb13d82-4900-4742-a54c-a1363deb4261",
   "metadata": {},
   "source": [
    "As elaborated in step 2 there are 206209 missing values in the column **days_since_prior_order.** \n",
    "This column represents customer's the **first-ever order**, i.e., there is **no prior order** than\n",
    "this place by that customer. Therefore, missing values in this column are logical and expected, which\n",
    "can not be calculated.\n",
    "To give a visual hint creating a subset of missing values might be helpful."
   ]
  },
  {
   "cell_type": "code",
   "execution_count": 28,
   "id": "337ea189-494f-4fd6-9ef5-c2da4e117fbb",
   "metadata": {},
   "outputs": [],
   "source": [
    "# Creating a subset of observations with missing values in **days_siince_prior_order.**\n",
    "df_ords_nan = df_ords[df_ords['days_since_prior_order'].isnull() == True]"
   ]
  },
  {
   "cell_type": "code",
   "execution_count": 29,
   "id": "f58c4f9a-aa5c-47a7-bcda-e2159da45d0d",
   "metadata": {},
   "outputs": [
    {
     "data": {
      "text/html": [
       "<div>\n",
       "<style scoped>\n",
       "    .dataframe tbody tr th:only-of-type {\n",
       "        vertical-align: middle;\n",
       "    }\n",
       "\n",
       "    .dataframe tbody tr th {\n",
       "        vertical-align: top;\n",
       "    }\n",
       "\n",
       "    .dataframe thead th {\n",
       "        text-align: right;\n",
       "    }\n",
       "</style>\n",
       "<table border=\"1\" class=\"dataframe\">\n",
       "  <thead>\n",
       "    <tr style=\"text-align: right;\">\n",
       "      <th></th>\n",
       "      <th>order_id</th>\n",
       "      <th>user_id</th>\n",
       "      <th>order_number</th>\n",
       "      <th>order_day_of_week</th>\n",
       "      <th>order_hour_of_day</th>\n",
       "      <th>days_since_prior_order</th>\n",
       "    </tr>\n",
       "  </thead>\n",
       "  <tbody>\n",
       "    <tr>\n",
       "      <th>0</th>\n",
       "      <td>2539329</td>\n",
       "      <td>1</td>\n",
       "      <td>1</td>\n",
       "      <td>2</td>\n",
       "      <td>8</td>\n",
       "      <td>NaN</td>\n",
       "    </tr>\n",
       "    <tr>\n",
       "      <th>11</th>\n",
       "      <td>2168274</td>\n",
       "      <td>2</td>\n",
       "      <td>1</td>\n",
       "      <td>2</td>\n",
       "      <td>11</td>\n",
       "      <td>NaN</td>\n",
       "    </tr>\n",
       "    <tr>\n",
       "      <th>26</th>\n",
       "      <td>1374495</td>\n",
       "      <td>3</td>\n",
       "      <td>1</td>\n",
       "      <td>1</td>\n",
       "      <td>14</td>\n",
       "      <td>NaN</td>\n",
       "    </tr>\n",
       "    <tr>\n",
       "      <th>39</th>\n",
       "      <td>3343014</td>\n",
       "      <td>4</td>\n",
       "      <td>1</td>\n",
       "      <td>6</td>\n",
       "      <td>11</td>\n",
       "      <td>NaN</td>\n",
       "    </tr>\n",
       "    <tr>\n",
       "      <th>45</th>\n",
       "      <td>2717275</td>\n",
       "      <td>5</td>\n",
       "      <td>1</td>\n",
       "      <td>3</td>\n",
       "      <td>12</td>\n",
       "      <td>NaN</td>\n",
       "    </tr>\n",
       "  </tbody>\n",
       "</table>\n",
       "</div>"
      ],
      "text/plain": [
       "    order_id  user_id  order_number  order_day_of_week  order_hour_of_day  days_since_prior_order\n",
       "0    2539329        1             1                  2                  8                     NaN\n",
       "11   2168274        2             1                  2                 11                     NaN\n",
       "26   1374495        3             1                  1                 14                     NaN\n",
       "39   3343014        4             1                  6                 11                     NaN\n",
       "45   2717275        5             1                  3                 12                     NaN"
      ]
     },
     "execution_count": 29,
     "metadata": {},
     "output_type": "execute_result"
    }
   ],
   "source": [
    "# Return a few rows of missing subset dataframe\n",
    "df_ords_nan.head()"
   ]
  },
  {
   "cell_type": "code",
   "execution_count": 30,
   "id": "52f7f524-f96e-4e21-b2fd-5674802a3f15",
   "metadata": {},
   "outputs": [
    {
     "name": "stdout",
     "output_type": "stream",
     "text": [
      " order_id  user_id  order_number  order_day_of_week  order_hour_of_day  days_since_prior_order\n",
      "   947722       20             1                  1                 10                     NaN\n",
      "   157550       20             2                  3                 16                     2.0\n",
      "  3408319       20             3                  2                 11                     6.0\n",
      "  2741696       20             4                  2                 11                     7.0\n",
      "  1980631       20             5                  1                 11                    30.0\n",
      "   584586       59             1                  5                 15                     NaN\n",
      "  1385031       59             2                  1                 10                    24.0\n",
      "  2149689       59             3                  0                 10                     6.0\n",
      "  3050891       59             4                  2                 12                     2.0\n",
      "  2395967       59             5                  3                  9                    15.0\n",
      "  1071381       59             6                  2                 10                    20.0\n",
      "  2756878       59             7                  2                 11                    14.0\n",
      "  2994801       59             8                  3                 11                    29.0\n",
      "  1794276       59             9                  0                 21                    30.0\n",
      "  1625716       59            10                  4                  8                    11.0\n",
      "  1651215       59            11                  0                 12                    10.0\n"
     ]
    }
   ],
   "source": [
    "# Sampling the pattern of random users, for example user 20 and 59 to suppor the statement above\n",
    "df_sample = df_ords[df_ords['user_id'].isin([20, 59])].sort_values(by=['user_id', 'order_number'])\n",
    "\n",
    "# Displaying the pattern\n",
    "print(df_sample[['order_id', 'user_id', 'order_number', 'order_day_of_week', 'order_hour_of_day', \n",
    "                 'days_since_prior_order']].to_string(index=False))"
   ]
  },
  {
   "cell_type": "markdown",
   "id": "6f511a11-a3fa-45cb-91b0-34ecca185a97",
   "metadata": {},
   "source": [
    "#### Step 6: Addressing missing values\n",
    "As mentioned in step 5 these missing values are logical and expected, i.e., not the error. Deleting these rows would remove crucial data on customer acquisition. Filling with the mean would be illogical, as first order has no prior order. Using 0 would also mean that the customer placed another order on the exact same day, i.e., customer placed more than one orders on the exact same day. Therefore, creating a flag column would be the most appropriate method, i.e., the new column **first_order** simply keeps track of which orders we filled in."
   ]
  },
  {
   "cell_type": "code",
   "execution_count": 31,
   "id": "a3d2bc3a-de4e-4bec-9e46-0faa88b98503",
   "metadata": {},
   "outputs": [],
   "source": [
    "# Creating a flag for the very-first order\n",
    "df_ords_flag = df_ords.copy()\n",
    "df_ords_flag['first_order'] = df_ords_flag['days_since_prior_order'].isnull()"
   ]
  },
  {
   "cell_type": "code",
   "execution_count": 32,
   "id": "e15cc1f9-31ff-4ac1-b443-72c6d9350c1b",
   "metadata": {},
   "outputs": [
    {
     "data": {
      "text/html": [
       "<div>\n",
       "<style scoped>\n",
       "    .dataframe tbody tr th:only-of-type {\n",
       "        vertical-align: middle;\n",
       "    }\n",
       "\n",
       "    .dataframe tbody tr th {\n",
       "        vertical-align: top;\n",
       "    }\n",
       "\n",
       "    .dataframe thead th {\n",
       "        text-align: right;\n",
       "    }\n",
       "</style>\n",
       "<table border=\"1\" class=\"dataframe\">\n",
       "  <thead>\n",
       "    <tr style=\"text-align: right;\">\n",
       "      <th></th>\n",
       "      <th>order_id</th>\n",
       "      <th>user_id</th>\n",
       "      <th>order_number</th>\n",
       "      <th>order_day_of_week</th>\n",
       "      <th>order_hour_of_day</th>\n",
       "      <th>days_since_prior_order</th>\n",
       "      <th>first_order</th>\n",
       "    </tr>\n",
       "  </thead>\n",
       "  <tbody>\n",
       "    <tr>\n",
       "      <th>0</th>\n",
       "      <td>2539329</td>\n",
       "      <td>1</td>\n",
       "      <td>1</td>\n",
       "      <td>2</td>\n",
       "      <td>8</td>\n",
       "      <td>NaN</td>\n",
       "      <td>True</td>\n",
       "    </tr>\n",
       "    <tr>\n",
       "      <th>1</th>\n",
       "      <td>2398795</td>\n",
       "      <td>1</td>\n",
       "      <td>2</td>\n",
       "      <td>3</td>\n",
       "      <td>7</td>\n",
       "      <td>15.0</td>\n",
       "      <td>False</td>\n",
       "    </tr>\n",
       "    <tr>\n",
       "      <th>2</th>\n",
       "      <td>473747</td>\n",
       "      <td>1</td>\n",
       "      <td>3</td>\n",
       "      <td>3</td>\n",
       "      <td>12</td>\n",
       "      <td>21.0</td>\n",
       "      <td>False</td>\n",
       "    </tr>\n",
       "    <tr>\n",
       "      <th>3</th>\n",
       "      <td>2254736</td>\n",
       "      <td>1</td>\n",
       "      <td>4</td>\n",
       "      <td>4</td>\n",
       "      <td>7</td>\n",
       "      <td>29.0</td>\n",
       "      <td>False</td>\n",
       "    </tr>\n",
       "    <tr>\n",
       "      <th>4</th>\n",
       "      <td>431534</td>\n",
       "      <td>1</td>\n",
       "      <td>5</td>\n",
       "      <td>4</td>\n",
       "      <td>15</td>\n",
       "      <td>28.0</td>\n",
       "      <td>False</td>\n",
       "    </tr>\n",
       "  </tbody>\n",
       "</table>\n",
       "</div>"
      ],
      "text/plain": [
       "   order_id  user_id  order_number  order_day_of_week  order_hour_of_day  days_since_prior_order  first_order\n",
       "0   2539329        1             1                  2                  8                     NaN         True\n",
       "1   2398795        1             2                  3                  7                    15.0        False\n",
       "2    473747        1             3                  3                 12                    21.0        False\n",
       "3   2254736        1             4                  4                  7                    29.0        False\n",
       "4    431534        1             5                  4                 15                    28.0        False"
      ]
     },
     "execution_count": 32,
     "metadata": {},
     "output_type": "execute_result"
    }
   ],
   "source": [
    "# Recalling first 5 rows for visualizing\n",
    "df_ords_flag.head()"
   ]
  },
  {
   "cell_type": "markdown",
   "id": "ec222160-2679-4f9c-a8bb-14cfb4b3db77",
   "metadata": {},
   "source": [
    "#### Step 6: Addressing missing values - **No Action**\n",
    "NaN is not missing value in this case, rather represents a very-first order place by the customer, no further action is required."
   ]
  },
  {
   "cell_type": "code",
   "execution_count": 33,
   "id": "ea8ee377-2d2e-4e6d-a4c9-73495283382e",
   "metadata": {},
   "outputs": [
    {
     "data": {
      "text/html": [
       "<div>\n",
       "<style scoped>\n",
       "    .dataframe tbody tr th:only-of-type {\n",
       "        vertical-align: middle;\n",
       "    }\n",
       "\n",
       "    .dataframe tbody tr th {\n",
       "        vertical-align: top;\n",
       "    }\n",
       "\n",
       "    .dataframe thead th {\n",
       "        text-align: right;\n",
       "    }\n",
       "</style>\n",
       "<table border=\"1\" class=\"dataframe\">\n",
       "  <thead>\n",
       "    <tr style=\"text-align: right;\">\n",
       "      <th></th>\n",
       "      <th>order_id</th>\n",
       "      <th>user_id</th>\n",
       "      <th>order_number</th>\n",
       "      <th>order_day_of_week</th>\n",
       "      <th>order_hour_of_day</th>\n",
       "      <th>days_since_prior_order</th>\n",
       "      <th>first_order</th>\n",
       "    </tr>\n",
       "  </thead>\n",
       "  <tbody>\n",
       "    <tr>\n",
       "      <th>0</th>\n",
       "      <td>2539329</td>\n",
       "      <td>1</td>\n",
       "      <td>1</td>\n",
       "      <td>2</td>\n",
       "      <td>8</td>\n",
       "      <td>NaN</td>\n",
       "      <td>True</td>\n",
       "    </tr>\n",
       "    <tr>\n",
       "      <th>1</th>\n",
       "      <td>2398795</td>\n",
       "      <td>1</td>\n",
       "      <td>2</td>\n",
       "      <td>3</td>\n",
       "      <td>7</td>\n",
       "      <td>15.0</td>\n",
       "      <td>False</td>\n",
       "    </tr>\n",
       "    <tr>\n",
       "      <th>2</th>\n",
       "      <td>473747</td>\n",
       "      <td>1</td>\n",
       "      <td>3</td>\n",
       "      <td>3</td>\n",
       "      <td>12</td>\n",
       "      <td>21.0</td>\n",
       "      <td>False</td>\n",
       "    </tr>\n",
       "    <tr>\n",
       "      <th>3</th>\n",
       "      <td>2254736</td>\n",
       "      <td>1</td>\n",
       "      <td>4</td>\n",
       "      <td>4</td>\n",
       "      <td>7</td>\n",
       "      <td>29.0</td>\n",
       "      <td>False</td>\n",
       "    </tr>\n",
       "    <tr>\n",
       "      <th>4</th>\n",
       "      <td>431534</td>\n",
       "      <td>1</td>\n",
       "      <td>5</td>\n",
       "      <td>4</td>\n",
       "      <td>15</td>\n",
       "      <td>28.0</td>\n",
       "      <td>False</td>\n",
       "    </tr>\n",
       "  </tbody>\n",
       "</table>\n",
       "</div>"
      ],
      "text/plain": [
       "   order_id  user_id  order_number  order_day_of_week  order_hour_of_day  days_since_prior_order  first_order\n",
       "0   2539329        1             1                  2                  8                     NaN         True\n",
       "1   2398795        1             2                  3                  7                    15.0        False\n",
       "2    473747        1             3                  3                 12                    21.0        False\n",
       "3   2254736        1             4                  4                  7                    29.0        False\n",
       "4    431534        1             5                  4                 15                    28.0        False"
      ]
     },
     "execution_count": 33,
     "metadata": {},
     "output_type": "execute_result"
    }
   ],
   "source": [
    "# Recalling first rows for check\n",
    "df_ords_flag.head(5)"
   ]
  },
  {
   "cell_type": "markdown",
   "id": "f5d01da5-96ca-4310-9b00-0774fb1c88c2",
   "metadata": {},
   "source": [
    "#### Step 7: Checking Duplicates"
   ]
  },
  {
   "cell_type": "code",
   "execution_count": 34,
   "id": "d9597c90-9b5c-4afd-b855-6cdf2b6aa063",
   "metadata": {},
   "outputs": [],
   "source": [
    "# Subset of duplicates in df_ords_clean\n",
    "df_ords_dups = df_ords_flag[df_ords_flag.duplicated()]"
   ]
  },
  {
   "cell_type": "code",
   "execution_count": 35,
   "id": "65e275ab-46b1-4c62-91ac-c894f1623405",
   "metadata": {},
   "outputs": [
    {
     "data": {
      "text/html": [
       "<div>\n",
       "<style scoped>\n",
       "    .dataframe tbody tr th:only-of-type {\n",
       "        vertical-align: middle;\n",
       "    }\n",
       "\n",
       "    .dataframe tbody tr th {\n",
       "        vertical-align: top;\n",
       "    }\n",
       "\n",
       "    .dataframe thead th {\n",
       "        text-align: right;\n",
       "    }\n",
       "</style>\n",
       "<table border=\"1\" class=\"dataframe\">\n",
       "  <thead>\n",
       "    <tr style=\"text-align: right;\">\n",
       "      <th></th>\n",
       "      <th>order_id</th>\n",
       "      <th>user_id</th>\n",
       "      <th>order_number</th>\n",
       "      <th>order_day_of_week</th>\n",
       "      <th>order_hour_of_day</th>\n",
       "      <th>days_since_prior_order</th>\n",
       "      <th>first_order</th>\n",
       "    </tr>\n",
       "  </thead>\n",
       "  <tbody>\n",
       "  </tbody>\n",
       "</table>\n",
       "</div>"
      ],
      "text/plain": [
       "Empty DataFrame\n",
       "Columns: [order_id, user_id, order_number, order_day_of_week, order_hour_of_day, days_since_prior_order, first_order]\n",
       "Index: []"
      ]
     },
     "execution_count": 35,
     "metadata": {},
     "output_type": "execute_result"
    }
   ],
   "source": [
    "df_ords_dups"
   ]
  },
  {
   "cell_type": "markdown",
   "id": "8d8033e8-6deb-4d3a-92cc-1bde7c60f134",
   "metadata": {},
   "source": [
    "#### Step 8: No duplicates found --> Therefore, no further action required.\n",
    "Since no rows were deleted number of rows remains same. However the number of columns would be +1 than in the original products.csv.\n",
    "If duplicates were found, duplicates could be removed with **df_ords_flag_no_dups = df_ords_flag.drop_duplicates()**."
   ]
  },
  {
   "cell_type": "markdown",
   "id": "7d8d58a1-054d-410c-aea8-3e5b7e46b0bc",
   "metadata": {},
   "source": [
    "#### Step 9: Exporting final, cleaned dataframe"
   ]
  },
  {
   "cell_type": "code",
   "execution_count": 36,
   "id": "2cad7dca-589d-4eb9-a627-e2603c90eb56",
   "metadata": {},
   "outputs": [],
   "source": [
    "# Export cleaned/checked dataframe \"products.csv\" to \"Prepared Data\" as \"products_checked\"\n",
    "df_prods_clean_no_dups.to_csv(os.path.join(path, '02 Data', 'Prepared Data', 'products_checked.csv'), index = False)"
   ]
  },
  {
   "cell_type": "code",
   "execution_count": 37,
   "id": "9ed682cf-1b3d-43fc-912f-750dc5aa59bb",
   "metadata": {},
   "outputs": [],
   "source": [
    "# Export cleaned/checked dataframe \"orders.csv\" to \"Prepared Data\" as \"orders_checked\"\n",
    "df_ords_flag.to_csv(os.path.join(path, '02 Data', 'Prepared Data', 'orders_checked.csv'), index = False)"
   ]
  }
 ],
 "metadata": {
  "kernelspec": {
   "display_name": "Python (myenv)",
   "language": "python",
   "name": "myenv"
  },
  "language_info": {
   "codemirror_mode": {
    "name": "ipython",
    "version": 3
   },
   "file_extension": ".py",
   "mimetype": "text/x-python",
   "name": "python",
   "nbconvert_exporter": "python",
   "pygments_lexer": "ipython3",
   "version": "3.11.13"
  }
 },
 "nbformat": 4,
 "nbformat_minor": 5
}
