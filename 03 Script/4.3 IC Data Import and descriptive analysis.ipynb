{
 "cells": [
  {
   "cell_type": "markdown",
   "id": "9718731f-e7e7-4f43-add9-08b5df924500",
   "metadata": {},
   "source": [
    "### 01. Importing libraries"
   ]
  },
  {
   "cell_type": "code",
   "execution_count": 1,
   "id": "847b04cb-c45f-40ae-8d98-faedd4d2cce4",
   "metadata": {},
   "outputs": [],
   "source": [
    "# Import libraries\n",
    "import pandas as pd\n",
    "import numpy as np\n",
    "import os"
   ]
  },
  {
   "cell_type": "code",
   "execution_count": 2,
   "id": "825d6ea1-a837-4449-923d-d9506b9ca205",
   "metadata": {},
   "outputs": [],
   "source": [
    "# Set display options for better viewing\n",
    "pd.set_option('display.width', 1000)\n",
    "pd.set_option('display.max_columns', 100)  # Limit columns\n",
    "pd.set_option('display.max_rows', 50)      # Limit rows for large datasets"
   ]
  },
  {
   "cell_type": "markdown",
   "id": "334e4b8d-2652-497a-9c98-e6d65f002288",
   "metadata": {},
   "source": [
    "### 02. Importing Data"
   ]
  },
  {
   "cell_type": "markdown",
   "id": "05c609ca-180f-4eef-9d19-a0d1f9e779c2",
   "metadata": {},
   "source": [
    "#### Python Shortcut for Importing Data Files"
   ]
  },
  {
   "cell_type": "code",
   "execution_count": 3,
   "id": "1dfb74d9-dd89-4e52-aba1-e561ede152b8",
   "metadata": {},
   "outputs": [],
   "source": [
    "path = r'/Users/anjanpakhrin/Documents/Instacart Basket Analysis'"
   ]
  },
  {
   "cell_type": "code",
   "execution_count": 4,
   "id": "9e41afb3-98bd-4a1d-b64e-7abefff616c1",
   "metadata": {},
   "outputs": [],
   "source": [
    "# Create path to orders.csv\n",
    "df_orders = pd.read_csv(os.path.join(path, '02 Data', 'Original Data', 'orders.csv'), index_col = False)"
   ]
  },
  {
   "cell_type": "code",
   "execution_count": 5,
   "id": "26cd3cdb-8384-4d1b-856f-d52445d56c97",
   "metadata": {},
   "outputs": [
    {
     "data": {
      "text/plain": [
       "(3421083, 7)"
      ]
     },
     "execution_count": 5,
     "metadata": {},
     "output_type": "execute_result"
    }
   ],
   "source": [
    "df_orders.shape"
   ]
  },
  {
   "cell_type": "code",
   "execution_count": 6,
   "id": "d593db5b-a016-4f20-b98f-a3f8a8416cfb",
   "metadata": {},
   "outputs": [],
   "source": [
    "# Create vars_list omittiing the 'eval_set'\n",
    "vars_list = [col for col in df_orders.columns if col != 'eval_set']"
   ]
  },
  {
   "cell_type": "code",
   "execution_count": 7,
   "id": "9afc6874-4a99-433d-a858-b433474586ee",
   "metadata": {},
   "outputs": [],
   "source": [
    "# Apply vars_list\n",
    "df_orders = df_orders[vars_list]"
   ]
  },
  {
   "cell_type": "code",
   "execution_count": 8,
   "id": "87c56d2e-a785-401c-b3d9-efe6866680f3",
   "metadata": {},
   "outputs": [
    {
     "name": "stdout",
     "output_type": "stream",
     "text": [
      "   order_id  user_id  order_number  order_dow  order_hour_of_day  days_since_prior_order\n",
      "0   2539329        1             1          2                  8                     NaN\n",
      "1   2398795        1             2          3                  7                    15.0\n",
      "2    473747        1             3          3                 12                    21.0\n",
      "3   2254736        1             4          4                  7                    29.0\n",
      "4    431534        1             5          4                 15                    28.0\n"
     ]
    }
   ],
   "source": [
    "# Print the first 5 rows of datafram\n",
    "print(df_orders.head())"
   ]
  },
  {
   "cell_type": "markdown",
   "id": "d57fa248-288e-42df-9ca0-705bc47c2645",
   "metadata": {},
   "source": [
    "### Creating var_list VERSION 2"
   ]
  },
  {
   "cell_type": "code",
   "execution_count": 9,
   "id": "83b6a227-3874-4b28-98c9-4fc97cb6edbd",
   "metadata": {},
   "outputs": [],
   "source": [
    "var_list2 = ['order_id', 'user_id', 'order_number', 'order_dow', 'order_hour_of_day', 'days_since_prio']"
   ]
  },
  {
   "cell_type": "code",
   "execution_count": 10,
   "id": "2ee96ead-07f9-473b-b000-2dacd903eb8a",
   "metadata": {},
   "outputs": [
    {
     "data": {
      "text/plain": [
       "['order_id',\n",
       " 'user_id',\n",
       " 'order_number',\n",
       " 'order_dow',\n",
       " 'order_hour_of_day',\n",
       " 'days_since_prio']"
      ]
     },
     "execution_count": 10,
     "metadata": {},
     "output_type": "execute_result"
    }
   ],
   "source": [
    "var_list2"
   ]
  },
  {
   "cell_type": "raw",
   "id": "a61fca83-aabf-4817-9a86-0fc8bb5c3ed3",
   "metadata": {},
   "source": [
    "df_orders = pd.read_csv(os.path.join(path, '02 Data', 'Original Data', 'orders.csv'), usecols = var_list)"
   ]
  },
  {
   "cell_type": "code",
   "execution_count": 11,
   "id": "33992803-c15d-4145-af70-d7f3307edcea",
   "metadata": {},
   "outputs": [],
   "source": [
    "# Create path to products.csv\n",
    "df_prods = pd.read_csv(os.path.join(path, '02 Data', 'Original Data', 'products.csv'), index_col = False)"
   ]
  },
  {
   "cell_type": "code",
   "execution_count": 22,
   "id": "dfdc3594-7da4-4e54-95d3-570e926573dd",
   "metadata": {},
   "outputs": [
    {
     "data": {
      "text/plain": [
       "(49693, 5)"
      ]
     },
     "execution_count": 22,
     "metadata": {},
     "output_type": "execute_result"
    }
   ],
   "source": [
    "df_prods.shape"
   ]
  },
  {
   "cell_type": "code",
   "execution_count": 12,
   "id": "5b54f27f-39d0-4585-b4a2-7596d6587082",
   "metadata": {},
   "outputs": [
    {
     "name": "stdout",
     "output_type": "stream",
     "text": [
      "   order_id  user_id  order_number  order_dow  order_hour_of_day  days_since_prior_order\n",
      "0   2539329        1             1          2                  8                     NaN\n",
      "1   2398795        1             2          3                  7                    15.0\n",
      "2    473747        1             3          3                 12                    21.0\n",
      "3   2254736        1             4          4                  7                    29.0\n",
      "4    431534        1             5          4                 15                    28.0\n"
     ]
    }
   ],
   "source": [
    "# Print first 5 rows\n",
    "print(df_orders.head())"
   ]
  },
  {
   "cell_type": "code",
   "execution_count": 13,
   "id": "5ee726ba-8241-4327-b5c7-dc053b48e582",
   "metadata": {},
   "outputs": [
    {
     "name": "stdout",
     "output_type": "stream",
     "text": [
      "   product_id                                       product_name  aisle_id  department_id  prices\n",
      "0           1                         Chocolate Sandwich Cookies        61             19     5.8\n",
      "1           2                                   All-Seasons Salt       104             13     9.3\n",
      "2           3               Robust Golden Unsweetened Oolong Tea        94              7     4.5\n",
      "3           4  Smart Ones Classic Favorites Mini Rigatoni Wit...        38              1    10.5\n",
      "4           5                          Green Chile Anytime Sauce         5             13     4.3\n"
     ]
    }
   ],
   "source": [
    "print(df_prods.head())"
   ]
  },
  {
   "cell_type": "code",
   "execution_count": 14,
   "id": "bf53cd36-1917-4db2-82d4-bb01726cdb89",
   "metadata": {},
   "outputs": [
    {
     "name": "stdout",
     "output_type": "stream",
     "text": [
      "    product_id                                       product_name  aisle_id  department_id  prices\n",
      "0            1                         Chocolate Sandwich Cookies        61             19     5.8\n",
      "1            2                                   All-Seasons Salt       104             13     9.3\n",
      "2            3               Robust Golden Unsweetened Oolong Tea        94              7     4.5\n",
      "3            4  Smart Ones Classic Favorites Mini Rigatoni Wit...        38              1    10.5\n",
      "4            5                          Green Chile Anytime Sauce         5             13     4.3\n",
      "5            6                                       Dry Nose Oil        11             11     2.6\n",
      "6            7                     Pure Coconut Water With Orange        98              7     4.4\n",
      "7            8                  Cut Russet Potatoes Steam N' Mash       116              1     1.1\n",
      "8            9                  Light Strawberry Blueberry Yogurt       120             16     7.0\n",
      "9           10     Sparkling Orange Juice & Prickly Pear Beverage       115              7     8.4\n",
      "10          11                                  Peach Mango Juice        31              7     2.8\n",
      "11          12                         Chocolate Fudge Layer Cake       119              1     9.4\n",
      "12          13                                  Saline Nasal Mist        11             11     1.1\n",
      "13          14                     Fresh Scent Dishwasher Cleaner        74             17     6.5\n",
      "14          15                           Overnight Diapers Size 6        56             18    11.2\n",
      "15          16                      Mint Chocolate Flavored Syrup       103             19     5.2\n",
      "16          17                                  Rendered Duck Fat        35             12    17.1\n",
      "17          18                Pizza for One Suprema  Frozen Pizza        79              1    10.6\n",
      "18          19   Gluten Free Quinoa Three Cheese & Mushroom Blend        63              9    12.0\n",
      "19          20     Pomegranate Cranberry & Aloe Vera Enrich Drink        98              7     6.0\n"
     ]
    }
   ],
   "source": [
    "# Print first 20 rows of the df_prods dataframe\n",
    "print(df_prods.head(20))"
   ]
  },
  {
   "cell_type": "code",
   "execution_count": 15,
   "id": "4b21e385-2b88-44f0-a8da-5f9da4524b38",
   "metadata": {},
   "outputs": [
    {
     "name": "stdout",
     "output_type": "stream",
     "text": [
      "       product_id                                       product_name  aisle_id  department_id  prices\n",
      "49658       49654                   Teriyaki Sauce, Sesame, Original         5             13     4.0\n",
      "49659       49655                                        Apple Cider        98              7    10.7\n",
      "49660       49656                         Masada Kosher Pocket Bread       128              3     7.1\n",
      "49661       49657                                  Cabernet Tomatoes        83              4     8.3\n",
      "49662       49658                         Brie with Herbs Foil Wedge         2             16     3.9\n",
      "49663       49659                            Organic Creamed Coconut        17             13     3.1\n",
      "49664       49660                        Professionals Sleek Shampoo        22             11     6.7\n",
      "49665       49661                                              Porto       134              5     8.2\n",
      "49666       49662                       Bacon Cheddar Pretzel Pieces       107             19     3.6\n",
      "49667       49663  Ultra Protein Power Crunch Peanut Butter N' Ho...        57             14    10.2\n",
      "49668       49664                     Lemon Cayenne Drinking Vinegar       100             21    13.7\n",
      "49669       49665      Super Dark Coconut Ash & Banana Chocolate Bar        45             19     6.9\n",
      "49670       49666                      Ginger Snaps Snacking Cookies        61             19     5.2\n",
      "49671       49667           Enchilada with Spanish Rice & Beans Meal        38              1     6.6\n",
      "49672       49668                     Apple Cinnamon Scented Candles       101             17     5.6\n",
      "49673       49669                                   K Cup Dark Blend       100             21     4.7\n",
      "49674       49670                                Beef Summer Sausage       106             12    19.2\n",
      "49675       49671                               Milk Chocolate Drops        45             19     3.0\n",
      "49676       49672                             Cafe Mocha K-Cup Packs        26              7     6.5\n",
      "49677       49673              Stone Baked Multi Grain Artisan Rolls       129              1     5.6\n",
      "49678       49674            Frozen Greek Yogurt Bars Chocolate Chip        37              1    11.1\n",
      "49679       49675                Cinnamon Dolce Keurig Brewed K Cups        26              7    14.0\n",
      "49680       49676                             Ultra Red Energy Drink        64              7    14.5\n",
      "49681       49677                    Thick & Chunky Sloppy Joe Sauce        59             15     8.9\n",
      "49682       49678                    Large Chicken & Cheese Taquitos       129              1     3.4\n",
      "49683       49679                            Famous Chocolate Wafers        61             19     6.0\n",
      "49684       49680                 All Natural Creamy Caesar Dressing        89             13     4.9\n",
      "49685       49681            Spaghetti with Meatballs and Sauce Meal        38              1     6.9\n",
      "49686       49682                                 California Limeade        98              7     4.3\n",
      "49687       49683                                     Cucumber Kirby        83              4    13.2\n",
      "49688       49684          Vodka, Triple Distilled, Twist of Vanilla       124              5     5.3\n",
      "49689       49685                 En Croute Roast Hazelnut Cranberry        42              1     3.1\n",
      "49690       49686                                   Artisan Baguette       112              3     7.8\n",
      "49691       49687         Smartblend Healthy Metabolism Dry Cat Food        41              8     4.7\n",
      "49692       49688                             Fresh Foaming Cleanser        73             11    13.5\n"
     ]
    }
   ],
   "source": [
    "# Print last 35 rows of the df_prods dataframe\n",
    "print(df_prods.tail(35))"
   ]
  },
  {
   "cell_type": "code",
   "execution_count": 16,
   "id": "e741a2f6-ec3c-490b-9f31-e9ff02d52177",
   "metadata": {},
   "outputs": [
    {
     "name": "stdout",
     "output_type": "stream",
     "text": [
      "(49693, 5)\n"
     ]
    }
   ],
   "source": [
    "# Returning numbers of rows and columns of products.csv\n",
    "print(df_prods.shape)"
   ]
  },
  {
   "cell_type": "code",
   "execution_count": 17,
   "id": "3a344d2e-9efb-4779-87a9-444ef2aaf83b",
   "metadata": {},
   "outputs": [
    {
     "name": "stdout",
     "output_type": "stream",
     "text": [
      "<class 'pandas.core.frame.DataFrame'>\n",
      "RangeIndex: 49693 entries, 0 to 49692\n",
      "Data columns (total 5 columns):\n",
      " #   Column         Non-Null Count  Dtype  \n",
      "---  ------         --------------  -----  \n",
      " 0   product_id     49693 non-null  int64  \n",
      " 1   product_name   49677 non-null  object \n",
      " 2   aisle_id       49693 non-null  int64  \n",
      " 3   department_id  49693 non-null  int64  \n",
      " 4   prices         49693 non-null  float64\n",
      "dtypes: float64(1), int64(3), object(1)\n",
      "memory usage: 1.9+ MB\n",
      "None\n"
     ]
    }
   ],
   "source": [
    "# Returning basic informations of products.csv\n",
    "print(df_prods.info())"
   ]
  },
  {
   "cell_type": "code",
   "execution_count": 18,
   "id": "c02e5356-1568-4ae0-a1a6-f33d7f9d647d",
   "metadata": {},
   "outputs": [
    {
     "name": "stdout",
     "output_type": "stream",
     "text": [
      "product_id         int64\n",
      "product_name      object\n",
      "aisle_id           int64\n",
      "department_id      int64\n",
      "prices           float64\n",
      "dtype: object\n"
     ]
    }
   ],
   "source": [
    "# Returning column names and data types\n",
    "print(df_prods.dtypes)"
   ]
  },
  {
   "cell_type": "code",
   "execution_count": 19,
   "id": "82ea3b6c-42d3-4083-af1d-a82a6cc69542",
   "metadata": {},
   "outputs": [
    {
     "name": "stdout",
     "output_type": "stream",
     "text": [
      "Index(['product_id', 'product_name', 'aisle_id', 'department_id', 'prices'], dtype='object')\n"
     ]
    }
   ],
   "source": [
    "# Returning column names\n",
    "print(df_prods.columns)"
   ]
  },
  {
   "cell_type": "markdown",
   "id": "5b08e0e8-9731-4ebe-9556-c86255f02205",
   "metadata": {},
   "source": [
    "### Descriptive Statistics"
   ]
  },
  {
   "cell_type": "code",
   "execution_count": 20,
   "id": "f1df7081-0cb3-4953-ab77-f13a782e286a",
   "metadata": {},
   "outputs": [
    {
     "data": {
      "text/html": [
       "<div>\n",
       "<style scoped>\n",
       "    .dataframe tbody tr th:only-of-type {\n",
       "        vertical-align: middle;\n",
       "    }\n",
       "\n",
       "    .dataframe tbody tr th {\n",
       "        vertical-align: top;\n",
       "    }\n",
       "\n",
       "    .dataframe thead th {\n",
       "        text-align: right;\n",
       "    }\n",
       "</style>\n",
       "<table border=\"1\" class=\"dataframe\">\n",
       "  <thead>\n",
       "    <tr style=\"text-align: right;\">\n",
       "      <th></th>\n",
       "      <th>product_id</th>\n",
       "      <th>aisle_id</th>\n",
       "      <th>department_id</th>\n",
       "      <th>prices</th>\n",
       "    </tr>\n",
       "  </thead>\n",
       "  <tbody>\n",
       "    <tr>\n",
       "      <th>count</th>\n",
       "      <td>49693.000000</td>\n",
       "      <td>49693.000000</td>\n",
       "      <td>49693.000000</td>\n",
       "      <td>49693.000000</td>\n",
       "    </tr>\n",
       "    <tr>\n",
       "      <th>mean</th>\n",
       "      <td>24844.345139</td>\n",
       "      <td>67.770249</td>\n",
       "      <td>11.728433</td>\n",
       "      <td>9.994136</td>\n",
       "    </tr>\n",
       "    <tr>\n",
       "      <th>std</th>\n",
       "      <td>14343.717401</td>\n",
       "      <td>38.316774</td>\n",
       "      <td>5.850282</td>\n",
       "      <td>453.519686</td>\n",
       "    </tr>\n",
       "    <tr>\n",
       "      <th>min</th>\n",
       "      <td>1.000000</td>\n",
       "      <td>1.000000</td>\n",
       "      <td>1.000000</td>\n",
       "      <td>1.000000</td>\n",
       "    </tr>\n",
       "    <tr>\n",
       "      <th>25%</th>\n",
       "      <td>12423.000000</td>\n",
       "      <td>35.000000</td>\n",
       "      <td>7.000000</td>\n",
       "      <td>4.100000</td>\n",
       "    </tr>\n",
       "    <tr>\n",
       "      <th>50%</th>\n",
       "      <td>24845.000000</td>\n",
       "      <td>69.000000</td>\n",
       "      <td>13.000000</td>\n",
       "      <td>7.100000</td>\n",
       "    </tr>\n",
       "    <tr>\n",
       "      <th>75%</th>\n",
       "      <td>37265.000000</td>\n",
       "      <td>100.000000</td>\n",
       "      <td>17.000000</td>\n",
       "      <td>11.200000</td>\n",
       "    </tr>\n",
       "    <tr>\n",
       "      <th>max</th>\n",
       "      <td>49688.000000</td>\n",
       "      <td>134.000000</td>\n",
       "      <td>21.000000</td>\n",
       "      <td>99999.000000</td>\n",
       "    </tr>\n",
       "  </tbody>\n",
       "</table>\n",
       "</div>"
      ],
      "text/plain": [
       "         product_id      aisle_id  department_id        prices\n",
       "count  49693.000000  49693.000000   49693.000000  49693.000000\n",
       "mean   24844.345139     67.770249      11.728433      9.994136\n",
       "std    14343.717401     38.316774       5.850282    453.519686\n",
       "min        1.000000      1.000000       1.000000      1.000000\n",
       "25%    12423.000000     35.000000       7.000000      4.100000\n",
       "50%    24845.000000     69.000000      13.000000      7.100000\n",
       "75%    37265.000000    100.000000      17.000000     11.200000\n",
       "max    49688.000000    134.000000      21.000000  99999.000000"
      ]
     },
     "execution_count": 20,
     "metadata": {},
     "output_type": "execute_result"
    }
   ],
   "source": [
    "# Conducting descriptive statistics for products.csv\n",
    "df_prods.describe()"
   ]
  },
  {
   "attachments": {},
   "cell_type": "markdown",
   "id": "5110e4bd-48b8-4683-8d92-9c0920a22d25",
   "metadata": {},
   "source": [
    "####\tWhat’s the maximum value of the “aisle_id” column?\n",
    "#####   max_aisle_id = 134.000000"
   ]
  },
  {
   "cell_type": "markdown",
   "id": "ef7e917d-0d5f-4ac5-bc19-6d7d279044b9",
   "metadata": {},
   "source": [
    "####\tWhat’s the data type of the “department_id” column?\n",
    "#####   Data type of department_id is int64"
   ]
  },
  {
   "cell_type": "code",
   "execution_count": 21,
   "id": "f733a8b2-2fc3-49cf-8bcf-5c5c5a71371b",
   "metadata": {},
   "outputs": [
    {
     "data": {
      "text/html": [
       "<div>\n",
       "<style scoped>\n",
       "    .dataframe tbody tr th:only-of-type {\n",
       "        vertical-align: middle;\n",
       "    }\n",
       "\n",
       "    .dataframe tbody tr th {\n",
       "        vertical-align: top;\n",
       "    }\n",
       "\n",
       "    .dataframe thead th {\n",
       "        text-align: right;\n",
       "    }\n",
       "</style>\n",
       "<table border=\"1\" class=\"dataframe\">\n",
       "  <thead>\n",
       "    <tr style=\"text-align: right;\">\n",
       "      <th></th>\n",
       "      <th>order_id</th>\n",
       "      <th>user_id</th>\n",
       "      <th>order_number</th>\n",
       "      <th>order_dow</th>\n",
       "      <th>order_hour_of_day</th>\n",
       "      <th>days_since_prior_order</th>\n",
       "    </tr>\n",
       "  </thead>\n",
       "  <tbody>\n",
       "    <tr>\n",
       "      <th>count</th>\n",
       "      <td>3.421083e+06</td>\n",
       "      <td>3.421083e+06</td>\n",
       "      <td>3.421083e+06</td>\n",
       "      <td>3.421083e+06</td>\n",
       "      <td>3.421083e+06</td>\n",
       "      <td>3.214874e+06</td>\n",
       "    </tr>\n",
       "    <tr>\n",
       "      <th>mean</th>\n",
       "      <td>1.710542e+06</td>\n",
       "      <td>1.029782e+05</td>\n",
       "      <td>1.715486e+01</td>\n",
       "      <td>2.776219e+00</td>\n",
       "      <td>1.345202e+01</td>\n",
       "      <td>1.111484e+01</td>\n",
       "    </tr>\n",
       "    <tr>\n",
       "      <th>std</th>\n",
       "      <td>9.875817e+05</td>\n",
       "      <td>5.953372e+04</td>\n",
       "      <td>1.773316e+01</td>\n",
       "      <td>2.046829e+00</td>\n",
       "      <td>4.226088e+00</td>\n",
       "      <td>9.206737e+00</td>\n",
       "    </tr>\n",
       "    <tr>\n",
       "      <th>min</th>\n",
       "      <td>1.000000e+00</td>\n",
       "      <td>1.000000e+00</td>\n",
       "      <td>1.000000e+00</td>\n",
       "      <td>0.000000e+00</td>\n",
       "      <td>0.000000e+00</td>\n",
       "      <td>0.000000e+00</td>\n",
       "    </tr>\n",
       "    <tr>\n",
       "      <th>25%</th>\n",
       "      <td>8.552715e+05</td>\n",
       "      <td>5.139400e+04</td>\n",
       "      <td>5.000000e+00</td>\n",
       "      <td>1.000000e+00</td>\n",
       "      <td>1.000000e+01</td>\n",
       "      <td>4.000000e+00</td>\n",
       "    </tr>\n",
       "    <tr>\n",
       "      <th>50%</th>\n",
       "      <td>1.710542e+06</td>\n",
       "      <td>1.026890e+05</td>\n",
       "      <td>1.100000e+01</td>\n",
       "      <td>3.000000e+00</td>\n",
       "      <td>1.300000e+01</td>\n",
       "      <td>7.000000e+00</td>\n",
       "    </tr>\n",
       "    <tr>\n",
       "      <th>75%</th>\n",
       "      <td>2.565812e+06</td>\n",
       "      <td>1.543850e+05</td>\n",
       "      <td>2.300000e+01</td>\n",
       "      <td>5.000000e+00</td>\n",
       "      <td>1.600000e+01</td>\n",
       "      <td>1.500000e+01</td>\n",
       "    </tr>\n",
       "    <tr>\n",
       "      <th>max</th>\n",
       "      <td>3.421083e+06</td>\n",
       "      <td>2.062090e+05</td>\n",
       "      <td>1.000000e+02</td>\n",
       "      <td>6.000000e+00</td>\n",
       "      <td>2.300000e+01</td>\n",
       "      <td>3.000000e+01</td>\n",
       "    </tr>\n",
       "  </tbody>\n",
       "</table>\n",
       "</div>"
      ],
      "text/plain": [
       "           order_id       user_id  order_number     order_dow  order_hour_of_day  days_since_prior_order\n",
       "count  3.421083e+06  3.421083e+06  3.421083e+06  3.421083e+06       3.421083e+06            3.214874e+06\n",
       "mean   1.710542e+06  1.029782e+05  1.715486e+01  2.776219e+00       1.345202e+01            1.111484e+01\n",
       "std    9.875817e+05  5.953372e+04  1.773316e+01  2.046829e+00       4.226088e+00            9.206737e+00\n",
       "min    1.000000e+00  1.000000e+00  1.000000e+00  0.000000e+00       0.000000e+00            0.000000e+00\n",
       "25%    8.552715e+05  5.139400e+04  5.000000e+00  1.000000e+00       1.000000e+01            4.000000e+00\n",
       "50%    1.710542e+06  1.026890e+05  1.100000e+01  3.000000e+00       1.300000e+01            7.000000e+00\n",
       "75%    2.565812e+06  1.543850e+05  2.300000e+01  5.000000e+00       1.600000e+01            1.500000e+01\n",
       "max    3.421083e+06  2.062090e+05  1.000000e+02  6.000000e+00       2.300000e+01            3.000000e+01"
      ]
     },
     "execution_count": 21,
     "metadata": {},
     "output_type": "execute_result"
    }
   ],
   "source": [
    "# Conduction descriptive statistics for orders.csv\n",
    "df_orders.describe()"
   ]
  }
 ],
 "metadata": {
  "kernelspec": {
   "display_name": "Python (myenv)",
   "language": "python",
   "name": "myenv"
  },
  "language_info": {
   "codemirror_mode": {
    "name": "ipython",
    "version": 3
   },
   "file_extension": ".py",
   "mimetype": "text/x-python",
   "name": "python",
   "nbconvert_exporter": "python",
   "pygments_lexer": "ipython3",
   "version": "3.11.13"
  }
 },
 "nbformat": 4,
 "nbformat_minor": 5
}
