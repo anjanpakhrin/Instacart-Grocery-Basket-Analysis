{
 "cells": [
  {
   "cell_type": "markdown",
   "id": "70f8f6bb-919c-46e6-8be7-2238faa79473",
   "metadata": {},
   "source": [
    "## 4.9: Intro to Data Visualization with Python"
   ]
  },
  {
   "cell_type": "markdown",
   "id": "4cc57f55-2fd6-4ab3-a64d-7c37105e9765",
   "metadata": {},
   "source": [
    "### **Exercise**\n",
    "#### **Import libraries**"
   ]
  },
  {
   "cell_type": "code",
   "execution_count": 1,
   "id": "5c40f948-8664-4777-bcd8-77a037e8e9bb",
   "metadata": {},
   "outputs": [],
   "source": [
    "import pandas as pd\n",
    "import numpy as np\n",
    "import os\n",
    "import matplotlib.pyplot as plt\n",
    "import seaborn as sns\n",
    "import scipy"
   ]
  },
  {
   "cell_type": "code",
   "execution_count": 2,
   "id": "b4785afb-ac3b-45c1-a1bc-c5b40ebff5df",
   "metadata": {},
   "outputs": [],
   "source": [
    "# Set display options for better viewing\n",
    "\n",
    "pd.set_option('display.width', 1000)\n",
    "pd.set_option('display.max_columns', None)  # Limit columns\n",
    "pd.set_option('display.max_rows', 50)      # Limit rows"
   ]
  },
  {
   "cell_type": "code",
   "execution_count": 3,
   "id": "c6852b4b-15f9-4e33-85d4-ed3c851c24fb",
   "metadata": {},
   "outputs": [],
   "source": [
    "# Creating shortcut for data file\n",
    "\n",
    "path = r'/Users/anjanpakhrin/Documents/Instacart Basket Analysis/'"
   ]
  },
  {
   "cell_type": "code",
   "execution_count": 4,
   "id": "f3096856-f7ea-4590-9481-ebb814ebc455",
   "metadata": {},
   "outputs": [],
   "source": [
    "# Create path to data file --> DataFrame was named after chapter number: \"ords_prods_merge_4-7.pkl\"\n",
    "\n",
    "ords_prods_merge = pd.read_pickle(os.path.join(path, '02 Data', 'Prepared Data', 'ords_prods_merge_4-7.pkl'))"
   ]
  },
  {
   "cell_type": "code",
   "execution_count": 5,
   "id": "78d488ab-7477-47e0-be6d-a1c487502178",
   "metadata": {},
   "outputs": [
    {
     "data": {
      "text/html": [
       "<div>\n",
       "<style scoped>\n",
       "    .dataframe tbody tr th:only-of-type {\n",
       "        vertical-align: middle;\n",
       "    }\n",
       "\n",
       "    .dataframe tbody tr th {\n",
       "        vertical-align: top;\n",
       "    }\n",
       "\n",
       "    .dataframe thead th {\n",
       "        text-align: right;\n",
       "    }\n",
       "</style>\n",
       "<table border=\"1\" class=\"dataframe\">\n",
       "  <thead>\n",
       "    <tr style=\"text-align: right;\">\n",
       "      <th></th>\n",
       "      <th>order_id</th>\n",
       "      <th>user_id</th>\n",
       "      <th>order_number</th>\n",
       "      <th>order_day_of_week</th>\n",
       "      <th>order_hour_of_day</th>\n",
       "      <th>days_since_prior_order</th>\n",
       "      <th>first_order</th>\n",
       "      <th>product_id</th>\n",
       "      <th>add_to_cart_order</th>\n",
       "      <th>reordered</th>\n",
       "      <th>product_name</th>\n",
       "      <th>aisle_id</th>\n",
       "      <th>department_id</th>\n",
       "      <th>prices</th>\n",
       "      <th>price_range_loc</th>\n",
       "      <th>busiest_day</th>\n",
       "      <th>busiest_days</th>\n",
       "      <th>busiest_period_of_day</th>\n",
       "    </tr>\n",
       "  </thead>\n",
       "  <tbody>\n",
       "    <tr>\n",
       "      <th>0</th>\n",
       "      <td>2539329</td>\n",
       "      <td>1</td>\n",
       "      <td>1</td>\n",
       "      <td>2</td>\n",
       "      <td>8</td>\n",
       "      <td>NaN</td>\n",
       "      <td>True</td>\n",
       "      <td>196</td>\n",
       "      <td>1</td>\n",
       "      <td>0</td>\n",
       "      <td>Soda</td>\n",
       "      <td>77</td>\n",
       "      <td>7</td>\n",
       "      <td>9.0</td>\n",
       "      <td>Mid-range product</td>\n",
       "      <td>Regularly busy</td>\n",
       "      <td>Regularly busy</td>\n",
       "      <td>Average orders</td>\n",
       "    </tr>\n",
       "    <tr>\n",
       "      <th>1</th>\n",
       "      <td>2539329</td>\n",
       "      <td>1</td>\n",
       "      <td>1</td>\n",
       "      <td>2</td>\n",
       "      <td>8</td>\n",
       "      <td>NaN</td>\n",
       "      <td>True</td>\n",
       "      <td>14084</td>\n",
       "      <td>2</td>\n",
       "      <td>0</td>\n",
       "      <td>Organic Unsweetened Vanilla Almond Milk</td>\n",
       "      <td>91</td>\n",
       "      <td>16</td>\n",
       "      <td>12.5</td>\n",
       "      <td>Mid-range product</td>\n",
       "      <td>Regularly busy</td>\n",
       "      <td>Regularly busy</td>\n",
       "      <td>Average orders</td>\n",
       "    </tr>\n",
       "  </tbody>\n",
       "</table>\n",
       "</div>"
      ],
      "text/plain": [
       "   order_id  user_id  order_number  order_day_of_week  order_hour_of_day  days_since_prior_order  first_order  product_id  add_to_cart_order  reordered                             product_name  aisle_id  department_id  prices    price_range_loc     busiest_day    busiest_days busiest_period_of_day\n",
       "0   2539329        1             1                  2                  8                     NaN         True         196                  1          0                                     Soda        77              7     9.0  Mid-range product  Regularly busy  Regularly busy        Average orders\n",
       "1   2539329        1             1                  2                  8                     NaN         True       14084                  2          0  Organic Unsweetened Vanilla Almond Milk        91             16    12.5  Mid-range product  Regularly busy  Regularly busy        Average orders"
      ]
     },
     "execution_count": 5,
     "metadata": {},
     "output_type": "execute_result"
    }
   ],
   "source": [
    "# Cheking output\n",
    "\n",
    "ords_prods_merge.head(2)"
   ]
  },
  {
   "cell_type": "code",
   "execution_count": 6,
   "id": "8fa6aec2-ea1c-4a76-8116-bd56645dd0d6",
   "metadata": {},
   "outputs": [
    {
     "data": {
      "text/plain": [
       "count    3.240486e+07\n",
       "mean     1.198023e+01\n",
       "std      4.956429e+02\n",
       "min      1.000000e+00\n",
       "25%      4.200000e+00\n",
       "50%      7.400000e+00\n",
       "75%      1.130000e+01\n",
       "max      9.999900e+04\n",
       "Name: prices, dtype: float64"
      ]
     },
     "execution_count": 6,
     "metadata": {},
     "output_type": "execute_result"
    }
   ],
   "source": [
    "# Checking descirptive statistics for \"prices\" to confirm that the dataframe is free from outliers\n",
    "ords_prods_merge['prices'].describe()"
   ]
  },
  {
   "cell_type": "markdown",
   "id": "41e42997-d8e5-4ffb-a0cf-687fd86df5f6",
   "metadata": {},
   "source": [
    "### **Creating Bar Charts**"
   ]
  },
  {
   "cell_type": "code",
   "execution_count": 7,
   "id": "6b6351bc-630a-4524-b829-2b55bbd309af",
   "metadata": {},
   "outputs": [
    {
     "data": {
      "text/plain": [
       "<Axes: xlabel='order_day_of_week'>"
      ]
     },
     "execution_count": 7,
     "metadata": {},
     "output_type": "execute_result"
    },
    {
     "data": {
      "image/png": "[encoded data removed]",
      "text/plain": [
       "<Figure size 640x480 with 1 Axes>"
      ]
     },
     "metadata": {},
     "output_type": "display_data"
    }
   ],
   "source": [
    "# Create Bar Chart for \"order_day_of_week\"\n",
    "\n",
    "ords_prods_merge['order_day_of_week'].value_counts().plot.bar()"
   ]
  },
  {
   "cell_type": "markdown",
   "id": "d82f7949-f9cc-4b81-8d65-92eaa5244502",
   "metadata": {},
   "source": [
    "##### Sorting the bars"
   ]
  },
  {
   "cell_type": "code",
   "execution_count": 8,
   "id": "1381a396-e0a1-4ea6-bace-76f63dc3fa9f",
   "metadata": {},
   "outputs": [
    {
     "data": {
      "text/plain": [
       "<Axes: xlabel='order_day_of_week'>"
      ]
     },
     "execution_count": 8,
     "metadata": {},
     "output_type": "execute_result"
    },
    {
     "data": {
      "image/png": "[encoded data removed]",
      "text/plain": [
       "<Figure size 640x480 with 1 Axes>"
      ]
     },
     "metadata": {},
     "output_type": "display_data"
    }
   ],
   "source": [
    "# Sorting the bars according to the index\n",
    "\n",
    "ords_prods_merge['order_day_of_week'].value_counts().sort_index().plot.bar()"
   ]
  },
  {
   "cell_type": "markdown",
   "id": "b7902a7b-b628-4596-a5ac-e542c75d0b30",
   "metadata": {},
   "source": [
    "##### Comparing with number values"
   ]
  },
  {
   "cell_type": "code",
   "execution_count": 9,
   "id": "278ffc54-d32d-40bc-80f6-539cb9ef3752",
   "metadata": {},
   "outputs": [
    {
     "data": {
      "text/plain": [
       "order_day_of_week\n",
       "0    6204182\n",
       "1    5660230\n",
       "2    4213830\n",
       "3    3840534\n",
       "4    3783802\n",
       "5    4205791\n",
       "6    4496490\n",
       "Name: count, dtype: int64"
      ]
     },
     "execution_count": 9,
     "metadata": {},
     "output_type": "execute_result"
    }
   ],
   "source": [
    "# Checking frequencies in numbers\n",
    "\n",
    "ords_prods_merge['order_day_of_week'].value_counts().sort_index()"
   ]
  },
  {
   "cell_type": "markdown",
   "id": "55ff3bef-9852-45f0-aaf0-239c27d96bad",
   "metadata": {},
   "source": [
    "##### Filling the bars with color"
   ]
  },
  {
   "cell_type": "code",
   "execution_count": 10,
   "id": "08fbdfa0-bc9e-4048-bc0f-084d2def14df",
   "metadata": {},
   "outputs": [
    {
     "data": {
      "image/png": "[encoded data removed]",
      "text/plain": [
       "<Figure size 1000x600 with 1 Axes>"
      ]
     },
     "metadata": {},
     "output_type": "display_data"
    }
   ],
   "source": [
    "# Filling color\n",
    "\n",
    "bar_chart = ords_prods_merge['order_day_of_week'].value_counts().sort_index().plot.bar(\n",
    "    color = ['purple', 'red', 'pink', 'orange', 'yellow', 'green'],\n",
    "    figsize = (10, 6)\n",
    ")"
   ]
  },
  {
   "cell_type": "markdown",
   "id": "fce1583a-b181-4209-b540-123fd8b8efb8",
   "metadata": {},
   "source": [
    "##### Adding labels"
   ]
  },
  {
   "cell_type": "code",
   "execution_count": 11,
   "id": "eb5ccd13-ca9e-4c33-a118-000fb7236952",
   "metadata": {},
   "outputs": [
    {
     "data": {
      "image/png": "[encoded data removed]",
      "text/plain": [
       "<Figure size 1200x600 with 1 Axes>"
      ]
     },
     "metadata": {},
     "output_type": "display_data"
    }
   ],
   "source": [
    "# Creating bar chart\n",
    "bar_chart = ords_prods_merge['order_day_of_week'].value_counts().sort_index().plot.bar(\n",
    "    color = ['brown', 'red', 'pink', 'orange', 'yellow', 'green', 'purple'],\n",
    "    edgecolor = 'black',\n",
    "    figsize = (12, 6)\n",
    ")\n",
    "\n",
    "# Adding labels for axes and the title\n",
    "bar_chart.set_xlabel('Day of Week (0=Saturday, 6=Friday)', fontsize=12)\n",
    "bar_chart.set_ylabel('Number of Orders', fontsize=12)\n",
    "bar_chart.set_title('Orders by Day of Week', fontsize=14)\n",
    "\n",
    "# Rotating x-axis labels --> to display horizontal\n",
    "plt.xticks(rotation=0)\n",
    "plt.show()"
   ]
  },
  {
   "cell_type": "markdown",
   "id": "e7ac9901-1e9d-443d-8563-d50db67d2d6b",
   "metadata": {},
   "source": [
    "#### Exporting Charts"
   ]
  },
  {
   "cell_type": "code",
   "execution_count": 12,
   "id": "4cf1bd4d-dc36-4694-b066-558909ce2945",
   "metadata": {},
   "outputs": [],
   "source": [
    "# Exporting bar chart\n",
    "\n",
    "bar_chart.figure.savefig(os.path.join(path, '04 Analysis', 'Visualizations', 'bar_order_dow.png'))"
   ]
  },
  {
   "cell_type": "markdown",
   "id": "90890452-3a26-41b6-b635-4a7fdedcfa0d",
   "metadata": {},
   "source": [
    "### **Creating Histograms and Scatterplots**"
   ]
  },
  {
   "cell_type": "markdown",
   "id": "d8ca077f-2fa4-4677-8bec-a7a89b55f379",
   "metadata": {},
   "source": [
    "#### **Histograms**"
   ]
  },
  {
   "cell_type": "code",
   "execution_count": 13,
   "id": "31f6f46e-bcfb-4e97-87a4-19e80a77680d",
   "metadata": {},
   "outputs": [
    {
     "data": {
      "text/plain": [
       "<Axes: ylabel='Frequency'>"
      ]
     },
     "execution_count": 13,
     "metadata": {},
     "output_type": "execute_result"
    },
    {
     "data": {
      "image/png": "[encoded data removed]",
      "text/plain": [
       "<Figure size 640x480 with 1 Axes>"
      ]
     },
     "metadata": {},
     "output_type": "display_data"
    }
   ],
   "source": [
    "# Creating Histograms for \"prices\"\n",
    "\n",
    "ords_prods_merge['prices'].plot.hist(bins = 25)"
   ]
  },
  {
   "cell_type": "code",
   "execution_count": 14,
   "id": "dc8eda08-b9c2-4143-a788-c90942621f7b",
   "metadata": {},
   "outputs": [
    {
     "data": {
      "text/plain": [
       "count    3.240486e+07\n",
       "mean     1.198023e+01\n",
       "std      4.956429e+02\n",
       "min      1.000000e+00\n",
       "25%      4.200000e+00\n",
       "50%      7.400000e+00\n",
       "75%      1.130000e+01\n",
       "max      9.999900e+04\n",
       "Name: prices, dtype: float64"
      ]
     },
     "execution_count": 14,
     "metadata": {},
     "output_type": "execute_result"
    }
   ],
   "source": [
    "# Checking descriptive statistics for \"prices\"\n",
    "\n",
    "ords_prods_merge['prices'].describe()"
   ]
  },
  {
   "cell_type": "code",
   "execution_count": 15,
   "id": "856de10c-ecd3-4446-8bbf-6e2e14af9e8b",
   "metadata": {},
   "outputs": [
    {
     "data": {
      "text/plain": [
       "11.980225563049316"
      ]
     },
     "execution_count": 15,
     "metadata": {},
     "output_type": "execute_result"
    }
   ],
   "source": [
    "# Mean value for \"prices\"\n",
    "float(ords_prods_merge['prices'].mean())"
   ]
  },
  {
   "cell_type": "code",
   "execution_count": 16,
   "id": "32c1fbfd-0ea6-4475-b809-13c951908d7a",
   "metadata": {},
   "outputs": [
    {
     "data": {
      "text/plain": [
       "7.400000095367432"
      ]
     },
     "execution_count": 16,
     "metadata": {},
     "output_type": "execute_result"
    }
   ],
   "source": [
    "# Median for \"prices\"\n",
    "float(ords_prods_merge['prices'].median())"
   ]
  },
  {
   "cell_type": "code",
   "execution_count": 17,
   "id": "4441a72c-76bc-4e7f-b2ea-652c576644ba",
   "metadata": {},
   "outputs": [
    {
     "data": {
      "text/plain": [
       "99999.0"
      ]
     },
     "execution_count": 17,
     "metadata": {},
     "output_type": "execute_result"
    }
   ],
   "source": [
    "# Max for \"prices\"\n",
    "float(ords_prods_merge['prices'].max())"
   ]
  },
  {
   "cell_type": "markdown",
   "id": "9684e09a-3371-4c39-be96-5a9677dfae2a",
   "metadata": {},
   "source": [
    "#### **Scatterplot**"
   ]
  },
  {
   "cell_type": "code",
   "execution_count": 18,
   "id": "6ab3c351-55f7-4b60-9850-d49f9cab31d7",
   "metadata": {},
   "outputs": [
    {
     "data": {
      "text/plain": [
       "<Axes: xlabel='prices', ylabel='prices'>"
      ]
     },
     "execution_count": 18,
     "metadata": {},
     "output_type": "execute_result"
    },
    {
     "data": {
      "image/png": "[encoded data removed]",
      "text/plain": [
       "<Figure size 640x480 with 1 Axes>"
      ]
     },
     "metadata": {},
     "output_type": "display_data"
    }
   ],
   "source": [
    "# Creating Scatterplots \"prices vs. prices\"\n",
    "\n",
    "sns.scatterplot(x= 'prices', y = 'prices', data = ords_prods_merge)"
   ]
  },
  {
   "cell_type": "markdown",
   "id": "2a3ca6da-d965-4684-b228-e6693f1d01f9",
   "metadata": {},
   "source": [
    "#### Analysis:\n",
    "* Two data points are far beyond the expected values - values close to 20,000 and 100,000. The close value to this 100,000 value is max value 99,999 for price as seen in above steps. Which might be an extreme outlier.\n",
    "* Hence the values close to 20,000 might not necessarily be a outlier. To check this, can be a few exploratory chechks could to be done. To this purpose a threshold for prices can be defined assuming that an item in a supermarket would cost in average $100.\n",
    "* Anything above this threshold could be considered as an outlier."
   ]
  },
  {
   "cell_type": "code",
   "execution_count": 19,
   "id": "dda88027-9458-46d5-a6e8-fd05459ee81e",
   "metadata": {},
   "outputs": [
    {
     "data": {
      "text/html": [
       "<div>\n",
       "<style scoped>\n",
       "    .dataframe tbody tr th:only-of-type {\n",
       "        vertical-align: middle;\n",
       "    }\n",
       "\n",
       "    .dataframe tbody tr th {\n",
       "        vertical-align: top;\n",
       "    }\n",
       "\n",
       "    .dataframe thead th {\n",
       "        text-align: right;\n",
       "    }\n",
       "</style>\n",
       "<table border=\"1\" class=\"dataframe\">\n",
       "  <thead>\n",
       "    <tr style=\"text-align: right;\">\n",
       "      <th></th>\n",
       "      <th>order_id</th>\n",
       "      <th>user_id</th>\n",
       "      <th>order_number</th>\n",
       "      <th>order_day_of_week</th>\n",
       "      <th>order_hour_of_day</th>\n",
       "      <th>days_since_prior_order</th>\n",
       "      <th>first_order</th>\n",
       "      <th>product_id</th>\n",
       "      <th>add_to_cart_order</th>\n",
       "      <th>reordered</th>\n",
       "      <th>product_name</th>\n",
       "      <th>aisle_id</th>\n",
       "      <th>department_id</th>\n",
       "      <th>prices</th>\n",
       "      <th>price_range_loc</th>\n",
       "      <th>busiest_day</th>\n",
       "      <th>busiest_days</th>\n",
       "      <th>busiest_period_of_day</th>\n",
       "    </tr>\n",
       "  </thead>\n",
       "  <tbody>\n",
       "    <tr>\n",
       "      <th>1576</th>\n",
       "      <td>912404</td>\n",
       "      <td>17</td>\n",
       "      <td>12</td>\n",
       "      <td>2</td>\n",
       "      <td>14</td>\n",
       "      <td>5.0</td>\n",
       "      <td>False</td>\n",
       "      <td>21553</td>\n",
       "      <td>5</td>\n",
       "      <td>0</td>\n",
       "      <td>Lowfat 2% Milkfat Cottage Cheese</td>\n",
       "      <td>108</td>\n",
       "      <td>16</td>\n",
       "      <td>14900.0</td>\n",
       "      <td>High-range product</td>\n",
       "      <td>Regularly busy</td>\n",
       "      <td>Regularly busy</td>\n",
       "      <td>Most orders</td>\n",
       "    </tr>\n",
       "    <tr>\n",
       "      <th>1638</th>\n",
       "      <td>603376</td>\n",
       "      <td>17</td>\n",
       "      <td>22</td>\n",
       "      <td>6</td>\n",
       "      <td>16</td>\n",
       "      <td>4.0</td>\n",
       "      <td>False</td>\n",
       "      <td>21553</td>\n",
       "      <td>3</td>\n",
       "      <td>1</td>\n",
       "      <td>Lowfat 2% Milkfat Cottage Cheese</td>\n",
       "      <td>108</td>\n",
       "      <td>16</td>\n",
       "      <td>14900.0</td>\n",
       "      <td>High-range product</td>\n",
       "      <td>Regularly busy</td>\n",
       "      <td>Regularly busy</td>\n",
       "      <td>Most orders</td>\n",
       "    </tr>\n",
       "    <tr>\n",
       "      <th>16522</th>\n",
       "      <td>3264360</td>\n",
       "      <td>135</td>\n",
       "      <td>2</td>\n",
       "      <td>2</td>\n",
       "      <td>21</td>\n",
       "      <td>13.0</td>\n",
       "      <td>False</td>\n",
       "      <td>21553</td>\n",
       "      <td>6</td>\n",
       "      <td>0</td>\n",
       "      <td>Lowfat 2% Milkfat Cottage Cheese</td>\n",
       "      <td>108</td>\n",
       "      <td>16</td>\n",
       "      <td>14900.0</td>\n",
       "      <td>High-range product</td>\n",
       "      <td>Regularly busy</td>\n",
       "      <td>Regularly busy</td>\n",
       "      <td>Average orders</td>\n",
       "    </tr>\n",
       "    <tr>\n",
       "      <th>16528</th>\n",
       "      <td>892534</td>\n",
       "      <td>135</td>\n",
       "      <td>3</td>\n",
       "      <td>0</td>\n",
       "      <td>8</td>\n",
       "      <td>12.0</td>\n",
       "      <td>False</td>\n",
       "      <td>21553</td>\n",
       "      <td>3</td>\n",
       "      <td>1</td>\n",
       "      <td>Lowfat 2% Milkfat Cottage Cheese</td>\n",
       "      <td>108</td>\n",
       "      <td>16</td>\n",
       "      <td>14900.0</td>\n",
       "      <td>High-range product</td>\n",
       "      <td>Busiest day</td>\n",
       "      <td>Busiest days</td>\n",
       "      <td>Average orders</td>\n",
       "    </tr>\n",
       "    <tr>\n",
       "      <th>53672</th>\n",
       "      <td>229704</td>\n",
       "      <td>342</td>\n",
       "      <td>8</td>\n",
       "      <td>1</td>\n",
       "      <td>19</td>\n",
       "      <td>30.0</td>\n",
       "      <td>False</td>\n",
       "      <td>21553</td>\n",
       "      <td>9</td>\n",
       "      <td>0</td>\n",
       "      <td>Lowfat 2% Milkfat Cottage Cheese</td>\n",
       "      <td>108</td>\n",
       "      <td>16</td>\n",
       "      <td>14900.0</td>\n",
       "      <td>High-range product</td>\n",
       "      <td>Regularly busy</td>\n",
       "      <td>Busiest days</td>\n",
       "      <td>Average orders</td>\n",
       "    </tr>\n",
       "    <tr>\n",
       "      <th>...</th>\n",
       "      <td>...</td>\n",
       "      <td>...</td>\n",
       "      <td>...</td>\n",
       "      <td>...</td>\n",
       "      <td>...</td>\n",
       "      <td>...</td>\n",
       "      <td>...</td>\n",
       "      <td>...</td>\n",
       "      <td>...</td>\n",
       "      <td>...</td>\n",
       "      <td>...</td>\n",
       "      <td>...</td>\n",
       "      <td>...</td>\n",
       "      <td>...</td>\n",
       "      <td>...</td>\n",
       "      <td>...</td>\n",
       "      <td>...</td>\n",
       "      <td>...</td>\n",
       "    </tr>\n",
       "    <tr>\n",
       "      <th>32320511</th>\n",
       "      <td>3172853</td>\n",
       "      <td>205650</td>\n",
       "      <td>18</td>\n",
       "      <td>1</td>\n",
       "      <td>9</td>\n",
       "      <td>7.0</td>\n",
       "      <td>False</td>\n",
       "      <td>21553</td>\n",
       "      <td>17</td>\n",
       "      <td>1</td>\n",
       "      <td>Lowfat 2% Milkfat Cottage Cheese</td>\n",
       "      <td>108</td>\n",
       "      <td>16</td>\n",
       "      <td>14900.0</td>\n",
       "      <td>High-range product</td>\n",
       "      <td>Regularly busy</td>\n",
       "      <td>Busiest days</td>\n",
       "      <td>Most orders</td>\n",
       "    </tr>\n",
       "    <tr>\n",
       "      <th>32347717</th>\n",
       "      <td>2504315</td>\n",
       "      <td>205818</td>\n",
       "      <td>3</td>\n",
       "      <td>5</td>\n",
       "      <td>15</td>\n",
       "      <td>3.0</td>\n",
       "      <td>False</td>\n",
       "      <td>21553</td>\n",
       "      <td>13</td>\n",
       "      <td>0</td>\n",
       "      <td>Lowfat 2% Milkfat Cottage Cheese</td>\n",
       "      <td>108</td>\n",
       "      <td>16</td>\n",
       "      <td>14900.0</td>\n",
       "      <td>High-range product</td>\n",
       "      <td>Regularly busy</td>\n",
       "      <td>Regularly busy</td>\n",
       "      <td>Most orders</td>\n",
       "    </tr>\n",
       "    <tr>\n",
       "      <th>32347727</th>\n",
       "      <td>1108388</td>\n",
       "      <td>205818</td>\n",
       "      <td>5</td>\n",
       "      <td>4</td>\n",
       "      <td>5</td>\n",
       "      <td>1.0</td>\n",
       "      <td>False</td>\n",
       "      <td>21553</td>\n",
       "      <td>5</td>\n",
       "      <td>1</td>\n",
       "      <td>Lowfat 2% Milkfat Cottage Cheese</td>\n",
       "      <td>108</td>\n",
       "      <td>16</td>\n",
       "      <td>14900.0</td>\n",
       "      <td>High-range product</td>\n",
       "      <td>Least busy</td>\n",
       "      <td>Slowest days</td>\n",
       "      <td>Fewest orders</td>\n",
       "    </tr>\n",
       "    <tr>\n",
       "      <th>32380527</th>\n",
       "      <td>1916142</td>\n",
       "      <td>206049</td>\n",
       "      <td>1</td>\n",
       "      <td>2</td>\n",
       "      <td>17</td>\n",
       "      <td>NaN</td>\n",
       "      <td>True</td>\n",
       "      <td>21553</td>\n",
       "      <td>2</td>\n",
       "      <td>0</td>\n",
       "      <td>Lowfat 2% Milkfat Cottage Cheese</td>\n",
       "      <td>108</td>\n",
       "      <td>16</td>\n",
       "      <td>14900.0</td>\n",
       "      <td>High-range product</td>\n",
       "      <td>Regularly busy</td>\n",
       "      <td>Regularly busy</td>\n",
       "      <td>Average orders</td>\n",
       "    </tr>\n",
       "    <tr>\n",
       "      <th>32380551</th>\n",
       "      <td>379732</td>\n",
       "      <td>206049</td>\n",
       "      <td>4</td>\n",
       "      <td>1</td>\n",
       "      <td>14</td>\n",
       "      <td>5.0</td>\n",
       "      <td>False</td>\n",
       "      <td>21553</td>\n",
       "      <td>4</td>\n",
       "      <td>1</td>\n",
       "      <td>Lowfat 2% Milkfat Cottage Cheese</td>\n",
       "      <td>108</td>\n",
       "      <td>16</td>\n",
       "      <td>14900.0</td>\n",
       "      <td>High-range product</td>\n",
       "      <td>Regularly busy</td>\n",
       "      <td>Busiest days</td>\n",
       "      <td>Most orders</td>\n",
       "    </tr>\n",
       "  </tbody>\n",
       "</table>\n",
       "<p>5127 rows × 18 columns</p>\n",
       "</div>"
      ],
      "text/plain": [
       "          order_id  user_id  order_number  order_day_of_week  order_hour_of_day  days_since_prior_order  first_order  product_id  add_to_cart_order  reordered                      product_name  aisle_id  department_id   prices     price_range_loc     busiest_day    busiest_days busiest_period_of_day\n",
       "1576        912404       17            12                  2                 14                     5.0        False       21553                  5          0  Lowfat 2% Milkfat Cottage Cheese       108             16  14900.0  High-range product  Regularly busy  Regularly busy           Most orders\n",
       "1638        603376       17            22                  6                 16                     4.0        False       21553                  3          1  Lowfat 2% Milkfat Cottage Cheese       108             16  14900.0  High-range product  Regularly busy  Regularly busy           Most orders\n",
       "16522      3264360      135             2                  2                 21                    13.0        False       21553                  6          0  Lowfat 2% Milkfat Cottage Cheese       108             16  14900.0  High-range product  Regularly busy  Regularly busy        Average orders\n",
       "16528       892534      135             3                  0                  8                    12.0        False       21553                  3          1  Lowfat 2% Milkfat Cottage Cheese       108             16  14900.0  High-range product     Busiest day    Busiest days        Average orders\n",
       "53672       229704      342             8                  1                 19                    30.0        False       21553                  9          0  Lowfat 2% Milkfat Cottage Cheese       108             16  14900.0  High-range product  Regularly busy    Busiest days        Average orders\n",
       "...            ...      ...           ...                ...                ...                     ...          ...         ...                ...        ...                               ...       ...            ...      ...                 ...             ...             ...                   ...\n",
       "32320511   3172853   205650            18                  1                  9                     7.0        False       21553                 17          1  Lowfat 2% Milkfat Cottage Cheese       108             16  14900.0  High-range product  Regularly busy    Busiest days           Most orders\n",
       "32347717   2504315   205818             3                  5                 15                     3.0        False       21553                 13          0  Lowfat 2% Milkfat Cottage Cheese       108             16  14900.0  High-range product  Regularly busy  Regularly busy           Most orders\n",
       "32347727   1108388   205818             5                  4                  5                     1.0        False       21553                  5          1  Lowfat 2% Milkfat Cottage Cheese       108             16  14900.0  High-range product      Least busy    Slowest days         Fewest orders\n",
       "32380527   1916142   206049             1                  2                 17                     NaN         True       21553                  2          0  Lowfat 2% Milkfat Cottage Cheese       108             16  14900.0  High-range product  Regularly busy  Regularly busy        Average orders\n",
       "32380551    379732   206049             4                  1                 14                     5.0        False       21553                  4          1  Lowfat 2% Milkfat Cottage Cheese       108             16  14900.0  High-range product  Regularly busy    Busiest days           Most orders\n",
       "\n",
       "[5127 rows x 18 columns]"
      ]
     },
     "execution_count": 19,
     "metadata": {},
     "output_type": "execute_result"
    }
   ],
   "source": [
    "# Running the threshold check - Outlier observation\n",
    "\n",
    "ords_prods_merge.loc[ords_prods_merge['prices'] > 100]"
   ]
  },
  {
   "cell_type": "markdown",
   "id": "543295d1-05a7-4668-928b-61b4569db7d9",
   "metadata": {},
   "source": [
    "#### **Observations:**\n",
    "* There are 5,127 rows with outlier observations (prices > `$100`).\n",
    "* Prices like `$14,900.00` or `$99,9999` per item don't make sense in terms of the other values in column.\n",
    "* Values > 100, therefore, defined as outliers and marked as missing (NaN).\n",
    "#### Turning values > 100 into NaNs"
   ]
  },
  {
   "cell_type": "code",
   "execution_count": 20,
   "id": "92f52618-1ae3-4870-8335-d44f395d2382",
   "metadata": {},
   "outputs": [],
   "source": [
    "# Turning outliers into NaNs\n",
    "\n",
    "ords_prods_merge.loc[ords_prods_merge['prices'] > 100, 'prices'] = np.nan"
   ]
  },
  {
   "cell_type": "code",
   "execution_count": 21,
   "id": "fd5a0b44-16d6-48e5-a51d-338f9ae2db9a",
   "metadata": {},
   "outputs": [
    {
     "data": {
      "text/plain": [
       "25.0"
      ]
     },
     "execution_count": 21,
     "metadata": {},
     "output_type": "execute_result"
    }
   ],
   "source": [
    "# Checking max value\n",
    "\n",
    "ords_prods_merge['prices'].max()"
   ]
  },
  {
   "cell_type": "code",
   "execution_count": 22,
   "id": "0baa6c20-48d9-4d16-a83c-57e882da70dd",
   "metadata": {},
   "outputs": [
    {
     "data": {
      "text/plain": [
       "count    3.239973e+07\n",
       "mean     7.790994e+00\n",
       "std      4.100926e+00\n",
       "min      1.000000e+00\n",
       "25%      4.200000e+00\n",
       "50%      7.400000e+00\n",
       "75%      1.130000e+01\n",
       "max      2.500000e+01\n",
       "Name: prices, dtype: float64"
      ]
     },
     "execution_count": 22,
     "metadata": {},
     "output_type": "execute_result"
    }
   ],
   "source": [
    "ords_prods_merge['prices'].describe()"
   ]
  },
  {
   "cell_type": "markdown",
   "id": "7426b06a-c61c-41e6-a5ff-e9cb52abacc5",
   "metadata": {},
   "source": [
    "- **Now the maximum value of `$25` appears more reasonable.**  \n",
    "- **Logically, a `$25` grocery item is far more plausible than items priced at `$14,900` or `$99,999`.**"
   ]
  },
  {
   "cell_type": "markdown",
   "id": "cebe0e3a-3c52-47e4-900f-38854187bf92",
   "metadata": {},
   "source": [
    "#### **Histogram with cleaned data** - after filtering **outliers**"
   ]
  },
  {
   "cell_type": "code",
   "execution_count": 23,
   "id": "206420e4-bc57-43af-876d-90783a85e40b",
   "metadata": {},
   "outputs": [
    {
     "data": {
      "image/png": "[encoded data removed]",
      "text/plain": [
       "<Figure size 640x480 with 1 Axes>"
      ]
     },
     "metadata": {},
     "output_type": "display_data"
    }
   ],
   "source": [
    "# Creating Histograms for \"prices\"\n",
    "\n",
    "hist = ords_prods_merge['prices'].plot.hist(bins = 25)"
   ]
  },
  {
   "cell_type": "markdown",
   "id": "a8a6d929-7d46-41f9-8752-df9e73590cc7",
   "metadata": {},
   "source": [
    "* Most products fall between `$1`and `$15`, while a few are higher priced at `$15` and `$25`."
   ]
  },
  {
   "cell_type": "code",
   "execution_count": 24,
   "id": "1a688b3c-737d-4203-b570-96d90ed36c6d",
   "metadata": {},
   "outputs": [
    {
     "data": {
      "text/plain": [
       "<function matplotlib.pyplot.show(close=None, block=None)>"
      ]
     },
     "execution_count": 24,
     "metadata": {},
     "output_type": "execute_result"
    },
    {
     "data": {
      "image/png": "[encoded data removed]",
      "text/plain": [
       "<Figure size 1200x600 with 1 Axes>"
      ]
     },
     "metadata": {},
     "output_type": "display_data"
    }
   ],
   "source": [
    "# Histogram with increases granularity --> increasing number of bins from 25 to 75\n",
    "\n",
    "hist_2 = ords_prods_merge['prices'].plot.hist(bins = 75,\n",
    "                                              edgecolor = 'black',\n",
    "                                              color = 'blue',\n",
    "                                              figsize = (12, 6)\n",
    ")\n",
    "# Adding labels\n",
    "plt.title('Order Distribution by Price', fontsize=14)\n",
    "plt.xlabel('Price Range ($)', fontsize=12)\n",
    "plt.ylabel('Number of Orders', fontsize=12)\n",
    "plt.show"
   ]
  },
  {
   "cell_type": "markdown",
   "id": "0d561f5f-7a97-498d-814b-fa25db1afa76",
   "metadata": {},
   "source": [
    "#### Exporting Histogram"
   ]
  },
  {
   "cell_type": "code",
   "execution_count": 25,
   "id": "9cdef81b-38c6-4704-853f-a3171111a47a",
   "metadata": {},
   "outputs": [],
   "source": [
    "# Exporting Histogram\n",
    "\n",
    "hist_2.figure.savefig(os.path.join(path, '04 Analysis', 'Visualizations', 'hist_prices.png'))"
   ]
  },
  {
   "cell_type": "markdown",
   "id": "ea5a9e6b-d73f-4635-a7a4-780f012dc021",
   "metadata": {},
   "source": [
    "### **Creating Line Charts**\n",
    "* **Line charts** show the trending or changes over time.\n",
    "* High computing issue may occur due to massive data volumne\n",
    "* **Subsetting** doesn't capture full population characteristics creating biased and inaccurate visualization.\n",
    "\n",
    "+ Therefore, **Sampling** is the proper method for large datasets.\n",
    "\n",
    "**Must use statistical sampling instead of simple subsetting for accurate, manageable analysis of large subsets.**"
   ]
  },
  {
   "cell_type": "markdown",
   "id": "2a8a749e-8171-4f80-bb35-99054e645716",
   "metadata": {},
   "source": [
    "#### **Sampling Data**\n",
    "* Create random sample, a representative subsection of entire dataset.\n",
    "* Using machine learning approach **(e.g., 80/20 split)**: use 80 percent of a data to train the algorithm and the reamining 20 percent to check the accuracy of the model."
   ]
  },
  {
   "cell_type": "code",
   "execution_count": 26,
   "id": "e4558dc6-e9e8-4b1a-b3d5-69979915659c",
   "metadata": {},
   "outputs": [],
   "source": [
    "# Splitting dataframe into 70/30 ration - generating random split\n",
    "\n",
    "np.random.seed(4)\n",
    "dev = np.random.rand(len(ords_prods_merge)) <= 0.7"
   ]
  },
  {
   "cell_type": "code",
   "execution_count": 27,
   "id": "df4bfe87-2875-4c35-9428-9a172d212475",
   "metadata": {},
   "outputs": [
    {
     "data": {
      "text/plain": [
       "array([False,  True, False, ...,  True,  True,  True], shape=(32404859,))"
      ]
     },
     "execution_count": 27,
     "metadata": {},
     "output_type": "execute_result"
    }
   ],
   "source": [
    "dev"
   ]
  },
  {
   "cell_type": "markdown",
   "id": "b5512d0d-7542-4265-8623-953672420dc0",
   "metadata": {},
   "source": [
    "##### - Splitting dataframe"
   ]
  },
  {
   "cell_type": "code",
   "execution_count": 28,
   "id": "58d5d9c2-e1dc-4eb0-9ee6-01db81cb4589",
   "metadata": {},
   "outputs": [],
   "source": [
    "# Store 70 percent of the sample dataframe big\n",
    "\n",
    "big = ords_prods_merge[dev]"
   ]
  },
  {
   "cell_type": "code",
   "execution_count": 29,
   "id": "259453fb-491b-4370-8c81-93b9f9ff6ba9",
   "metadata": {},
   "outputs": [],
   "source": [
    "# Store 30 percent of the sample dataframe small\n",
    "small = ords_prods_merge[~dev]"
   ]
  },
  {
   "cell_type": "markdown",
   "id": "e1252691-701e-4ea2-85df-1209d3589929",
   "metadata": {},
   "source": [
    "##### - Verifying the splitting\n",
    "* len(ords_prods_merge) = len(big) + len(small)"
   ]
  },
  {
   "cell_type": "code",
   "execution_count": 30,
   "id": "942342b0-8a22-46c9-b7af-30639a607d22",
   "metadata": {},
   "outputs": [
    {
     "data": {
      "text/plain": [
       "32404859"
      ]
     },
     "execution_count": 30,
     "metadata": {},
     "output_type": "execute_result"
    }
   ],
   "source": [
    "len(ords_prods_merge)"
   ]
  },
  {
   "cell_type": "code",
   "execution_count": 31,
   "id": "5b7b76c6-2fd8-4d89-8071-f57343def1be",
   "metadata": {},
   "outputs": [
    {
     "data": {
      "text/plain": [
       "32404859"
      ]
     },
     "execution_count": 31,
     "metadata": {},
     "output_type": "execute_result"
    }
   ],
   "source": [
    "len(big) + len(small)"
   ]
  },
  {
   "cell_type": "markdown",
   "id": "8c86d1c9-d9d5-406d-8eea-fb0887c8bb44",
   "metadata": {},
   "source": [
    "##### - Reducing samples to only necessary columns for the **line chart**, namely \"prices\" and \"order_day_of_week\""
   ]
  },
  {
   "cell_type": "code",
   "execution_count": 32,
   "id": "965bded7-073a-4a7d-a7be-98d09c0b6195",
   "metadata": {},
   "outputs": [],
   "source": [
    "# Reducing the sample to only necessary variables\n",
    "df_2 = small[['order_day_of_week', 'prices']]"
   ]
  },
  {
   "cell_type": "markdown",
   "id": "cbaea525-8ef1-464f-95de-b45c71b1c2a7",
   "metadata": {},
   "source": [
    "##### - Creating line chart"
   ]
  },
  {
   "cell_type": "code",
   "execution_count": 33,
   "id": "8a1526cd-ca41-4f9c-8219-20b6398ab530",
   "metadata": {},
   "outputs": [
    {
     "data": {
      "image/png": "[encoded data removed]",
      "text/plain": [
       "<Figure size 1200x600 with 1 Axes>"
      ]
     },
     "metadata": {},
     "output_type": "display_data"
    }
   ],
   "source": [
    "# Creating line chart for small sample\n",
    "line = plt.figure(figsize=(12, 6))\n",
    "sns.lineplot(data = df_2, x = 'order_day_of_week', y = 'prices')\n",
    "\n",
    "# Adding labels\n",
    "plt.title('Price Spent per Item by Day of Week', fontsize=14)\n",
    "plt.xlabel('Order Day of Week (0 = Saturday, 6 = Friday)', fontsize=12)\n",
    "plt.ylabel('Price ($)', fontsize=12)\n",
    "plt.show()"
   ]
  },
  {
   "cell_type": "code",
   "execution_count": 34,
   "id": "c0890054-64b6-4ee4-9ae9-86b9e96e0296",
   "metadata": {},
   "outputs": [],
   "source": [
    "# Exporting Line chart\n",
    "\n",
    "line.figure.savefig(os.path.join(path, '04 Analysis', 'Visualizations', 'line_prices.png'))"
   ]
  },
  {
   "cell_type": "markdown",
   "id": "9538e483-1a1e-47bd-972a-14e161a2e73c",
   "metadata": {},
   "source": [
    "* Line chart shows that the most money is spent on Friday (6) and Saturday (0).\n",
    "* Translucent blue band around line is called **error band** and represents chart's confidence intervals.\n",
    "* In other words, the wider the blue band, the less certain the prediction is. A narrow band means the prediction is very confident.\n",
    "##### Creating line chart for big sample\n",
    "* Due to hardware limitations, generating a line chart with the full dataset on a machine equipped with less than 16 GB of RAM may not be feasible. Nevertheless, the proposed method can be considered highly reliable, as its accuracy can be validated by constructing a line chart using a smaller subsample (30% of the data), which effectively represents the trends of the larger dataset (70%)."
   ]
  }
 ],
 "metadata": {
  "kernelspec": {
   "display_name": "Python (myenv)",
   "language": "python",
   "name": "myenv"
  },
  "language_info": {
   "codemirror_mode": {
    "name": "ipython",
    "version": 3
   },
   "file_extension": ".py",
   "mimetype": "text/x-python",
   "name": "python",
   "nbconvert_exporter": "python",
   "pygments_lexer": "ipython3",
   "version": "3.11.13"
  }
 },
 "nbformat": 4,
 "nbformat_minor": 5
}
