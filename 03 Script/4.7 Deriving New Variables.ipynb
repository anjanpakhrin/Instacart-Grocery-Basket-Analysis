{
 "cells": [
  {
   "cell_type": "markdown",
   "id": "6d484f0b-f098-4429-a744-01344a14e29c",
   "metadata": {},
   "source": [
    "## If-Statements\n",
    "### If-Statements with User-Defined Functions\n",
    "1. A definition of the name and arguments the function will take\n",
    "2. What the function is meant to do"
   ]
  },
  {
   "cell_type": "code",
   "execution_count": 1,
   "id": "1787cd51-44a0-453b-a11a-38477d1b517f",
   "metadata": {},
   "outputs": [],
   "source": [
    "# Import libraries\n",
    "\n",
    "import pandas as pd\n",
    "import numpy as np\n",
    "import os"
   ]
  },
  {
   "cell_type": "code",
   "execution_count": 2,
   "id": "55b25732-84e6-4019-aefd-67c9fa0b1178",
   "metadata": {},
   "outputs": [],
   "source": [
    "# Set display options for better viewing\n",
    "\n",
    "pd.set_option('display.width', 1000)\n",
    "pd.set_option('display.max_columns', None)  # Limit columns\n",
    "pd.set_option('display.max_rows', 50)      # Limit rows"
   ]
  },
  {
   "cell_type": "code",
   "execution_count": 3,
   "id": "7fc30e42-f21b-4989-8a57-88bf1f1dbceb",
   "metadata": {},
   "outputs": [],
   "source": [
    "# Creating shortcut for data file\n",
    "path = r'/Users/anjanpakhrin/Documents/Instacart Basket Analysis/'"
   ]
  },
  {
   "cell_type": "code",
   "execution_count": 4,
   "id": "308f1227-3fe2-4516-9880-e0966b58364a",
   "metadata": {},
   "outputs": [],
   "source": [
    "# Create path to data file\n",
    "\n",
    "df_ords_prods_merge = pd.read_pickle(os.path.join(path, '02 Data', 'Prepared Data', 'ords_prods_merge.pkl'))"
   ]
  },
  {
   "cell_type": "code",
   "execution_count": 5,
   "id": "10396ecb-3a1f-4341-9b02-f7dc64c4b824",
   "metadata": {
    "scrolled": true
   },
   "outputs": [
    {
     "data": {
      "text/html": [
       "<div>\n",
       "<style scoped>\n",
       "    .dataframe tbody tr th:only-of-type {\n",
       "        vertical-align: middle;\n",
       "    }\n",
       "\n",
       "    .dataframe tbody tr th {\n",
       "        vertical-align: top;\n",
       "    }\n",
       "\n",
       "    .dataframe thead th {\n",
       "        text-align: right;\n",
       "    }\n",
       "</style>\n",
       "<table border=\"1\" class=\"dataframe\">\n",
       "  <thead>\n",
       "    <tr style=\"text-align: right;\">\n",
       "      <th></th>\n",
       "      <th>order_id</th>\n",
       "      <th>user_id</th>\n",
       "      <th>order_number</th>\n",
       "      <th>order_day_of_week</th>\n",
       "      <th>order_hour_of_day</th>\n",
       "      <th>days_since_prior_order</th>\n",
       "      <th>first_order</th>\n",
       "      <th>product_id</th>\n",
       "      <th>add_to_cart_order</th>\n",
       "      <th>reordered</th>\n",
       "      <th>product_name</th>\n",
       "      <th>aisle_id</th>\n",
       "      <th>department_id</th>\n",
       "      <th>prices</th>\n",
       "    </tr>\n",
       "  </thead>\n",
       "  <tbody>\n",
       "    <tr>\n",
       "      <th>0</th>\n",
       "      <td>2539329</td>\n",
       "      <td>1</td>\n",
       "      <td>1</td>\n",
       "      <td>2</td>\n",
       "      <td>8</td>\n",
       "      <td>NaN</td>\n",
       "      <td>True</td>\n",
       "      <td>196</td>\n",
       "      <td>1</td>\n",
       "      <td>0</td>\n",
       "      <td>Soda</td>\n",
       "      <td>77</td>\n",
       "      <td>7</td>\n",
       "      <td>9.0</td>\n",
       "    </tr>\n",
       "    <tr>\n",
       "      <th>1</th>\n",
       "      <td>2539329</td>\n",
       "      <td>1</td>\n",
       "      <td>1</td>\n",
       "      <td>2</td>\n",
       "      <td>8</td>\n",
       "      <td>NaN</td>\n",
       "      <td>True</td>\n",
       "      <td>14084</td>\n",
       "      <td>2</td>\n",
       "      <td>0</td>\n",
       "      <td>Organic Unsweetened Vanilla Almond Milk</td>\n",
       "      <td>91</td>\n",
       "      <td>16</td>\n",
       "      <td>12.5</td>\n",
       "    </tr>\n",
       "    <tr>\n",
       "      <th>2</th>\n",
       "      <td>2539329</td>\n",
       "      <td>1</td>\n",
       "      <td>1</td>\n",
       "      <td>2</td>\n",
       "      <td>8</td>\n",
       "      <td>NaN</td>\n",
       "      <td>True</td>\n",
       "      <td>12427</td>\n",
       "      <td>3</td>\n",
       "      <td>0</td>\n",
       "      <td>Original Beef Jerky</td>\n",
       "      <td>23</td>\n",
       "      <td>19</td>\n",
       "      <td>4.4</td>\n",
       "    </tr>\n",
       "    <tr>\n",
       "      <th>3</th>\n",
       "      <td>2539329</td>\n",
       "      <td>1</td>\n",
       "      <td>1</td>\n",
       "      <td>2</td>\n",
       "      <td>8</td>\n",
       "      <td>NaN</td>\n",
       "      <td>True</td>\n",
       "      <td>26088</td>\n",
       "      <td>4</td>\n",
       "      <td>0</td>\n",
       "      <td>Aged White Cheddar Popcorn</td>\n",
       "      <td>23</td>\n",
       "      <td>19</td>\n",
       "      <td>4.7</td>\n",
       "    </tr>\n",
       "    <tr>\n",
       "      <th>4</th>\n",
       "      <td>2539329</td>\n",
       "      <td>1</td>\n",
       "      <td>1</td>\n",
       "      <td>2</td>\n",
       "      <td>8</td>\n",
       "      <td>NaN</td>\n",
       "      <td>True</td>\n",
       "      <td>26405</td>\n",
       "      <td>5</td>\n",
       "      <td>0</td>\n",
       "      <td>XL Pick-A-Size Paper Towel Rolls</td>\n",
       "      <td>54</td>\n",
       "      <td>17</td>\n",
       "      <td>1.0</td>\n",
       "    </tr>\n",
       "  </tbody>\n",
       "</table>\n",
       "</div>"
      ],
      "text/plain": [
       "   order_id  user_id  order_number  order_day_of_week  order_hour_of_day  days_since_prior_order  first_order  product_id  add_to_cart_order  reordered                             product_name  aisle_id  department_id  prices\n",
       "0   2539329        1             1                  2                  8                     NaN         True         196                  1          0                                     Soda        77              7     9.0\n",
       "1   2539329        1             1                  2                  8                     NaN         True       14084                  2          0  Organic Unsweetened Vanilla Almond Milk        91             16    12.5\n",
       "2   2539329        1             1                  2                  8                     NaN         True       12427                  3          0                      Original Beef Jerky        23             19     4.4\n",
       "3   2539329        1             1                  2                  8                     NaN         True       26088                  4          0               Aged White Cheddar Popcorn        23             19     4.7\n",
       "4   2539329        1             1                  2                  8                     NaN         True       26405                  5          0         XL Pick-A-Size Paper Towel Rolls        54             17     1.0"
      ]
     },
     "execution_count": 5,
     "metadata": {},
     "output_type": "execute_result"
    }
   ],
   "source": [
    "# Checking output\n",
    "\n",
    "df_ords_prods_merge.head()"
   ]
  },
  {
   "cell_type": "markdown",
   "id": "57148398-53f8-4f62-ac7c-69c85b965283",
   "metadata": {},
   "source": [
    "#### Applying following criteria:\n",
    "\n",
    "* If price <= 5$, then \"low-range product\"\n",
    "\n",
    "* If 5$ < price <= 15$, then \"mid-range product\"\n",
    "\n",
    "* If price > 15$, then \"high-range product\""
   ]
  },
  {
   "cell_type": "code",
   "execution_count": 6,
   "id": "8249f97b-b9ef-4d9e-b725-302a14e0ca1d",
   "metadata": {},
   "outputs": [
    {
     "name": "stdout",
     "output_type": "stream",
     "text": [
      "Number of rows with price = 99999: 698\n"
     ]
    }
   ],
   "source": [
    "# Count number of 99999.0 withing df\n",
    "count_99999= (df_ords_prods_merge['prices'] == 99999).sum()\n",
    "print(f\"Number of rows with price = 99999: {count_99999}\")"
   ]
  },
  {
   "cell_type": "code",
   "execution_count": 7,
   "id": "0ec0607d-9b32-40ca-a4d2-ba67390af42c",
   "metadata": {},
   "outputs": [],
   "source": [
    "# Create subset of the first one million rows\n",
    "# Colon (:) after a number, e.g., 20: includes all the numbers before 20.\n",
    "# Colom (:) before a number, e.g., :20 includes all the number after 20.\n",
    "df = df_ords_prods_merge[:1000000]"
   ]
  },
  {
   "cell_type": "markdown",
   "id": "1c7411fe-10bc-4073-82e6-89f6c010c29a",
   "metadata": {},
   "source": [
    "#### Defining **price label**"
   ]
  },
  {
   "cell_type": "code",
   "execution_count": 8,
   "id": "f889c242-fc7c-4ac2-98ef-771646568cb9",
   "metadata": {},
   "outputs": [],
   "source": [
    "# Define function\n",
    "\n",
    "def price_label(row):\n",
    "\n",
    "    if row['prices'] <= 5:\n",
    "        return 'Low-range product'\n",
    "    elif (row['prices'] > 5) and (row['prices'] <= 15):\n",
    "        return 'Mid-range product'\n",
    "    elif row['prices'] > 15:\n",
    "        return 'High-range product'\n",
    "    else: \n",
    "        return 'Not enoguh data'"
   ]
  },
  {
   "cell_type": "markdown",
   "id": "98fb594c-c2b5-4edc-af8e-a020392458b0",
   "metadata": {},
   "source": [
    "#### Applying function **\"price_label\"** --> flag price label to every row"
   ]
  },
  {
   "cell_type": "code",
   "execution_count": 9,
   "id": "57731866-83c7-43a0-8d12-294cb6461e31",
   "metadata": {},
   "outputs": [
    {
     "name": "stderr",
     "output_type": "stream",
     "text": [
      "/var/folders/32/mf7gfb_95f5cvtpq66k8g7lc0000gn/T/ipykernel_29015/783045310.py:2: SettingWithCopyWarning: \n",
      "A value is trying to be set on a copy of a slice from a DataFrame.\n",
      "Try using .loc[row_indexer,col_indexer] = value instead\n",
      "\n",
      "See the caveats in the documentation: https://pandas.pydata.org/pandas-docs/stable/user_guide/indexing.html#returning-a-view-versus-a-copy\n",
      "  df['price_range'] = df.apply(price_label, axis=1)\n"
     ]
    }
   ],
   "source": [
    "# create a new column \"price_range\" within the df\n",
    "df['price_range'] = df.apply(price_label, axis=1)"
   ]
  },
  {
   "cell_type": "code",
   "execution_count": 10,
   "id": "1a681dfb-e540-479c-8cbc-340cc44a4257",
   "metadata": {},
   "outputs": [
    {
     "data": {
      "text/plain": [
       "price_range\n",
       "Mid-range product     673183\n",
       "Low-range product     314392\n",
       "High-range product     12425\n",
       "Name: count, dtype: int64"
      ]
     },
     "execution_count": 10,
     "metadata": {},
     "output_type": "execute_result"
    }
   ],
   "source": [
    "# Checking the frequency of each price label\n",
    "df['price_range'].value_counts(dropna = False)"
   ]
  },
  {
   "cell_type": "code",
   "execution_count": 11,
   "id": "67d1c062-a10b-4e52-a81b-f8632f6ad7bd",
   "metadata": {},
   "outputs": [
    {
     "data": {
      "text/plain": [
       "99999.0"
      ]
     },
     "execution_count": 11,
     "metadata": {},
     "output_type": "execute_result"
    }
   ],
   "source": [
    "# Checking most expensive product within this subset\n",
    "df['prices'].max()"
   ]
  },
  {
   "cell_type": "code",
   "execution_count": 12,
   "id": "b0e3a750-4862-4c29-8917-ffde364f769d",
   "metadata": {},
   "outputs": [
    {
     "name": "stdout",
     "output_type": "stream",
     "text": [
      "Number of rows with price = 99999: 15\n"
     ]
    }
   ],
   "source": [
    "# Count number of 99999.0 within df\n",
    "count_99999= (df['prices'] == 99999).sum()\n",
    "print(f\"Number of rows with price = 99999: {count_99999}\")"
   ]
  },
  {
   "cell_type": "markdown",
   "id": "162f30fe-dc5e-4012-80fb-f6db21086044",
   "metadata": {},
   "source": [
    "### If-Statements with the loc() Function"
   ]
  },
  {
   "cell_type": "markdown",
   "id": "735b2e23-e9d6-4018-aed1-2088d1545834",
   "metadata": {},
   "source": [
    "#### Creating conditions for **subset**"
   ]
  },
  {
   "cell_type": "code",
   "execution_count": 13,
   "id": "e7f39467-6bf2-4f64-8855-73f5a5f6af6d",
   "metadata": {},
   "outputs": [
    {
     "name": "stderr",
     "output_type": "stream",
     "text": [
      "/var/folders/32/mf7gfb_95f5cvtpq66k8g7lc0000gn/T/ipykernel_29015/2225820115.py:3: SettingWithCopyWarning: \n",
      "A value is trying to be set on a copy of a slice from a DataFrame.\n",
      "Try using .loc[row_indexer,col_indexer] = value instead\n",
      "\n",
      "See the caveats in the documentation: https://pandas.pydata.org/pandas-docs/stable/user_guide/indexing.html#returning-a-view-versus-a-copy\n",
      "  df.loc[df['prices'] > 15, 'price_range_loc'] = 'High-range product'\n"
     ]
    }
   ],
   "source": [
    "# If price > 15$, then \"high-range product\"\n",
    "\n",
    "df.loc[df['prices'] > 15, 'price_range_loc'] = 'High-range product'"
   ]
  },
  {
   "cell_type": "code",
   "execution_count": 14,
   "id": "0a6b5391-3f16-4fcc-a646-b9548d62ac2f",
   "metadata": {},
   "outputs": [],
   "source": [
    "# If 5 < price <=, then \"mid-range product\"\n",
    "\n",
    "df.loc[(df['prices'] <= 15) & (df['prices'] > 5), 'price_range_loc'] = 'Mid-range product'"
   ]
  },
  {
   "cell_type": "code",
   "execution_count": 15,
   "id": "0f37240b-e036-4998-b6cf-142724c27e24",
   "metadata": {},
   "outputs": [],
   "source": [
    "# If price > 15$, then \"high-range product\"\n",
    "\n",
    "df.loc[df['prices'] <= 5, 'price_range_loc'] = 'Low-range product'"
   ]
  },
  {
   "cell_type": "markdown",
   "id": "4d337a29-3ff7-453b-81ee-6fd26936f242",
   "metadata": {},
   "source": [
    "#### Applying conditions within whole dataframe **ords_prods_merge**"
   ]
  },
  {
   "cell_type": "code",
   "execution_count": 16,
   "id": "950170da-825a-41b5-8ff6-1a520fda233d",
   "metadata": {},
   "outputs": [],
   "source": [
    "# If price > 15$, then \"high-range product\"\n",
    "\n",
    "df_ords_prods_merge.loc[df_ords_prods_merge['prices'] > 15, 'price_range_loc'] = 'High-range product'"
   ]
  },
  {
   "cell_type": "code",
   "execution_count": 17,
   "id": "637595b4-4615-4e89-96b9-9f473094cb7e",
   "metadata": {},
   "outputs": [],
   "source": [
    "# If 5 < price <=, then \"mid-range product\"\n",
    "\n",
    "df_ords_prods_merge.loc[(df_ords_prods_merge['prices'] <= 15) & (df_ords_prods_merge['prices'] > 5), 'price_range_loc'] = 'Mid-range product'"
   ]
  },
  {
   "cell_type": "code",
   "execution_count": 18,
   "id": "f0989255-bf64-4914-83d3-fc2b9ef1aff7",
   "metadata": {},
   "outputs": [],
   "source": [
    "# If price > 15$, then \"high-range product\"\n",
    "\n",
    "df_ords_prods_merge.loc[df_ords_prods_merge['prices'] <= 5, 'price_range_loc'] = 'Low-range product'"
   ]
  },
  {
   "cell_type": "code",
   "execution_count": 19,
   "id": "0cac2e0d-fef5-4980-ba21-14ff9f3fa429",
   "metadata": {
    "scrolled": true
   },
   "outputs": [
    {
     "data": {
      "text/plain": [
       "price_range_loc\n",
       "Mid-range product     21860860\n",
       "Low-range product     10126321\n",
       "High-range product      417678\n",
       "Name: count, dtype: int64"
      ]
     },
     "execution_count": 19,
     "metadata": {},
     "output_type": "execute_result"
    }
   ],
   "source": [
    "df_ords_prods_merge['price_range_loc'].value_counts(dropna=False)"
   ]
  },
  {
   "cell_type": "code",
   "execution_count": 20,
   "id": "dba55c3b-7c77-4f88-bfb4-eae09070a777",
   "metadata": {},
   "outputs": [
    {
     "data": {
      "text/html": [
       "<div>\n",
       "<style scoped>\n",
       "    .dataframe tbody tr th:only-of-type {\n",
       "        vertical-align: middle;\n",
       "    }\n",
       "\n",
       "    .dataframe tbody tr th {\n",
       "        vertical-align: top;\n",
       "    }\n",
       "\n",
       "    .dataframe thead th {\n",
       "        text-align: right;\n",
       "    }\n",
       "</style>\n",
       "<table border=\"1\" class=\"dataframe\">\n",
       "  <thead>\n",
       "    <tr style=\"text-align: right;\">\n",
       "      <th></th>\n",
       "      <th>order_id</th>\n",
       "      <th>user_id</th>\n",
       "      <th>order_number</th>\n",
       "      <th>order_day_of_week</th>\n",
       "      <th>order_hour_of_day</th>\n",
       "      <th>days_since_prior_order</th>\n",
       "      <th>first_order</th>\n",
       "      <th>product_id</th>\n",
       "      <th>add_to_cart_order</th>\n",
       "      <th>reordered</th>\n",
       "      <th>product_name</th>\n",
       "      <th>aisle_id</th>\n",
       "      <th>department_id</th>\n",
       "      <th>prices</th>\n",
       "      <th>price_range_loc</th>\n",
       "    </tr>\n",
       "  </thead>\n",
       "  <tbody>\n",
       "    <tr>\n",
       "      <th>0</th>\n",
       "      <td>2539329</td>\n",
       "      <td>1</td>\n",
       "      <td>1</td>\n",
       "      <td>2</td>\n",
       "      <td>8</td>\n",
       "      <td>NaN</td>\n",
       "      <td>True</td>\n",
       "      <td>196</td>\n",
       "      <td>1</td>\n",
       "      <td>0</td>\n",
       "      <td>Soda</td>\n",
       "      <td>77</td>\n",
       "      <td>7</td>\n",
       "      <td>9.0</td>\n",
       "      <td>Mid-range product</td>\n",
       "    </tr>\n",
       "    <tr>\n",
       "      <th>1</th>\n",
       "      <td>2539329</td>\n",
       "      <td>1</td>\n",
       "      <td>1</td>\n",
       "      <td>2</td>\n",
       "      <td>8</td>\n",
       "      <td>NaN</td>\n",
       "      <td>True</td>\n",
       "      <td>14084</td>\n",
       "      <td>2</td>\n",
       "      <td>0</td>\n",
       "      <td>Organic Unsweetened Vanilla Almond Milk</td>\n",
       "      <td>91</td>\n",
       "      <td>16</td>\n",
       "      <td>12.5</td>\n",
       "      <td>Mid-range product</td>\n",
       "    </tr>\n",
       "    <tr>\n",
       "      <th>2</th>\n",
       "      <td>2539329</td>\n",
       "      <td>1</td>\n",
       "      <td>1</td>\n",
       "      <td>2</td>\n",
       "      <td>8</td>\n",
       "      <td>NaN</td>\n",
       "      <td>True</td>\n",
       "      <td>12427</td>\n",
       "      <td>3</td>\n",
       "      <td>0</td>\n",
       "      <td>Original Beef Jerky</td>\n",
       "      <td>23</td>\n",
       "      <td>19</td>\n",
       "      <td>4.4</td>\n",
       "      <td>Low-range product</td>\n",
       "    </tr>\n",
       "    <tr>\n",
       "      <th>3</th>\n",
       "      <td>2539329</td>\n",
       "      <td>1</td>\n",
       "      <td>1</td>\n",
       "      <td>2</td>\n",
       "      <td>8</td>\n",
       "      <td>NaN</td>\n",
       "      <td>True</td>\n",
       "      <td>26088</td>\n",
       "      <td>4</td>\n",
       "      <td>0</td>\n",
       "      <td>Aged White Cheddar Popcorn</td>\n",
       "      <td>23</td>\n",
       "      <td>19</td>\n",
       "      <td>4.7</td>\n",
       "      <td>Low-range product</td>\n",
       "    </tr>\n",
       "    <tr>\n",
       "      <th>4</th>\n",
       "      <td>2539329</td>\n",
       "      <td>1</td>\n",
       "      <td>1</td>\n",
       "      <td>2</td>\n",
       "      <td>8</td>\n",
       "      <td>NaN</td>\n",
       "      <td>True</td>\n",
       "      <td>26405</td>\n",
       "      <td>5</td>\n",
       "      <td>0</td>\n",
       "      <td>XL Pick-A-Size Paper Towel Rolls</td>\n",
       "      <td>54</td>\n",
       "      <td>17</td>\n",
       "      <td>1.0</td>\n",
       "      <td>Low-range product</td>\n",
       "    </tr>\n",
       "  </tbody>\n",
       "</table>\n",
       "</div>"
      ],
      "text/plain": [
       "   order_id  user_id  order_number  order_day_of_week  order_hour_of_day  days_since_prior_order  first_order  product_id  add_to_cart_order  reordered                             product_name  aisle_id  department_id  prices    price_range_loc\n",
       "0   2539329        1             1                  2                  8                     NaN         True         196                  1          0                                     Soda        77              7     9.0  Mid-range product\n",
       "1   2539329        1             1                  2                  8                     NaN         True       14084                  2          0  Organic Unsweetened Vanilla Almond Milk        91             16    12.5  Mid-range product\n",
       "2   2539329        1             1                  2                  8                     NaN         True       12427                  3          0                      Original Beef Jerky        23             19     4.4  Low-range product\n",
       "3   2539329        1             1                  2                  8                     NaN         True       26088                  4          0               Aged White Cheddar Popcorn        23             19     4.7  Low-range product\n",
       "4   2539329        1             1                  2                  8                     NaN         True       26405                  5          0         XL Pick-A-Size Paper Towel Rolls        54             17     1.0  Low-range product"
      ]
     },
     "execution_count": 20,
     "metadata": {},
     "output_type": "execute_result"
    }
   ],
   "source": [
    "df_ords_prods_merge.head()"
   ]
  },
  {
   "cell_type": "markdown",
   "id": "60daf14a-4ccc-4c69-a634-9963ef69ea3e",
   "metadata": {},
   "source": [
    "### If-Statements with For-Loops"
   ]
  },
  {
   "cell_type": "code",
   "execution_count": 21,
   "id": "abecb459-d6b8-4ae9-b8f1-b4f2e51f6c76",
   "metadata": {},
   "outputs": [
    {
     "data": {
      "text/plain": [
       "order_day_of_week\n",
       "0    6204182\n",
       "1    5660230\n",
       "6    4496490\n",
       "2    4213830\n",
       "5    4205791\n",
       "3    3840534\n",
       "4    3783802\n",
       "Name: count, dtype: int64"
      ]
     },
     "execution_count": 21,
     "metadata": {},
     "output_type": "execute_result"
    }
   ],
   "source": [
    "# Frequency of the \"order_day_of_week\"\n",
    "df_ords_prods_merge['order_day_of_week'].value_counts(dropna = False)"
   ]
  },
  {
   "cell_type": "markdown",
   "id": "80c7d4d1-ed9e-47ef-96ea-3dd85f82deae",
   "metadata": {},
   "source": [
    "#### Create new column to flag **\"Busiest day\", \"Least busy\" & \"Regularly busy\"**"
   ]
  },
  {
   "cell_type": "code",
   "execution_count": 22,
   "id": "7d92964c-7a21-4cf0-8251-0bfb2509240e",
   "metadata": {},
   "outputs": [],
   "source": [
    "# Define function\n",
    "\n",
    "result = []\n",
    "for value in df_ords_prods_merge['order_day_of_week']:\n",
    "    if value == 0:\n",
    "        result.append('Busiest day')\n",
    "    elif value == 4:\n",
    "        result.append('Least busy')\n",
    "    else:\n",
    "        result.append('Regularly busy')"
   ]
  },
  {
   "cell_type": "code",
   "execution_count": 23,
   "id": "b6391f16-7b0b-4a5e-8b6e-154158470e07",
   "metadata": {},
   "outputs": [],
   "source": [
    "# Create a new column \"busiest_day\"\n",
    "\n",
    "df_ords_prods_merge['busiest_day'] = result"
   ]
  },
  {
   "cell_type": "code",
   "execution_count": 24,
   "id": "b562ac9a-2a5f-4338-b57c-c4f63debfd46",
   "metadata": {},
   "outputs": [
    {
     "data": {
      "text/plain": [
       "busiest_day\n",
       "Regularly busy    22416875\n",
       "Busiest day        6204182\n",
       "Least busy         3783802\n",
       "Name: count, dtype: int64"
      ]
     },
     "execution_count": 24,
     "metadata": {},
     "output_type": "execute_result"
    }
   ],
   "source": [
    "# Checking frequency of \"busiest_day\"\n",
    "df_ords_prods_merge['busiest_day'].value_counts(dropna=False)"
   ]
  },
  {
   "cell_type": "code",
   "execution_count": 25,
   "id": "45ed9904-b3aa-47c5-ad53-b3bad3c872b3",
   "metadata": {},
   "outputs": [
    {
     "data": {
      "text/html": [
       "<div>\n",
       "<style scoped>\n",
       "    .dataframe tbody tr th:only-of-type {\n",
       "        vertical-align: middle;\n",
       "    }\n",
       "\n",
       "    .dataframe tbody tr th {\n",
       "        vertical-align: top;\n",
       "    }\n",
       "\n",
       "    .dataframe thead th {\n",
       "        text-align: right;\n",
       "    }\n",
       "</style>\n",
       "<table border=\"1\" class=\"dataframe\">\n",
       "  <thead>\n",
       "    <tr style=\"text-align: right;\">\n",
       "      <th></th>\n",
       "      <th>order_id</th>\n",
       "      <th>user_id</th>\n",
       "      <th>order_number</th>\n",
       "      <th>order_day_of_week</th>\n",
       "      <th>order_hour_of_day</th>\n",
       "      <th>days_since_prior_order</th>\n",
       "      <th>first_order</th>\n",
       "      <th>product_id</th>\n",
       "      <th>add_to_cart_order</th>\n",
       "      <th>reordered</th>\n",
       "      <th>product_name</th>\n",
       "      <th>aisle_id</th>\n",
       "      <th>department_id</th>\n",
       "      <th>prices</th>\n",
       "      <th>price_range_loc</th>\n",
       "      <th>busiest_day</th>\n",
       "    </tr>\n",
       "  </thead>\n",
       "  <tbody>\n",
       "    <tr>\n",
       "      <th>0</th>\n",
       "      <td>2539329</td>\n",
       "      <td>1</td>\n",
       "      <td>1</td>\n",
       "      <td>2</td>\n",
       "      <td>8</td>\n",
       "      <td>NaN</td>\n",
       "      <td>True</td>\n",
       "      <td>196</td>\n",
       "      <td>1</td>\n",
       "      <td>0</td>\n",
       "      <td>Soda</td>\n",
       "      <td>77</td>\n",
       "      <td>7</td>\n",
       "      <td>9.0</td>\n",
       "      <td>Mid-range product</td>\n",
       "      <td>Regularly busy</td>\n",
       "    </tr>\n",
       "    <tr>\n",
       "      <th>1</th>\n",
       "      <td>2539329</td>\n",
       "      <td>1</td>\n",
       "      <td>1</td>\n",
       "      <td>2</td>\n",
       "      <td>8</td>\n",
       "      <td>NaN</td>\n",
       "      <td>True</td>\n",
       "      <td>14084</td>\n",
       "      <td>2</td>\n",
       "      <td>0</td>\n",
       "      <td>Organic Unsweetened Vanilla Almond Milk</td>\n",
       "      <td>91</td>\n",
       "      <td>16</td>\n",
       "      <td>12.5</td>\n",
       "      <td>Mid-range product</td>\n",
       "      <td>Regularly busy</td>\n",
       "    </tr>\n",
       "    <tr>\n",
       "      <th>2</th>\n",
       "      <td>2539329</td>\n",
       "      <td>1</td>\n",
       "      <td>1</td>\n",
       "      <td>2</td>\n",
       "      <td>8</td>\n",
       "      <td>NaN</td>\n",
       "      <td>True</td>\n",
       "      <td>12427</td>\n",
       "      <td>3</td>\n",
       "      <td>0</td>\n",
       "      <td>Original Beef Jerky</td>\n",
       "      <td>23</td>\n",
       "      <td>19</td>\n",
       "      <td>4.4</td>\n",
       "      <td>Low-range product</td>\n",
       "      <td>Regularly busy</td>\n",
       "    </tr>\n",
       "    <tr>\n",
       "      <th>3</th>\n",
       "      <td>2539329</td>\n",
       "      <td>1</td>\n",
       "      <td>1</td>\n",
       "      <td>2</td>\n",
       "      <td>8</td>\n",
       "      <td>NaN</td>\n",
       "      <td>True</td>\n",
       "      <td>26088</td>\n",
       "      <td>4</td>\n",
       "      <td>0</td>\n",
       "      <td>Aged White Cheddar Popcorn</td>\n",
       "      <td>23</td>\n",
       "      <td>19</td>\n",
       "      <td>4.7</td>\n",
       "      <td>Low-range product</td>\n",
       "      <td>Regularly busy</td>\n",
       "    </tr>\n",
       "    <tr>\n",
       "      <th>4</th>\n",
       "      <td>2539329</td>\n",
       "      <td>1</td>\n",
       "      <td>1</td>\n",
       "      <td>2</td>\n",
       "      <td>8</td>\n",
       "      <td>NaN</td>\n",
       "      <td>True</td>\n",
       "      <td>26405</td>\n",
       "      <td>5</td>\n",
       "      <td>0</td>\n",
       "      <td>XL Pick-A-Size Paper Towel Rolls</td>\n",
       "      <td>54</td>\n",
       "      <td>17</td>\n",
       "      <td>1.0</td>\n",
       "      <td>Low-range product</td>\n",
       "      <td>Regularly busy</td>\n",
       "    </tr>\n",
       "    <tr>\n",
       "      <th>5</th>\n",
       "      <td>2398795</td>\n",
       "      <td>1</td>\n",
       "      <td>2</td>\n",
       "      <td>3</td>\n",
       "      <td>7</td>\n",
       "      <td>15.0</td>\n",
       "      <td>False</td>\n",
       "      <td>196</td>\n",
       "      <td>1</td>\n",
       "      <td>1</td>\n",
       "      <td>Soda</td>\n",
       "      <td>77</td>\n",
       "      <td>7</td>\n",
       "      <td>9.0</td>\n",
       "      <td>Mid-range product</td>\n",
       "      <td>Regularly busy</td>\n",
       "    </tr>\n",
       "    <tr>\n",
       "      <th>6</th>\n",
       "      <td>2398795</td>\n",
       "      <td>1</td>\n",
       "      <td>2</td>\n",
       "      <td>3</td>\n",
       "      <td>7</td>\n",
       "      <td>15.0</td>\n",
       "      <td>False</td>\n",
       "      <td>10258</td>\n",
       "      <td>2</td>\n",
       "      <td>0</td>\n",
       "      <td>Pistachios</td>\n",
       "      <td>117</td>\n",
       "      <td>19</td>\n",
       "      <td>3.0</td>\n",
       "      <td>Low-range product</td>\n",
       "      <td>Regularly busy</td>\n",
       "    </tr>\n",
       "    <tr>\n",
       "      <th>7</th>\n",
       "      <td>2398795</td>\n",
       "      <td>1</td>\n",
       "      <td>2</td>\n",
       "      <td>3</td>\n",
       "      <td>7</td>\n",
       "      <td>15.0</td>\n",
       "      <td>False</td>\n",
       "      <td>12427</td>\n",
       "      <td>3</td>\n",
       "      <td>1</td>\n",
       "      <td>Original Beef Jerky</td>\n",
       "      <td>23</td>\n",
       "      <td>19</td>\n",
       "      <td>4.4</td>\n",
       "      <td>Low-range product</td>\n",
       "      <td>Regularly busy</td>\n",
       "    </tr>\n",
       "    <tr>\n",
       "      <th>8</th>\n",
       "      <td>2398795</td>\n",
       "      <td>1</td>\n",
       "      <td>2</td>\n",
       "      <td>3</td>\n",
       "      <td>7</td>\n",
       "      <td>15.0</td>\n",
       "      <td>False</td>\n",
       "      <td>13176</td>\n",
       "      <td>4</td>\n",
       "      <td>0</td>\n",
       "      <td>Bag of Organic Bananas</td>\n",
       "      <td>24</td>\n",
       "      <td>4</td>\n",
       "      <td>10.3</td>\n",
       "      <td>Mid-range product</td>\n",
       "      <td>Regularly busy</td>\n",
       "    </tr>\n",
       "    <tr>\n",
       "      <th>9</th>\n",
       "      <td>2398795</td>\n",
       "      <td>1</td>\n",
       "      <td>2</td>\n",
       "      <td>3</td>\n",
       "      <td>7</td>\n",
       "      <td>15.0</td>\n",
       "      <td>False</td>\n",
       "      <td>26088</td>\n",
       "      <td>5</td>\n",
       "      <td>1</td>\n",
       "      <td>Aged White Cheddar Popcorn</td>\n",
       "      <td>23</td>\n",
       "      <td>19</td>\n",
       "      <td>4.7</td>\n",
       "      <td>Low-range product</td>\n",
       "      <td>Regularly busy</td>\n",
       "    </tr>\n",
       "  </tbody>\n",
       "</table>\n",
       "</div>"
      ],
      "text/plain": [
       "   order_id  user_id  order_number  order_day_of_week  order_hour_of_day  days_since_prior_order  first_order  product_id  add_to_cart_order  reordered                             product_name  aisle_id  department_id  prices    price_range_loc     busiest_day\n",
       "0   2539329        1             1                  2                  8                     NaN         True         196                  1          0                                     Soda        77              7     9.0  Mid-range product  Regularly busy\n",
       "1   2539329        1             1                  2                  8                     NaN         True       14084                  2          0  Organic Unsweetened Vanilla Almond Milk        91             16    12.5  Mid-range product  Regularly busy\n",
       "2   2539329        1             1                  2                  8                     NaN         True       12427                  3          0                      Original Beef Jerky        23             19     4.4  Low-range product  Regularly busy\n",
       "3   2539329        1             1                  2                  8                     NaN         True       26088                  4          0               Aged White Cheddar Popcorn        23             19     4.7  Low-range product  Regularly busy\n",
       "4   2539329        1             1                  2                  8                     NaN         True       26405                  5          0         XL Pick-A-Size Paper Towel Rolls        54             17     1.0  Low-range product  Regularly busy\n",
       "5   2398795        1             2                  3                  7                    15.0        False         196                  1          1                                     Soda        77              7     9.0  Mid-range product  Regularly busy\n",
       "6   2398795        1             2                  3                  7                    15.0        False       10258                  2          0                               Pistachios       117             19     3.0  Low-range product  Regularly busy\n",
       "7   2398795        1             2                  3                  7                    15.0        False       12427                  3          1                      Original Beef Jerky        23             19     4.4  Low-range product  Regularly busy\n",
       "8   2398795        1             2                  3                  7                    15.0        False       13176                  4          0                   Bag of Organic Bananas        24              4    10.3  Mid-range product  Regularly busy\n",
       "9   2398795        1             2                  3                  7                    15.0        False       26088                  5          1               Aged White Cheddar Popcorn        23             19     4.7  Low-range product  Regularly busy"
      ]
     },
     "execution_count": 25,
     "metadata": {},
     "output_type": "execute_result"
    }
   ],
   "source": [
    "# Checking output\n",
    "df_ords_prods_merge.head(10)"
   ]
  },
  {
   "cell_type": "markdown",
   "id": "bcec91a5-1e2d-42fb-a91f-01d758557ab8",
   "metadata": {},
   "source": [
    "### Task"
   ]
  },
  {
   "cell_type": "markdown",
   "id": "39650870-1986-4738-8749-ed5f0385cd92",
   "metadata": {},
   "source": [
    "#### **Step 2:** Creating flag for two \"**Busiest days**\" and two \"**Slowest days**\""
   ]
  },
  {
   "cell_type": "code",
   "execution_count": 26,
   "id": "296de832-cffc-45fc-9654-b9e4baa4bac2",
   "metadata": {},
   "outputs": [
    {
     "data": {
      "text/plain": [
       "order_day_of_week\n",
       "0    6204182\n",
       "1    5660230\n",
       "6    4496490\n",
       "2    4213830\n",
       "5    4205791\n",
       "3    3840534\n",
       "4    3783802\n",
       "Name: count, dtype: int64"
      ]
     },
     "execution_count": 26,
     "metadata": {},
     "output_type": "execute_result"
    }
   ],
   "source": [
    "# Step 1: Getting frequency of the \"order_day_of_week\"\n",
    "df_ords_prods_merge['order_day_of_week'].value_counts(dropna = False)"
   ]
  },
  {
   "cell_type": "markdown",
   "id": "c3989729-e413-4b03-9558-ec5605c183f2",
   "metadata": {},
   "source": [
    "From frequency count busiest days of the week can be identified:\n",
    "- **two_busiest_days:** 0 --> Saturday & 1 --> Sunday\n",
    "- **two_slowest_days:** 3 --> Tuesday & 4 --> Wednesday"
   ]
  },
  {
   "cell_type": "code",
   "execution_count": 27,
   "id": "25dd8a3d-00a9-444b-bbb1-92a5859f963d",
   "metadata": {},
   "outputs": [],
   "source": [
    "# Step 2: Identifying top two busiest and slowest days\n",
    "two_busiest_days = [0, 1]\n",
    "two_slowest_days = [3, 4]\n",
    "\n",
    "# Define loop\n",
    "result = []\n",
    "for value in df_ords_prods_merge['order_day_of_week']:\n",
    "    if value in two_busiest_days:\n",
    "        result.append('Busiest days')\n",
    "    elif value in two_slowest_days:\n",
    "        result.append('Slowest days')\n",
    "    else:\n",
    "        result.append('Regularly busy')"
   ]
  },
  {
   "cell_type": "code",
   "execution_count": 28,
   "id": "75180c9f-160e-4756-baf7-d202105e8b94",
   "metadata": {},
   "outputs": [],
   "source": [
    "# Step3: Add a new column \"busiest days\"\n",
    "df_ords_prods_merge['busiest_days'] = result"
   ]
  },
  {
   "cell_type": "code",
   "execution_count": 29,
   "id": "0aff9ae8-7ccd-4206-bbc5-1e12a5560fa6",
   "metadata": {},
   "outputs": [
    {
     "data": {
      "text/plain": [
       "busiest_days\n",
       "Regularly busy    12916111\n",
       "Busiest days      11864412\n",
       "Slowest days       7624336\n",
       "Name: count, dtype: int64"
      ]
     },
     "execution_count": 29,
     "metadata": {},
     "output_type": "execute_result"
    }
   ],
   "source": [
    "# Checking frequency of \"busiests_day\"\n",
    "df_ords_prods_merge['busiest_days'].value_counts(dropna=False)"
   ]
  },
  {
   "cell_type": "code",
   "execution_count": 30,
   "id": "8404af20-931d-44bb-8a51-757c6354af50",
   "metadata": {
    "scrolled": true
   },
   "outputs": [
    {
     "data": {
      "text/html": [
       "<div>\n",
       "<style scoped>\n",
       "    .dataframe tbody tr th:only-of-type {\n",
       "        vertical-align: middle;\n",
       "    }\n",
       "\n",
       "    .dataframe tbody tr th {\n",
       "        vertical-align: top;\n",
       "    }\n",
       "\n",
       "    .dataframe thead th {\n",
       "        text-align: right;\n",
       "    }\n",
       "</style>\n",
       "<table border=\"1\" class=\"dataframe\">\n",
       "  <thead>\n",
       "    <tr style=\"text-align: right;\">\n",
       "      <th></th>\n",
       "      <th>order_id</th>\n",
       "      <th>user_id</th>\n",
       "      <th>order_number</th>\n",
       "      <th>order_day_of_week</th>\n",
       "      <th>order_hour_of_day</th>\n",
       "      <th>days_since_prior_order</th>\n",
       "      <th>first_order</th>\n",
       "      <th>product_id</th>\n",
       "      <th>add_to_cart_order</th>\n",
       "      <th>reordered</th>\n",
       "      <th>product_name</th>\n",
       "      <th>aisle_id</th>\n",
       "      <th>department_id</th>\n",
       "      <th>prices</th>\n",
       "      <th>price_range_loc</th>\n",
       "      <th>busiest_day</th>\n",
       "      <th>busiest_days</th>\n",
       "    </tr>\n",
       "  </thead>\n",
       "  <tbody>\n",
       "    <tr>\n",
       "      <th>0</th>\n",
       "      <td>2539329</td>\n",
       "      <td>1</td>\n",
       "      <td>1</td>\n",
       "      <td>2</td>\n",
       "      <td>8</td>\n",
       "      <td>NaN</td>\n",
       "      <td>True</td>\n",
       "      <td>196</td>\n",
       "      <td>1</td>\n",
       "      <td>0</td>\n",
       "      <td>Soda</td>\n",
       "      <td>77</td>\n",
       "      <td>7</td>\n",
       "      <td>9.0</td>\n",
       "      <td>Mid-range product</td>\n",
       "      <td>Regularly busy</td>\n",
       "      <td>Regularly busy</td>\n",
       "    </tr>\n",
       "    <tr>\n",
       "      <th>1</th>\n",
       "      <td>2539329</td>\n",
       "      <td>1</td>\n",
       "      <td>1</td>\n",
       "      <td>2</td>\n",
       "      <td>8</td>\n",
       "      <td>NaN</td>\n",
       "      <td>True</td>\n",
       "      <td>14084</td>\n",
       "      <td>2</td>\n",
       "      <td>0</td>\n",
       "      <td>Organic Unsweetened Vanilla Almond Milk</td>\n",
       "      <td>91</td>\n",
       "      <td>16</td>\n",
       "      <td>12.5</td>\n",
       "      <td>Mid-range product</td>\n",
       "      <td>Regularly busy</td>\n",
       "      <td>Regularly busy</td>\n",
       "    </tr>\n",
       "    <tr>\n",
       "      <th>5</th>\n",
       "      <td>2398795</td>\n",
       "      <td>1</td>\n",
       "      <td>2</td>\n",
       "      <td>3</td>\n",
       "      <td>7</td>\n",
       "      <td>15.0</td>\n",
       "      <td>False</td>\n",
       "      <td>196</td>\n",
       "      <td>1</td>\n",
       "      <td>1</td>\n",
       "      <td>Soda</td>\n",
       "      <td>77</td>\n",
       "      <td>7</td>\n",
       "      <td>9.0</td>\n",
       "      <td>Mid-range product</td>\n",
       "      <td>Regularly busy</td>\n",
       "      <td>Slowest days</td>\n",
       "    </tr>\n",
       "    <tr>\n",
       "      <th>6</th>\n",
       "      <td>2398795</td>\n",
       "      <td>1</td>\n",
       "      <td>2</td>\n",
       "      <td>3</td>\n",
       "      <td>7</td>\n",
       "      <td>15.0</td>\n",
       "      <td>False</td>\n",
       "      <td>10258</td>\n",
       "      <td>2</td>\n",
       "      <td>0</td>\n",
       "      <td>Pistachios</td>\n",
       "      <td>117</td>\n",
       "      <td>19</td>\n",
       "      <td>3.0</td>\n",
       "      <td>Low-range product</td>\n",
       "      <td>Regularly busy</td>\n",
       "      <td>Slowest days</td>\n",
       "    </tr>\n",
       "    <tr>\n",
       "      <th>33</th>\n",
       "      <td>550135</td>\n",
       "      <td>1</td>\n",
       "      <td>7</td>\n",
       "      <td>1</td>\n",
       "      <td>9</td>\n",
       "      <td>20.0</td>\n",
       "      <td>False</td>\n",
       "      <td>196</td>\n",
       "      <td>1</td>\n",
       "      <td>1</td>\n",
       "      <td>Soda</td>\n",
       "      <td>77</td>\n",
       "      <td>7</td>\n",
       "      <td>9.0</td>\n",
       "      <td>Mid-range product</td>\n",
       "      <td>Regularly busy</td>\n",
       "      <td>Busiest days</td>\n",
       "    </tr>\n",
       "    <tr>\n",
       "      <th>34</th>\n",
       "      <td>550135</td>\n",
       "      <td>1</td>\n",
       "      <td>7</td>\n",
       "      <td>1</td>\n",
       "      <td>9</td>\n",
       "      <td>20.0</td>\n",
       "      <td>False</td>\n",
       "      <td>10258</td>\n",
       "      <td>2</td>\n",
       "      <td>1</td>\n",
       "      <td>Pistachios</td>\n",
       "      <td>117</td>\n",
       "      <td>19</td>\n",
       "      <td>3.0</td>\n",
       "      <td>Low-range product</td>\n",
       "      <td>Regularly busy</td>\n",
       "      <td>Busiest days</td>\n",
       "    </tr>\n",
       "  </tbody>\n",
       "</table>\n",
       "</div>"
      ],
      "text/plain": [
       "    order_id  user_id  order_number  order_day_of_week  order_hour_of_day  days_since_prior_order  first_order  product_id  add_to_cart_order  reordered                             product_name  aisle_id  department_id  prices    price_range_loc     busiest_day    busiest_days\n",
       "0    2539329        1             1                  2                  8                     NaN         True         196                  1          0                                     Soda        77              7     9.0  Mid-range product  Regularly busy  Regularly busy\n",
       "1    2539329        1             1                  2                  8                     NaN         True       14084                  2          0  Organic Unsweetened Vanilla Almond Milk        91             16    12.5  Mid-range product  Regularly busy  Regularly busy\n",
       "5    2398795        1             2                  3                  7                    15.0        False         196                  1          1                                     Soda        77              7     9.0  Mid-range product  Regularly busy    Slowest days\n",
       "6    2398795        1             2                  3                  7                    15.0        False       10258                  2          0                               Pistachios       117             19     3.0  Low-range product  Regularly busy    Slowest days\n",
       "33    550135        1             7                  1                  9                    20.0        False         196                  1          1                                     Soda        77              7     9.0  Mid-range product  Regularly busy    Busiest days\n",
       "34    550135        1             7                  1                  9                    20.0        False       10258                  2          1                               Pistachios       117             19     3.0  Low-range product  Regularly busy    Busiest days"
      ]
     },
     "execution_count": 30,
     "metadata": {},
     "output_type": "execute_result"
    }
   ],
   "source": [
    "# Checking output\n",
    "df_ords_prods_merge.groupby('busiest_days').head(2)"
   ]
  },
  {
   "cell_type": "code",
   "execution_count": 31,
   "id": "a5ac3224-cf7c-40c7-a736-2246b9514d56",
   "metadata": {},
   "outputs": [
    {
     "name": "stdout",
     "output_type": "stream",
     "text": [
      "32404859\n"
     ]
    }
   ],
   "source": [
    "# Number of rows\n",
    "print(len(df_ords_prods_merge))"
   ]
  },
  {
   "cell_type": "code",
   "execution_count": 32,
   "id": "936983ff-1faf-4835-bcbd-e21f387285f6",
   "metadata": {},
   "outputs": [
    {
     "name": "stdout",
     "output_type": "stream",
     "text": [
      "32404859\n"
     ]
    }
   ],
   "source": [
    "# Sum of busiest_days\n",
    "print(df_ords_prods_merge['busiest_days'].value_counts().sum())"
   ]
  },
  {
   "cell_type": "markdown",
   "id": "fa752e67-25f6-4255-a7f3-6f136adcfbc9",
   "metadata": {},
   "source": [
    "#### **Step 3:** Accuracy check & Observations"
   ]
  },
  {
   "cell_type": "code",
   "execution_count": 33,
   "id": "ec8fdb4b-0717-4214-b4d1-ad61b4fed8a4",
   "metadata": {},
   "outputs": [],
   "source": [
    "# Checking total number of rows in dataframe\n",
    "total_rows = len(df_ords_prods_merge)"
   ]
  },
  {
   "cell_type": "code",
   "execution_count": 34,
   "id": "d46174ce-a6ee-451f-ab8e-512506a58477",
   "metadata": {},
   "outputs": [],
   "source": [
    "# Calculate the sum of \"busiest_days\"\n",
    "total_sum = df_ords_prods_merge['busiest_days'].value_counts().sum()"
   ]
  },
  {
   "cell_type": "code",
   "execution_count": 35,
   "id": "ab6c9d93-dda6-44a3-867c-9795457b7603",
   "metadata": {},
   "outputs": [
    {
     "name": "stdout",
     "output_type": "stream",
     "text": [
      "Values in column \"busiest_days\" are correct\n"
     ]
    }
   ],
   "source": [
    "# Comparing the totals\n",
    "if total_sum == total_rows:\n",
    "    print('Values in column \"busiest_days\" are correct')\n",
    "else:\n",
    "    print('Values in column \"busiest_days\" are not correct')"
   ]
  },
  {
   "cell_type": "markdown",
   "id": "b9ffb57f-f37e-4786-acf5-8ff0c7b6babf",
   "metadata": {},
   "source": [
    "#### **Observations**\n",
    "- After check it is proved that the values displayed in the column \"busiest_days\" are accurate. The sum of three different categories equals to the total number of rows in the dataframe.\n",
    "\n",
    "- Weekends **(Saturday/Sunday)** have ca. 11.9M orders, which is fewer than the \"Regular weekdays **(Mon/Thu/Fri)**\" with ca. 12.9M orders.\n",
    "\n",
    "- With only about 7.6M orders **Tuesday** and **Wednesday** are the \"Slowest days\" of the week.\n",
    "\n",
    "- This confirms that orders midweek are significantly fewer."
   ]
  },
  {
   "cell_type": "markdown",
   "id": "4a1c408f-664d-4ef9-989e-4f15c11c6cb3",
   "metadata": {},
   "source": [
    "#### **Step 4:** Labeling **\"busiet period of day\"**\n",
    "##### Categories:\n",
    "    - Most orders\n",
    "    - Average orders\n",
    "    - Fewest orders"
   ]
  },
  {
   "cell_type": "code",
   "execution_count": 36,
   "id": "63b981bd-433e-4a29-98fd-4b0a239f2157",
   "metadata": {},
   "outputs": [
    {
     "data": {
      "text/plain": [
       "order_hour_of_day\n",
       "10    2761760\n",
       "11    2736140\n",
       "14    2689136\n",
       "15    2662144\n",
       "13    2660954\n",
       "12    2618532\n",
       "16    2535202\n",
       "9     2454203\n",
       "17    2087654\n",
       "8     1718118\n",
       "18    1636502\n",
       "19    1258305\n",
       "20     976156\n",
       "7      891054\n",
       "21     795637\n",
       "22     634225\n",
       "23     402316\n",
       "6      290493\n",
       "0      218769\n",
       "1      115700\n",
       "5       87961\n",
       "2       69375\n",
       "4       53242\n",
       "3       51281\n",
       "Name: count, dtype: int64"
      ]
     },
     "execution_count": 36,
     "metadata": {},
     "output_type": "execute_result"
    }
   ],
   "source": [
    "# Step 1: Getting frequency of the \"order_hour_of_day\"\n",
    "df_ords_prods_merge['order_hour_of_day'].value_counts(dropna = False)"
   ]
  },
  {
   "cell_type": "markdown",
   "id": "cae2aab6-eaa1-4c28-9b35-993c05108fb3",
   "metadata": {},
   "source": [
    "Based on the frequency output the hours of the day can be categorized, as suggested, into\n",
    "- **Most orders:** Top hours with highest order counts (typically top 1/3)\n",
    "- **Fewest orders:** Bottom hours with lowest order counts (typically bottom 1/3)\n",
    "- **Average orders:** Middle hours with moderate order counts"
   ]
  },
  {
   "cell_type": "code",
   "execution_count": 37,
   "id": "681e7d86-14c5-4b0c-964b-d9f4020a1ad8",
   "metadata": {},
   "outputs": [],
   "source": [
    "# Step2: Labeling based on order counts\n",
    "most_orders = [10, 11, 14, 15, 13, 12, 16, 9]\n",
    "fewest_orders = [23, 6, 0, 1, 5, 2, 4, 3]\n",
    "average_orders = [17, 8, 18, 19, 20, 7, 21, 22]"
   ]
  },
  {
   "cell_type": "markdown",
   "id": "a356bc71-dbaa-43e2-b3c8-619effecfaf4",
   "metadata": {},
   "source": [
    "##### **Strategic hour grouping**\n",
    "- **Most orders:** Hours 9-16 (8 hours covering 9 AM to 4 PM) --> alligns with traditional business and lunch perios\n",
    "- **Fewest orders:** Hours 0-6, 23 (8 hours covering midnight to 6 AM and 11 PM) --> overnight hours with minimal activity\n",
    "- **Average orders:** Hours 7-8, 17-22 (8 hours covering 7-8 AM and 5-10 PM) --> average activity which follows early morning and evening pattern"
   ]
  },
  {
   "cell_type": "code",
   "execution_count": 38,
   "id": "21fcc14c-06c3-47a4-966f-f41ec1db81ff",
   "metadata": {},
   "outputs": [],
   "source": [
    "# Step 3: Define loop\n",
    "result = []\n",
    "for value in df_ords_prods_merge['order_hour_of_day']:\n",
    "    if value in most_orders:\n",
    "        result.append('Most orders')\n",
    "    elif value in fewest_orders:\n",
    "        result.append('Fewest orders')\n",
    "    else:\n",
    "        result.append('Average orders')"
   ]
  },
  {
   "cell_type": "code",
   "execution_count": 39,
   "id": "011d8c00-804d-4b8a-b1c4-fd0ea093d2ce",
   "metadata": {},
   "outputs": [],
   "source": [
    "# Step 4: Adding flag column \"busiest_period_od_day\"\n",
    "df_ords_prods_merge['busiest_period_of_day'] = result"
   ]
  },
  {
   "cell_type": "code",
   "execution_count": 40,
   "id": "25b4acfd-1f71-4fd4-a440-d2785c70c50e",
   "metadata": {},
   "outputs": [
    {
     "data": {
      "text/html": [
       "<div>\n",
       "<style scoped>\n",
       "    .dataframe tbody tr th:only-of-type {\n",
       "        vertical-align: middle;\n",
       "    }\n",
       "\n",
       "    .dataframe tbody tr th {\n",
       "        vertical-align: top;\n",
       "    }\n",
       "\n",
       "    .dataframe thead th {\n",
       "        text-align: right;\n",
       "    }\n",
       "</style>\n",
       "<table border=\"1\" class=\"dataframe\">\n",
       "  <thead>\n",
       "    <tr style=\"text-align: right;\">\n",
       "      <th></th>\n",
       "      <th>order_id</th>\n",
       "      <th>user_id</th>\n",
       "      <th>order_number</th>\n",
       "      <th>order_day_of_week</th>\n",
       "      <th>order_hour_of_day</th>\n",
       "      <th>days_since_prior_order</th>\n",
       "      <th>first_order</th>\n",
       "      <th>product_id</th>\n",
       "      <th>add_to_cart_order</th>\n",
       "      <th>reordered</th>\n",
       "      <th>product_name</th>\n",
       "      <th>aisle_id</th>\n",
       "      <th>department_id</th>\n",
       "      <th>prices</th>\n",
       "      <th>price_range_loc</th>\n",
       "      <th>busiest_day</th>\n",
       "      <th>busiest_days</th>\n",
       "      <th>busiest_period_of_day</th>\n",
       "    </tr>\n",
       "  </thead>\n",
       "  <tbody>\n",
       "    <tr>\n",
       "      <th>0</th>\n",
       "      <td>2539329</td>\n",
       "      <td>1</td>\n",
       "      <td>1</td>\n",
       "      <td>2</td>\n",
       "      <td>8</td>\n",
       "      <td>NaN</td>\n",
       "      <td>True</td>\n",
       "      <td>196</td>\n",
       "      <td>1</td>\n",
       "      <td>0</td>\n",
       "      <td>Soda</td>\n",
       "      <td>77</td>\n",
       "      <td>7</td>\n",
       "      <td>9.0</td>\n",
       "      <td>Mid-range product</td>\n",
       "      <td>Regularly busy</td>\n",
       "      <td>Regularly busy</td>\n",
       "      <td>Average orders</td>\n",
       "    </tr>\n",
       "    <tr>\n",
       "      <th>1</th>\n",
       "      <td>2539329</td>\n",
       "      <td>1</td>\n",
       "      <td>1</td>\n",
       "      <td>2</td>\n",
       "      <td>8</td>\n",
       "      <td>NaN</td>\n",
       "      <td>True</td>\n",
       "      <td>14084</td>\n",
       "      <td>2</td>\n",
       "      <td>0</td>\n",
       "      <td>Organic Unsweetened Vanilla Almond Milk</td>\n",
       "      <td>91</td>\n",
       "      <td>16</td>\n",
       "      <td>12.5</td>\n",
       "      <td>Mid-range product</td>\n",
       "      <td>Regularly busy</td>\n",
       "      <td>Regularly busy</td>\n",
       "      <td>Average orders</td>\n",
       "    </tr>\n",
       "    <tr>\n",
       "      <th>11</th>\n",
       "      <td>473747</td>\n",
       "      <td>1</td>\n",
       "      <td>3</td>\n",
       "      <td>3</td>\n",
       "      <td>12</td>\n",
       "      <td>21.0</td>\n",
       "      <td>False</td>\n",
       "      <td>196</td>\n",
       "      <td>1</td>\n",
       "      <td>1</td>\n",
       "      <td>Soda</td>\n",
       "      <td>77</td>\n",
       "      <td>7</td>\n",
       "      <td>9.0</td>\n",
       "      <td>Mid-range product</td>\n",
       "      <td>Regularly busy</td>\n",
       "      <td>Slowest days</td>\n",
       "      <td>Most orders</td>\n",
       "    </tr>\n",
       "    <tr>\n",
       "      <th>12</th>\n",
       "      <td>473747</td>\n",
       "      <td>1</td>\n",
       "      <td>3</td>\n",
       "      <td>3</td>\n",
       "      <td>12</td>\n",
       "      <td>21.0</td>\n",
       "      <td>False</td>\n",
       "      <td>12427</td>\n",
       "      <td>2</td>\n",
       "      <td>1</td>\n",
       "      <td>Original Beef Jerky</td>\n",
       "      <td>23</td>\n",
       "      <td>19</td>\n",
       "      <td>4.4</td>\n",
       "      <td>Low-range product</td>\n",
       "      <td>Regularly busy</td>\n",
       "      <td>Slowest days</td>\n",
       "      <td>Most orders</td>\n",
       "    </tr>\n",
       "    <tr>\n",
       "      <th>617</th>\n",
       "      <td>600894</td>\n",
       "      <td>8</td>\n",
       "      <td>1</td>\n",
       "      <td>6</td>\n",
       "      <td>0</td>\n",
       "      <td>NaN</td>\n",
       "      <td>True</td>\n",
       "      <td>21903</td>\n",
       "      <td>1</td>\n",
       "      <td>0</td>\n",
       "      <td>Organic Baby Spinach</td>\n",
       "      <td>123</td>\n",
       "      <td>4</td>\n",
       "      <td>8.2</td>\n",
       "      <td>Mid-range product</td>\n",
       "      <td>Regularly busy</td>\n",
       "      <td>Regularly busy</td>\n",
       "      <td>Fewest orders</td>\n",
       "    </tr>\n",
       "    <tr>\n",
       "      <th>618</th>\n",
       "      <td>600894</td>\n",
       "      <td>8</td>\n",
       "      <td>1</td>\n",
       "      <td>6</td>\n",
       "      <td>0</td>\n",
       "      <td>NaN</td>\n",
       "      <td>True</td>\n",
       "      <td>28985</td>\n",
       "      <td>2</td>\n",
       "      <td>0</td>\n",
       "      <td>Michigan Organic Kale</td>\n",
       "      <td>83</td>\n",
       "      <td>4</td>\n",
       "      <td>13.4</td>\n",
       "      <td>Mid-range product</td>\n",
       "      <td>Regularly busy</td>\n",
       "      <td>Regularly busy</td>\n",
       "      <td>Fewest orders</td>\n",
       "    </tr>\n",
       "  </tbody>\n",
       "</table>\n",
       "</div>"
      ],
      "text/plain": [
       "     order_id  user_id  order_number  order_day_of_week  order_hour_of_day  days_since_prior_order  first_order  product_id  add_to_cart_order  reordered                             product_name  aisle_id  department_id  prices    price_range_loc     busiest_day    busiest_days busiest_period_of_day\n",
       "0     2539329        1             1                  2                  8                     NaN         True         196                  1          0                                     Soda        77              7     9.0  Mid-range product  Regularly busy  Regularly busy        Average orders\n",
       "1     2539329        1             1                  2                  8                     NaN         True       14084                  2          0  Organic Unsweetened Vanilla Almond Milk        91             16    12.5  Mid-range product  Regularly busy  Regularly busy        Average orders\n",
       "11     473747        1             3                  3                 12                    21.0        False         196                  1          1                                     Soda        77              7     9.0  Mid-range product  Regularly busy    Slowest days           Most orders\n",
       "12     473747        1             3                  3                 12                    21.0        False       12427                  2          1                      Original Beef Jerky        23             19     4.4  Low-range product  Regularly busy    Slowest days           Most orders\n",
       "617    600894        8             1                  6                  0                     NaN         True       21903                  1          0                     Organic Baby Spinach       123              4     8.2  Mid-range product  Regularly busy  Regularly busy         Fewest orders\n",
       "618    600894        8             1                  6                  0                     NaN         True       28985                  2          0                    Michigan Organic Kale        83              4    13.4  Mid-range product  Regularly busy  Regularly busy         Fewest orders"
      ]
     },
     "execution_count": 40,
     "metadata": {},
     "output_type": "execute_result"
    }
   ],
   "source": [
    "# Checking output\n",
    "df_ords_prods_merge.groupby('busiest_period_of_day').head(2)"
   ]
  },
  {
   "cell_type": "markdown",
   "id": "29db507c-08a1-4214-b50d-12ec994fb081",
   "metadata": {},
   "source": [
    "#### **Step 5:** Print the frequency for the new column **\"busiest_period_of_day\"**"
   ]
  },
  {
   "cell_type": "code",
   "execution_count": 41,
   "id": "7edb3c5a-6d74-4d28-b283-943065ca18d1",
   "metadata": {},
   "outputs": [
    {
     "name": "stdout",
     "output_type": "stream",
     "text": [
      "busiest_period_of_day\n",
      "Most orders       21118071\n",
      "Average orders     9997651\n",
      "Fewest orders      1289137\n",
      "Name: count, dtype: int64\n"
     ]
    }
   ],
   "source": [
    "# Printing frequency\n",
    "print(df_ords_prods_merge['busiest_period_of_day'].value_counts(dropna=False))"
   ]
  },
  {
   "cell_type": "markdown",
   "id": "10868fa9-ca38-4af6-a398-098895472d18",
   "metadata": {},
   "source": [
    "##### - Most orders ca. 21.1M took place in business and lunch periods, which is 9-16.\n",
    "##### - Average orders (ca. 10M) were placed in early morning and evening hours, i.e., 7-8, 17-22.\n",
    "##### - Fewest orders were placed in overnight hours as expected, i.e., 0-6, 23."
   ]
  },
  {
   "cell_type": "markdown",
   "id": "84e65344-2d00-4f8a-9cfe-638e93f1f65e",
   "metadata": {},
   "source": [
    "#### **Step 7:** Export datafraime as pickle file"
   ]
  },
  {
   "cell_type": "code",
   "execution_count": 42,
   "id": "740129c7-84d9-436b-b7bd-5cbcff46d20f",
   "metadata": {},
   "outputs": [],
   "source": [
    "# Export data as pickle\n",
    "df_ords_prods_merge.to_pickle(os.path.join(path, '02 Data','Prepared Data', 'ords_prods_merge_4-7.pkl'))"
   ]
  }
 ],
 "metadata": {
  "kernelspec": {
   "display_name": "Python (myenv)",
   "language": "python",
   "name": "myenv"
  },
  "language_info": {
   "codemirror_mode": {
    "name": "ipython",
    "version": 3
   },
   "file_extension": ".py",
   "mimetype": "text/x-python",
   "name": "python",
   "nbconvert_exporter": "python",
   "pygments_lexer": "ipython3",
   "version": "3.11.13"
  }
 },
 "nbformat": 4,
 "nbformat_minor": 5
}
