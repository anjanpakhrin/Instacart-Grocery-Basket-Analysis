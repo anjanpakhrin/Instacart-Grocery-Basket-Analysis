{
 "cells": [
  {
   "cell_type": "markdown",
   "id": "fcc07733-8432-4248-a502-6c21a1855063",
   "metadata": {},
   "source": [
    "### **Task 4.9**\n",
    "#### **Part 1:** Customer data set"
   ]
  },
  {
   "cell_type": "markdown",
   "id": "002ba9c5-d7ee-450f-a715-12d672f1c722",
   "metadata": {},
   "source": [
    "#### **Question 3:** Import analysis libraries and **customer data set**"
   ]
  },
  {
   "cell_type": "code",
   "execution_count": 1,
   "id": "38175033-054e-42e9-b9f9-460ed8b0914e",
   "metadata": {},
   "outputs": [],
   "source": [
    "# Import libraries\n",
    "import pandas as pd\n",
    "import numpy as nm\n",
    "import os"
   ]
  },
  {
   "cell_type": "code",
   "execution_count": 2,
   "id": "1bac4302-122e-41b8-80a6-d2d626b92782",
   "metadata": {},
   "outputs": [],
   "source": [
    "# Set display options for better viewing\n",
    "pd.set_option('display.width', 1000)\n",
    "pd.set_option('display.max_columns', 100)  # Limit columns\n",
    "pd.set_option('display.max_rows', 50)      # Limit rows"
   ]
  },
  {
   "cell_type": "code",
   "execution_count": 3,
   "id": "c982b877-2b47-474d-b99b-63cab5202bdf",
   "metadata": {},
   "outputs": [],
   "source": [
    "# Create shortcut for data file\n",
    "path= r'/Users/anjanpakhrin/Documents/Instacart Basket Analysis'"
   ]
  },
  {
   "cell_type": "code",
   "execution_count": 4,
   "id": "30f27ad0-c89a-42bd-9b2b-3a95ca897617",
   "metadata": {},
   "outputs": [],
   "source": [
    "# Import data set as dataframe \"customer\"\n",
    "df_cust = pd.read_csv(os.path.join(path, '02 Data', 'Original Data', 'customers.csv'), index_col = False)\n",
    "ords_prods_merge = pd.read_pickle(os.path.join(path, '02 Data', 'Prepared Data', 'ords_prods_merge_4-8.pkl'))"
   ]
  },
  {
   "cell_type": "code",
   "execution_count": 5,
   "id": "5c06a6af-58e2-4f0d-92f6-c7a65e6c71f7",
   "metadata": {},
   "outputs": [
    {
     "data": {
      "text/html": [
       "<div>\n",
       "<style scoped>\n",
       "    .dataframe tbody tr th:only-of-type {\n",
       "        vertical-align: middle;\n",
       "    }\n",
       "\n",
       "    .dataframe tbody tr th {\n",
       "        vertical-align: top;\n",
       "    }\n",
       "\n",
       "    .dataframe thead th {\n",
       "        text-align: right;\n",
       "    }\n",
       "</style>\n",
       "<table border=\"1\" class=\"dataframe\">\n",
       "  <thead>\n",
       "    <tr style=\"text-align: right;\">\n",
       "      <th></th>\n",
       "      <th>user_id</th>\n",
       "      <th>First Name</th>\n",
       "      <th>Surnam</th>\n",
       "      <th>Gender</th>\n",
       "      <th>STATE</th>\n",
       "      <th>Age</th>\n",
       "      <th>date_joined</th>\n",
       "      <th>n_dependants</th>\n",
       "      <th>fam_status</th>\n",
       "      <th>income</th>\n",
       "    </tr>\n",
       "  </thead>\n",
       "  <tbody>\n",
       "    <tr>\n",
       "      <th>0</th>\n",
       "      <td>26711</td>\n",
       "      <td>Deborah</td>\n",
       "      <td>Esquivel</td>\n",
       "      <td>Female</td>\n",
       "      <td>Missouri</td>\n",
       "      <td>48</td>\n",
       "      <td>1/1/2017</td>\n",
       "      <td>3</td>\n",
       "      <td>married</td>\n",
       "      <td>165665</td>\n",
       "    </tr>\n",
       "    <tr>\n",
       "      <th>1</th>\n",
       "      <td>33890</td>\n",
       "      <td>Patricia</td>\n",
       "      <td>Hart</td>\n",
       "      <td>Female</td>\n",
       "      <td>New Mexico</td>\n",
       "      <td>36</td>\n",
       "      <td>1/1/2017</td>\n",
       "      <td>0</td>\n",
       "      <td>single</td>\n",
       "      <td>59285</td>\n",
       "    </tr>\n",
       "    <tr>\n",
       "      <th>2</th>\n",
       "      <td>65803</td>\n",
       "      <td>Kenneth</td>\n",
       "      <td>Farley</td>\n",
       "      <td>Male</td>\n",
       "      <td>Idaho</td>\n",
       "      <td>35</td>\n",
       "      <td>1/1/2017</td>\n",
       "      <td>2</td>\n",
       "      <td>married</td>\n",
       "      <td>99568</td>\n",
       "    </tr>\n",
       "    <tr>\n",
       "      <th>3</th>\n",
       "      <td>125935</td>\n",
       "      <td>Michelle</td>\n",
       "      <td>Hicks</td>\n",
       "      <td>Female</td>\n",
       "      <td>Iowa</td>\n",
       "      <td>40</td>\n",
       "      <td>1/1/2017</td>\n",
       "      <td>0</td>\n",
       "      <td>single</td>\n",
       "      <td>42049</td>\n",
       "    </tr>\n",
       "    <tr>\n",
       "      <th>4</th>\n",
       "      <td>130797</td>\n",
       "      <td>Ann</td>\n",
       "      <td>Gilmore</td>\n",
       "      <td>Female</td>\n",
       "      <td>Maryland</td>\n",
       "      <td>26</td>\n",
       "      <td>1/1/2017</td>\n",
       "      <td>1</td>\n",
       "      <td>married</td>\n",
       "      <td>40374</td>\n",
       "    </tr>\n",
       "  </tbody>\n",
       "</table>\n",
       "</div>"
      ],
      "text/plain": [
       "   user_id First Name    Surnam  Gender       STATE  Age date_joined  n_dependants fam_status  income\n",
       "0    26711    Deborah  Esquivel  Female    Missouri   48    1/1/2017             3    married  165665\n",
       "1    33890   Patricia      Hart  Female  New Mexico   36    1/1/2017             0     single   59285\n",
       "2    65803    Kenneth    Farley    Male       Idaho   35    1/1/2017             2    married   99568\n",
       "3   125935   Michelle     Hicks  Female        Iowa   40    1/1/2017             0     single   42049\n",
       "4   130797        Ann   Gilmore  Female    Maryland   26    1/1/2017             1    married   40374"
      ]
     },
     "execution_count": 5,
     "metadata": {},
     "output_type": "execute_result"
    }
   ],
   "source": [
    "# Check output\n",
    "df_cust.head()"
   ]
  },
  {
   "cell_type": "code",
   "execution_count": 6,
   "id": "bd1bbd78-dab3-4def-b0d7-f68814191b67",
   "metadata": {},
   "outputs": [
    {
     "data": {
      "text/plain": [
       "count    3.240486e+07\n",
       "mean     7.791052e+00\n",
       "std      4.100602e+00\n",
       "min      1.000000e+00\n",
       "25%      4.200000e+00\n",
       "50%      7.400000e+00\n",
       "75%      1.130000e+01\n",
       "max      2.500000e+01\n",
       "Name: prices, dtype: float64"
      ]
     },
     "execution_count": 6,
     "metadata": {},
     "output_type": "execute_result"
    }
   ],
   "source": [
    "ords_prods_merge['prices'].describe()"
   ]
  },
  {
   "cell_type": "markdown",
   "id": "dded121c-6bce-4cf6-9a3d-7a285f2b4978",
   "metadata": {},
   "source": [
    "#### **Question 4:** Wrangling customer data\n",
    "#### Steps:\n",
    "1. Dropping columns\n",
    "2. Renaming columns\n",
    "3. Changing data types\n",
    "4. Transposing"
   ]
  },
  {
   "cell_type": "markdown",
   "id": "32061c11-786c-4b80-9579-3d91d7f81dba",
   "metadata": {},
   "source": [
    "**1. Dropping columns:**\n",
    "Names typically offer little value for analyzing customer behavior or demographics. Therefore we are dropping the 'First Name' and 'Surnam' columns. The remaining columns are all essential for our planned work."
   ]
  },
  {
   "cell_type": "code",
   "execution_count": 7,
   "id": "13aa5d3a-baee-41b9-a007-a71de997fc36",
   "metadata": {},
   "outputs": [],
   "source": [
    "# Dropping columns \"First Name\" and \"Surnam\"\n",
    "df_cust = df_cust.drop(columns = ['First Name', 'Surnam'])"
   ]
  },
  {
   "cell_type": "code",
   "execution_count": 8,
   "id": "0140ed8c-0f7f-45a4-b31a-e579f3638af3",
   "metadata": {},
   "outputs": [
    {
     "data": {
      "text/html": [
       "<div>\n",
       "<style scoped>\n",
       "    .dataframe tbody tr th:only-of-type {\n",
       "        vertical-align: middle;\n",
       "    }\n",
       "\n",
       "    .dataframe tbody tr th {\n",
       "        vertical-align: top;\n",
       "    }\n",
       "\n",
       "    .dataframe thead th {\n",
       "        text-align: right;\n",
       "    }\n",
       "</style>\n",
       "<table border=\"1\" class=\"dataframe\">\n",
       "  <thead>\n",
       "    <tr style=\"text-align: right;\">\n",
       "      <th></th>\n",
       "      <th>user_id</th>\n",
       "      <th>Gender</th>\n",
       "      <th>STATE</th>\n",
       "      <th>Age</th>\n",
       "      <th>date_joined</th>\n",
       "      <th>n_dependants</th>\n",
       "      <th>fam_status</th>\n",
       "      <th>income</th>\n",
       "    </tr>\n",
       "  </thead>\n",
       "  <tbody>\n",
       "    <tr>\n",
       "      <th>0</th>\n",
       "      <td>26711</td>\n",
       "      <td>Female</td>\n",
       "      <td>Missouri</td>\n",
       "      <td>48</td>\n",
       "      <td>1/1/2017</td>\n",
       "      <td>3</td>\n",
       "      <td>married</td>\n",
       "      <td>165665</td>\n",
       "    </tr>\n",
       "    <tr>\n",
       "      <th>1</th>\n",
       "      <td>33890</td>\n",
       "      <td>Female</td>\n",
       "      <td>New Mexico</td>\n",
       "      <td>36</td>\n",
       "      <td>1/1/2017</td>\n",
       "      <td>0</td>\n",
       "      <td>single</td>\n",
       "      <td>59285</td>\n",
       "    </tr>\n",
       "    <tr>\n",
       "      <th>2</th>\n",
       "      <td>65803</td>\n",
       "      <td>Male</td>\n",
       "      <td>Idaho</td>\n",
       "      <td>35</td>\n",
       "      <td>1/1/2017</td>\n",
       "      <td>2</td>\n",
       "      <td>married</td>\n",
       "      <td>99568</td>\n",
       "    </tr>\n",
       "    <tr>\n",
       "      <th>3</th>\n",
       "      <td>125935</td>\n",
       "      <td>Female</td>\n",
       "      <td>Iowa</td>\n",
       "      <td>40</td>\n",
       "      <td>1/1/2017</td>\n",
       "      <td>0</td>\n",
       "      <td>single</td>\n",
       "      <td>42049</td>\n",
       "    </tr>\n",
       "    <tr>\n",
       "      <th>4</th>\n",
       "      <td>130797</td>\n",
       "      <td>Female</td>\n",
       "      <td>Maryland</td>\n",
       "      <td>26</td>\n",
       "      <td>1/1/2017</td>\n",
       "      <td>1</td>\n",
       "      <td>married</td>\n",
       "      <td>40374</td>\n",
       "    </tr>\n",
       "  </tbody>\n",
       "</table>\n",
       "</div>"
      ],
      "text/plain": [
       "   user_id  Gender       STATE  Age date_joined  n_dependants fam_status  income\n",
       "0    26711  Female    Missouri   48    1/1/2017             3    married  165665\n",
       "1    33890  Female  New Mexico   36    1/1/2017             0     single   59285\n",
       "2    65803    Male       Idaho   35    1/1/2017             2    married   99568\n",
       "3   125935  Female        Iowa   40    1/1/2017             0     single   42049\n",
       "4   130797  Female    Maryland   26    1/1/2017             1    married   40374"
      ]
     },
     "execution_count": 8,
     "metadata": {},
     "output_type": "execute_result"
    }
   ],
   "source": [
    "# Checking columns\n",
    "df_cust.head()"
   ]
  },
  {
   "cell_type": "markdown",
   "id": "99b7c1b2-3108-4f1d-a957-f8a1b310ff0f",
   "metadata": {},
   "source": [
    "**2. Renaming columns:** Some of columns required renaming to make column names clean and consistent. Renaming could be done shown below.\n",
    "\n",
    "* Gender -> gender\n",
    "* STATE -> state\n",
    "* Age -> age\n",
    "* n_dependants -> num_dependents\n",
    "* fam_status -> family_status\n",
    "\n",
    "All other columns names are already clean and consistent."
   ]
  },
  {
   "cell_type": "code",
   "execution_count": 9,
   "id": "bb8bf3e3-b2a9-4a22-a408-6cd3e7daaa71",
   "metadata": {},
   "outputs": [],
   "source": [
    "# Renaming columns\n",
    "df_cust.rename(columns = {\n",
    "    'Gender' : 'gender',\n",
    "    'STATE' : 'state',\n",
    "    'Age' : 'age',\n",
    "    'n_dependants' : 'num_dependents',\n",
    "    'fam_status' : 'family_status'\n",
    "}, inplace = True)"
   ]
  },
  {
   "cell_type": "code",
   "execution_count": 10,
   "id": "501c050f-27fc-4421-a732-29ae43f80b3f",
   "metadata": {},
   "outputs": [
    {
     "data": {
      "text/html": [
       "<div>\n",
       "<style scoped>\n",
       "    .dataframe tbody tr th:only-of-type {\n",
       "        vertical-align: middle;\n",
       "    }\n",
       "\n",
       "    .dataframe tbody tr th {\n",
       "        vertical-align: top;\n",
       "    }\n",
       "\n",
       "    .dataframe thead th {\n",
       "        text-align: right;\n",
       "    }\n",
       "</style>\n",
       "<table border=\"1\" class=\"dataframe\">\n",
       "  <thead>\n",
       "    <tr style=\"text-align: right;\">\n",
       "      <th></th>\n",
       "      <th>user_id</th>\n",
       "      <th>gender</th>\n",
       "      <th>state</th>\n",
       "      <th>age</th>\n",
       "      <th>date_joined</th>\n",
       "      <th>num_dependents</th>\n",
       "      <th>family_status</th>\n",
       "      <th>income</th>\n",
       "    </tr>\n",
       "  </thead>\n",
       "  <tbody>\n",
       "    <tr>\n",
       "      <th>0</th>\n",
       "      <td>26711</td>\n",
       "      <td>Female</td>\n",
       "      <td>Missouri</td>\n",
       "      <td>48</td>\n",
       "      <td>1/1/2017</td>\n",
       "      <td>3</td>\n",
       "      <td>married</td>\n",
       "      <td>165665</td>\n",
       "    </tr>\n",
       "    <tr>\n",
       "      <th>1</th>\n",
       "      <td>33890</td>\n",
       "      <td>Female</td>\n",
       "      <td>New Mexico</td>\n",
       "      <td>36</td>\n",
       "      <td>1/1/2017</td>\n",
       "      <td>0</td>\n",
       "      <td>single</td>\n",
       "      <td>59285</td>\n",
       "    </tr>\n",
       "    <tr>\n",
       "      <th>2</th>\n",
       "      <td>65803</td>\n",
       "      <td>Male</td>\n",
       "      <td>Idaho</td>\n",
       "      <td>35</td>\n",
       "      <td>1/1/2017</td>\n",
       "      <td>2</td>\n",
       "      <td>married</td>\n",
       "      <td>99568</td>\n",
       "    </tr>\n",
       "    <tr>\n",
       "      <th>3</th>\n",
       "      <td>125935</td>\n",
       "      <td>Female</td>\n",
       "      <td>Iowa</td>\n",
       "      <td>40</td>\n",
       "      <td>1/1/2017</td>\n",
       "      <td>0</td>\n",
       "      <td>single</td>\n",
       "      <td>42049</td>\n",
       "    </tr>\n",
       "    <tr>\n",
       "      <th>4</th>\n",
       "      <td>130797</td>\n",
       "      <td>Female</td>\n",
       "      <td>Maryland</td>\n",
       "      <td>26</td>\n",
       "      <td>1/1/2017</td>\n",
       "      <td>1</td>\n",
       "      <td>married</td>\n",
       "      <td>40374</td>\n",
       "    </tr>\n",
       "  </tbody>\n",
       "</table>\n",
       "</div>"
      ],
      "text/plain": [
       "   user_id  gender       state  age date_joined  num_dependents family_status  income\n",
       "0    26711  Female    Missouri   48    1/1/2017               3       married  165665\n",
       "1    33890  Female  New Mexico   36    1/1/2017               0        single   59285\n",
       "2    65803    Male       Idaho   35    1/1/2017               2       married   99568\n",
       "3   125935  Female        Iowa   40    1/1/2017               0        single   42049\n",
       "4   130797  Female    Maryland   26    1/1/2017               1       married   40374"
      ]
     },
     "execution_count": 10,
     "metadata": {},
     "output_type": "execute_result"
    }
   ],
   "source": [
    "# Checking output\n",
    "df_cust.head()"
   ]
  },
  {
   "cell_type": "markdown",
   "id": "2af09897-bcd5-44f0-a0f2-7768ee190f7a",
   "metadata": {},
   "source": [
    "**3. Changing data types:**"
   ]
  },
  {
   "cell_type": "code",
   "execution_count": 11,
   "id": "dcc1695d-1f60-469c-bc68-a3f19c06fee6",
   "metadata": {},
   "outputs": [
    {
     "data": {
      "text/plain": [
       "user_id            int64\n",
       "gender            object\n",
       "state             object\n",
       "age                int64\n",
       "date_joined       object\n",
       "num_dependents     int64\n",
       "family_status     object\n",
       "income             int64\n",
       "dtype: object"
      ]
     },
     "execution_count": 11,
     "metadata": {},
     "output_type": "execute_result"
    }
   ],
   "source": [
    "# Recalling data types of columns\n",
    "df_cust.dtypes"
   ]
  },
  {
   "cell_type": "markdown",
   "id": "a6290084-7fb9-4c71-92fb-ba0dccb90ee7",
   "metadata": {},
   "source": [
    "Data types for some of columns need to be converted to appropriate type to make them consistent for further analysis.\n",
    "* user_id: int64 --> string\n",
    "* date_joined: object --> datetime\n",
    "* Data types for all other columns remain as it is. "
   ]
  },
  {
   "cell_type": "code",
   "execution_count": 12,
   "id": "a3d971a6-8f7d-49bf-826c-20b063b07083",
   "metadata": {},
   "outputs": [
    {
     "name": "stdout",
     "output_type": "stream",
     "text": [
      "user_id                    int32\n",
      "gender                    object\n",
      "state                     object\n",
      "age                        int64\n",
      "date_joined       datetime64[ns]\n",
      "num_dependents             int64\n",
      "family_status             object\n",
      "income                     int64\n",
      "dtype: object\n"
     ]
    }
   ],
   "source": [
    "# Convert user_id to int32\n",
    "df_cust['user_id'] = df_cust['user_id'].astype('int32')\n",
    "\n",
    "# Convert date_joined to datetime\n",
    "df_cust['date_joined'] = pd.to_datetime(df_cust['date_joined'])\n",
    "\n",
    "# Verify the changes\n",
    "print(df_cust.dtypes)"
   ]
  },
  {
   "cell_type": "code",
   "execution_count": 13,
   "id": "00e188c1-c512-4278-98df-49a4ea82619a",
   "metadata": {},
   "outputs": [
    {
     "data": {
      "text/html": [
       "<div>\n",
       "<style scoped>\n",
       "    .dataframe tbody tr th:only-of-type {\n",
       "        vertical-align: middle;\n",
       "    }\n",
       "\n",
       "    .dataframe tbody tr th {\n",
       "        vertical-align: top;\n",
       "    }\n",
       "\n",
       "    .dataframe thead th {\n",
       "        text-align: right;\n",
       "    }\n",
       "</style>\n",
       "<table border=\"1\" class=\"dataframe\">\n",
       "  <thead>\n",
       "    <tr style=\"text-align: right;\">\n",
       "      <th></th>\n",
       "      <th>user_id</th>\n",
       "      <th>gender</th>\n",
       "      <th>state</th>\n",
       "      <th>age</th>\n",
       "      <th>date_joined</th>\n",
       "      <th>num_dependents</th>\n",
       "      <th>family_status</th>\n",
       "      <th>income</th>\n",
       "    </tr>\n",
       "  </thead>\n",
       "  <tbody>\n",
       "    <tr>\n",
       "      <th>0</th>\n",
       "      <td>26711</td>\n",
       "      <td>Female</td>\n",
       "      <td>Missouri</td>\n",
       "      <td>48</td>\n",
       "      <td>2017-01-01</td>\n",
       "      <td>3</td>\n",
       "      <td>married</td>\n",
       "      <td>165665</td>\n",
       "    </tr>\n",
       "    <tr>\n",
       "      <th>1</th>\n",
       "      <td>33890</td>\n",
       "      <td>Female</td>\n",
       "      <td>New Mexico</td>\n",
       "      <td>36</td>\n",
       "      <td>2017-01-01</td>\n",
       "      <td>0</td>\n",
       "      <td>single</td>\n",
       "      <td>59285</td>\n",
       "    </tr>\n",
       "    <tr>\n",
       "      <th>2</th>\n",
       "      <td>65803</td>\n",
       "      <td>Male</td>\n",
       "      <td>Idaho</td>\n",
       "      <td>35</td>\n",
       "      <td>2017-01-01</td>\n",
       "      <td>2</td>\n",
       "      <td>married</td>\n",
       "      <td>99568</td>\n",
       "    </tr>\n",
       "    <tr>\n",
       "      <th>3</th>\n",
       "      <td>125935</td>\n",
       "      <td>Female</td>\n",
       "      <td>Iowa</td>\n",
       "      <td>40</td>\n",
       "      <td>2017-01-01</td>\n",
       "      <td>0</td>\n",
       "      <td>single</td>\n",
       "      <td>42049</td>\n",
       "    </tr>\n",
       "    <tr>\n",
       "      <th>4</th>\n",
       "      <td>130797</td>\n",
       "      <td>Female</td>\n",
       "      <td>Maryland</td>\n",
       "      <td>26</td>\n",
       "      <td>2017-01-01</td>\n",
       "      <td>1</td>\n",
       "      <td>married</td>\n",
       "      <td>40374</td>\n",
       "    </tr>\n",
       "  </tbody>\n",
       "</table>\n",
       "</div>"
      ],
      "text/plain": [
       "   user_id  gender       state  age date_joined  num_dependents family_status  income\n",
       "0    26711  Female    Missouri   48  2017-01-01               3       married  165665\n",
       "1    33890  Female  New Mexico   36  2017-01-01               0        single   59285\n",
       "2    65803    Male       Idaho   35  2017-01-01               2       married   99568\n",
       "3   125935  Female        Iowa   40  2017-01-01               0        single   42049\n",
       "4   130797  Female    Maryland   26  2017-01-01               1       married   40374"
      ]
     },
     "execution_count": 13,
     "metadata": {},
     "output_type": "execute_result"
    }
   ],
   "source": [
    "df_cust.head()"
   ]
  },
  {
   "cell_type": "markdown",
   "id": "fc6ef35c-f7bc-4d59-8cfd-634309cc3578",
   "metadata": {},
   "source": [
    "**4. Transposing data:** Not required"
   ]
  },
  {
   "cell_type": "markdown",
   "id": "87fb2230-9d53-42b6-bc7d-ca399cda54ec",
   "metadata": {},
   "source": [
    "#### **Question 5:** Quality and consistency checks for customer data"
   ]
  },
  {
   "cell_type": "code",
   "execution_count": 14,
   "id": "09140c4d-2a8e-4093-a3fb-93429dcd3863",
   "metadata": {},
   "outputs": [
    {
     "data": {
      "text/html": [
       "<div>\n",
       "<style scoped>\n",
       "    .dataframe tbody tr th:only-of-type {\n",
       "        vertical-align: middle;\n",
       "    }\n",
       "\n",
       "    .dataframe tbody tr th {\n",
       "        vertical-align: top;\n",
       "    }\n",
       "\n",
       "    .dataframe thead th {\n",
       "        text-align: right;\n",
       "    }\n",
       "</style>\n",
       "<table border=\"1\" class=\"dataframe\">\n",
       "  <thead>\n",
       "    <tr style=\"text-align: right;\">\n",
       "      <th></th>\n",
       "      <th>user_id</th>\n",
       "      <th>age</th>\n",
       "      <th>date_joined</th>\n",
       "      <th>num_dependents</th>\n",
       "      <th>income</th>\n",
       "    </tr>\n",
       "  </thead>\n",
       "  <tbody>\n",
       "    <tr>\n",
       "      <th>count</th>\n",
       "      <td>206209.00</td>\n",
       "      <td>206209.00</td>\n",
       "      <td>206209</td>\n",
       "      <td>206209.00</td>\n",
       "      <td>206209.00</td>\n",
       "    </tr>\n",
       "    <tr>\n",
       "      <th>mean</th>\n",
       "      <td>103105.00</td>\n",
       "      <td>49.50</td>\n",
       "      <td>2018-08-17 03:06:30.029532928</td>\n",
       "      <td>1.50</td>\n",
       "      <td>94632.85</td>\n",
       "    </tr>\n",
       "    <tr>\n",
       "      <th>min</th>\n",
       "      <td>1.00</td>\n",
       "      <td>18.00</td>\n",
       "      <td>2017-01-01 00:00:00</td>\n",
       "      <td>0.00</td>\n",
       "      <td>25903.00</td>\n",
       "    </tr>\n",
       "    <tr>\n",
       "      <th>25%</th>\n",
       "      <td>51553.00</td>\n",
       "      <td>33.00</td>\n",
       "      <td>2017-10-23 00:00:00</td>\n",
       "      <td>0.00</td>\n",
       "      <td>59874.00</td>\n",
       "    </tr>\n",
       "    <tr>\n",
       "      <th>50%</th>\n",
       "      <td>103105.00</td>\n",
       "      <td>49.00</td>\n",
       "      <td>2018-08-16 00:00:00</td>\n",
       "      <td>1.00</td>\n",
       "      <td>93547.00</td>\n",
       "    </tr>\n",
       "    <tr>\n",
       "      <th>75%</th>\n",
       "      <td>154657.00</td>\n",
       "      <td>66.00</td>\n",
       "      <td>2019-06-10 00:00:00</td>\n",
       "      <td>3.00</td>\n",
       "      <td>124244.00</td>\n",
       "    </tr>\n",
       "    <tr>\n",
       "      <th>max</th>\n",
       "      <td>206209.00</td>\n",
       "      <td>81.00</td>\n",
       "      <td>2020-04-01 00:00:00</td>\n",
       "      <td>3.00</td>\n",
       "      <td>593901.00</td>\n",
       "    </tr>\n",
       "    <tr>\n",
       "      <th>std</th>\n",
       "      <td>59527.56</td>\n",
       "      <td>18.48</td>\n",
       "      <td>NaN</td>\n",
       "      <td>1.12</td>\n",
       "      <td>42473.79</td>\n",
       "    </tr>\n",
       "  </tbody>\n",
       "</table>\n",
       "</div>"
      ],
      "text/plain": [
       "         user_id        age                    date_joined  num_dependents     income\n",
       "count  206209.00  206209.00                         206209       206209.00  206209.00\n",
       "mean   103105.00      49.50  2018-08-17 03:06:30.029532928            1.50   94632.85\n",
       "min         1.00      18.00            2017-01-01 00:00:00            0.00   25903.00\n",
       "25%     51553.00      33.00            2017-10-23 00:00:00            0.00   59874.00\n",
       "50%    103105.00      49.00            2018-08-16 00:00:00            1.00   93547.00\n",
       "75%    154657.00      66.00            2019-06-10 00:00:00            3.00  124244.00\n",
       "max    206209.00      81.00            2020-04-01 00:00:00            3.00  593901.00\n",
       "std     59527.56      18.48                            NaN            1.12   42473.79"
      ]
     },
     "execution_count": 14,
     "metadata": {},
     "output_type": "execute_result"
    }
   ],
   "source": [
    "# Investigating accuracy in columns with descriptive statistics\n",
    "df_cust.describe().round(2)"
   ]
  },
  {
   "cell_type": "markdown",
   "id": "7a2fd3a2-b7ac-4ae2-9baa-e0825b36cfe9",
   "metadata": {},
   "source": [
    "**1. Checking and addressing missing values**"
   ]
  },
  {
   "cell_type": "code",
   "execution_count": 15,
   "id": "916b80fe-a60d-446c-b682-69e34322db2b",
   "metadata": {},
   "outputs": [
    {
     "data": {
      "text/plain": [
       "user_id           0\n",
       "gender            0\n",
       "state             0\n",
       "age               0\n",
       "date_joined       0\n",
       "num_dependents    0\n",
       "family_status     0\n",
       "income            0\n",
       "dtype: int64"
      ]
     },
     "execution_count": 15,
     "metadata": {},
     "output_type": "execute_result"
    }
   ],
   "source": [
    "# Finding missing values in **df_cust**\n",
    "df_cust.isnull().sum()"
   ]
  },
  {
   "cell_type": "markdown",
   "id": "669c01e1-6a33-4417-93e7-694b31303f67",
   "metadata": {},
   "source": [
    "**No missing values found --> no further action required**"
   ]
  },
  {
   "cell_type": "markdown",
   "id": "9bfbdc77-c52a-4eea-b9a5-70bdd61e5acc",
   "metadata": {},
   "source": [
    "**2. Checking and addressing duplicates**"
   ]
  },
  {
   "cell_type": "code",
   "execution_count": 16,
   "id": "ccdf8d89-9114-4319-ab85-8d16f64b17f5",
   "metadata": {},
   "outputs": [
    {
     "data": {
      "text/html": [
       "<div>\n",
       "<style scoped>\n",
       "    .dataframe tbody tr th:only-of-type {\n",
       "        vertical-align: middle;\n",
       "    }\n",
       "\n",
       "    .dataframe tbody tr th {\n",
       "        vertical-align: top;\n",
       "    }\n",
       "\n",
       "    .dataframe thead th {\n",
       "        text-align: right;\n",
       "    }\n",
       "</style>\n",
       "<table border=\"1\" class=\"dataframe\">\n",
       "  <thead>\n",
       "    <tr style=\"text-align: right;\">\n",
       "      <th></th>\n",
       "      <th>user_id</th>\n",
       "      <th>gender</th>\n",
       "      <th>state</th>\n",
       "      <th>age</th>\n",
       "      <th>date_joined</th>\n",
       "      <th>num_dependents</th>\n",
       "      <th>family_status</th>\n",
       "      <th>income</th>\n",
       "    </tr>\n",
       "  </thead>\n",
       "  <tbody>\n",
       "  </tbody>\n",
       "</table>\n",
       "</div>"
      ],
      "text/plain": [
       "Empty DataFrame\n",
       "Columns: [user_id, gender, state, age, date_joined, num_dependents, family_status, income]\n",
       "Index: []"
      ]
     },
     "execution_count": 16,
     "metadata": {},
     "output_type": "execute_result"
    }
   ],
   "source": [
    "# Subset of duplicates in df_cust\n",
    "df_cuts_dups = df_cust[df_cust.duplicated()]\n",
    "\n",
    "df_cuts_dups"
   ]
  },
  {
   "cell_type": "markdown",
   "id": "23ba44b8-9d6a-43b7-be83-ef8244341bc6",
   "metadata": {},
   "source": [
    "**No duplicates found --> no further action required**"
   ]
  },
  {
   "cell_type": "code",
   "execution_count": 17,
   "id": "72778205-8502-4a48-aa9c-5c4513227936",
   "metadata": {},
   "outputs": [
    {
     "data": {
      "text/plain": [
       "(206209, 8)"
      ]
     },
     "execution_count": 17,
     "metadata": {},
     "output_type": "execute_result"
    }
   ],
   "source": [
    "# Checking dimensions fo customer data after wrangling and consistency check\n",
    "df_cust.shape"
   ]
  },
  {
   "cell_type": "code",
   "execution_count": 18,
   "id": "66ed5470-9410-4ac8-83e0-399ed0ef0160",
   "metadata": {},
   "outputs": [],
   "source": [
    "# Exporting cleaned & checked customer data as \"pkl\"\n",
    "df_cust.to_pickle(os.path.join(path, '02 Data', 'Prepared Data', 'customers_checked.pkl'))"
   ]
  },
  {
   "cell_type": "markdown",
   "id": "2f61b028-0793-4cd8-a289-18a8bc35a6ed",
   "metadata": {},
   "source": [
    "#### **Question 6:** Combining cleaned customer data with prepared Instacart data"
   ]
  },
  {
   "cell_type": "code",
   "execution_count": 19,
   "id": "799aae71-1607-4255-bc06-fa755c7143e7",
   "metadata": {},
   "outputs": [],
   "source": [
    "# Create shortcut for data file\n",
    "path = r'/Users/anjanpakhrin/Documents/Instacart Basket Analysis'"
   ]
  },
  {
   "cell_type": "code",
   "execution_count": 20,
   "id": "9c01f176-87d6-4a87-80e3-ab2ec220ef17",
   "metadata": {},
   "outputs": [],
   "source": [
    "# Import checked data set for customer as dataframe \"df_cust_checked\"\n",
    "\n",
    "df_cust_checked = pd.read_pickle(os.path.join(path, '02 Data', 'Prepared Data', 'customers_checked.pkl'))"
   ]
  },
  {
   "cell_type": "code",
   "execution_count": 21,
   "id": "9d2fa4b1-f2bc-48ad-9730-4606d70941fb",
   "metadata": {},
   "outputs": [
    {
     "name": "stdout",
     "output_type": "stream",
     "text": [
      "Shape of df_cust: (206209, 8)\n",
      "Shape of ords_prods_merge: (32404859, 24)\n"
     ]
    }
   ],
   "source": [
    "# Checking shape of \"orders_products_combined\" and \"df_prods\" (products)\n",
    "print('Shape of df_cust:', df_cust.shape)\n",
    "print('Shape of ords_prods_merge:', ords_prods_merge.shape)"
   ]
  },
  {
   "cell_type": "markdown",
   "id": "bf4976b0-5150-4238-881d-4d9bfe29d4e8",
   "metadata": {},
   "source": [
    "##### **Comparing data types**"
   ]
  },
  {
   "cell_type": "code",
   "execution_count": 22,
   "id": "b1523988-bd9f-454e-b100-fc81bc77d6dd",
   "metadata": {},
   "outputs": [
    {
     "data": {
      "text/plain": [
       "order_id                    int32\n",
       "user_id                     int32\n",
       "order_number                int32\n",
       "order_day_of_week           int32\n",
       "order_hour_of_day           int32\n",
       "days_since_prior_order    float32\n",
       "first_order                  bool\n",
       "product_id                  int32\n",
       "add_to_cart_order           int32\n",
       "reordered                   int32\n",
       "product_name               object\n",
       "aisle_id                    int32\n",
       "department_id               int32\n",
       "prices                    float32\n",
       "price_range_loc            object\n",
       "busiest_day                object\n",
       "busiest_days               object\n",
       "busiest_period_of_day      object\n",
       "max_order                   int32\n",
       "loyalty_flag               object\n",
       "user_mean_prices          float32\n",
       "spending_flag              object\n",
       "median_frequency          float32\n",
       "frequency_flag             object\n",
       "dtype: object"
      ]
     },
     "execution_count": 22,
     "metadata": {},
     "output_type": "execute_result"
    }
   ],
   "source": [
    "# Checking data types for ords_prods_merge\n",
    "ords_prods_merge.dtypes"
   ]
  },
  {
   "cell_type": "code",
   "execution_count": 23,
   "id": "f8f70891-ca33-4d68-8365-3840951f6e7b",
   "metadata": {},
   "outputs": [
    {
     "data": {
      "text/plain": [
       "user_id                    int32\n",
       "gender                    object\n",
       "state                     object\n",
       "age                        int64\n",
       "date_joined       datetime64[ns]\n",
       "num_dependents             int64\n",
       "family_status             object\n",
       "income                     int64\n",
       "dtype: object"
      ]
     },
     "execution_count": 23,
     "metadata": {},
     "output_type": "execute_result"
    }
   ],
   "source": [
    "# checking data types for cusotmer data\n",
    "df_cust.dtypes"
   ]
  },
  {
   "cell_type": "code",
   "execution_count": 24,
   "id": "76fb73ac-59a4-4f7a-b1c8-f1e55b0af3db",
   "metadata": {},
   "outputs": [],
   "source": [
    "# Changing data types of customer data to match the data types of ords_prods_merge\n",
    "df_cust['num_dependents'] = df_cust['num_dependents'].astype('int32')"
   ]
  },
  {
   "cell_type": "code",
   "execution_count": 25,
   "id": "56fb5020-cdaf-4c93-9b3a-c65c5444a595",
   "metadata": {},
   "outputs": [
    {
     "data": {
      "text/plain": [
       "user_id                    int32\n",
       "gender                    object\n",
       "state                     object\n",
       "age                        int64\n",
       "date_joined       datetime64[ns]\n",
       "num_dependents             int32\n",
       "family_status             object\n",
       "income                     int64\n",
       "dtype: object"
      ]
     },
     "execution_count": 25,
     "metadata": {},
     "output_type": "execute_result"
    }
   ],
   "source": [
    "# Verifying the changes\n",
    "df_cust.dtypes"
   ]
  },
  {
   "cell_type": "markdown",
   "id": "ca280663-48d3-49ab-aab4-6411cd4119a8",
   "metadata": {},
   "source": [
    "##### **Identifying \"key column\"**"
   ]
  },
  {
   "cell_type": "code",
   "execution_count": 26,
   "id": "5b1500ad-bd60-45e5-a11e-7a66006b4ec1",
   "metadata": {},
   "outputs": [
    {
     "name": "stdout",
     "output_type": "stream",
     "text": [
      "Common column/s between both DataFrames: ['user_id']\n"
     ]
    }
   ],
   "source": [
    "# Identify common columns\n",
    "common_columns = list(set(df_cust.columns) & set(ords_prods_merge.columns))\n",
    "print('Common column/s between both DataFrames:', common_columns)"
   ]
  },
  {
   "cell_type": "markdown",
   "id": "315adf07-984b-4ff2-9608-009c582adf1d",
   "metadata": {},
   "source": [
    "##### **Combining customer data with the rest of prepared Instacart data with common key \"user_id\"**"
   ]
  },
  {
   "cell_type": "code",
   "execution_count": 27,
   "id": "c5ab94ce-bcd9-4183-8eb1-8148798ed718",
   "metadata": {},
   "outputs": [],
   "source": [
    "# Merging both dataframes \"df_cust\" and \"ords_prods_merge\" --> \"df_instacart_merged\"\n",
    "df_instacart_merged = df_cust.merge(ords_prods_merge, on = 'user_id', indicator = True)"
   ]
  },
  {
   "cell_type": "code",
   "execution_count": 28,
   "id": "429fd804-f633-4bc3-a2da-a7769c867af1",
   "metadata": {},
   "outputs": [
    {
     "data": {
      "text/html": [
       "<div>\n",
       "<style scoped>\n",
       "    .dataframe tbody tr th:only-of-type {\n",
       "        vertical-align: middle;\n",
       "    }\n",
       "\n",
       "    .dataframe tbody tr th {\n",
       "        vertical-align: top;\n",
       "    }\n",
       "\n",
       "    .dataframe thead th {\n",
       "        text-align: right;\n",
       "    }\n",
       "</style>\n",
       "<table border=\"1\" class=\"dataframe\">\n",
       "  <thead>\n",
       "    <tr style=\"text-align: right;\">\n",
       "      <th></th>\n",
       "      <th>user_id</th>\n",
       "      <th>gender</th>\n",
       "      <th>state</th>\n",
       "      <th>age</th>\n",
       "      <th>date_joined</th>\n",
       "      <th>num_dependents</th>\n",
       "      <th>family_status</th>\n",
       "      <th>income</th>\n",
       "      <th>order_id</th>\n",
       "      <th>order_number</th>\n",
       "      <th>order_day_of_week</th>\n",
       "      <th>order_hour_of_day</th>\n",
       "      <th>days_since_prior_order</th>\n",
       "      <th>first_order</th>\n",
       "      <th>product_id</th>\n",
       "      <th>add_to_cart_order</th>\n",
       "      <th>reordered</th>\n",
       "      <th>product_name</th>\n",
       "      <th>aisle_id</th>\n",
       "      <th>department_id</th>\n",
       "      <th>prices</th>\n",
       "      <th>price_range_loc</th>\n",
       "      <th>busiest_day</th>\n",
       "      <th>busiest_days</th>\n",
       "      <th>busiest_period_of_day</th>\n",
       "      <th>max_order</th>\n",
       "      <th>loyalty_flag</th>\n",
       "      <th>user_mean_prices</th>\n",
       "      <th>spending_flag</th>\n",
       "      <th>median_frequency</th>\n",
       "      <th>frequency_flag</th>\n",
       "      <th>_merge</th>\n",
       "    </tr>\n",
       "  </thead>\n",
       "  <tbody>\n",
       "    <tr>\n",
       "      <th>0</th>\n",
       "      <td>26711</td>\n",
       "      <td>Female</td>\n",
       "      <td>Missouri</td>\n",
       "      <td>48</td>\n",
       "      <td>2017-01-01</td>\n",
       "      <td>3</td>\n",
       "      <td>married</td>\n",
       "      <td>165665</td>\n",
       "      <td>518967</td>\n",
       "      <td>1</td>\n",
       "      <td>2</td>\n",
       "      <td>9</td>\n",
       "      <td>NaN</td>\n",
       "      <td>True</td>\n",
       "      <td>6184</td>\n",
       "      <td>1</td>\n",
       "      <td>0</td>\n",
       "      <td>Clementines</td>\n",
       "      <td>32</td>\n",
       "      <td>4</td>\n",
       "      <td>4.3</td>\n",
       "      <td>Low-range product</td>\n",
       "      <td>Regularly busy</td>\n",
       "      <td>Regularly busy</td>\n",
       "      <td>Most orders</td>\n",
       "      <td>8</td>\n",
       "      <td>New customer</td>\n",
       "      <td>7.988889</td>\n",
       "      <td>Low spender</td>\n",
       "      <td>19.0</td>\n",
       "      <td>Regular customer</td>\n",
       "      <td>both</td>\n",
       "    </tr>\n",
       "    <tr>\n",
       "      <th>1</th>\n",
       "      <td>26711</td>\n",
       "      <td>Female</td>\n",
       "      <td>Missouri</td>\n",
       "      <td>48</td>\n",
       "      <td>2017-01-01</td>\n",
       "      <td>3</td>\n",
       "      <td>married</td>\n",
       "      <td>165665</td>\n",
       "      <td>423547</td>\n",
       "      <td>2</td>\n",
       "      <td>2</td>\n",
       "      <td>9</td>\n",
       "      <td>14.0</td>\n",
       "      <td>False</td>\n",
       "      <td>38928</td>\n",
       "      <td>1</td>\n",
       "      <td>0</td>\n",
       "      <td>0% Greek Strained Yogurt</td>\n",
       "      <td>120</td>\n",
       "      <td>16</td>\n",
       "      <td>12.6</td>\n",
       "      <td>Mid-range product</td>\n",
       "      <td>Regularly busy</td>\n",
       "      <td>Regularly busy</td>\n",
       "      <td>Most orders</td>\n",
       "      <td>8</td>\n",
       "      <td>New customer</td>\n",
       "      <td>7.988889</td>\n",
       "      <td>Low spender</td>\n",
       "      <td>19.0</td>\n",
       "      <td>Regular customer</td>\n",
       "      <td>both</td>\n",
       "    </tr>\n",
       "    <tr>\n",
       "      <th>2</th>\n",
       "      <td>26711</td>\n",
       "      <td>Female</td>\n",
       "      <td>Missouri</td>\n",
       "      <td>48</td>\n",
       "      <td>2017-01-01</td>\n",
       "      <td>3</td>\n",
       "      <td>married</td>\n",
       "      <td>165665</td>\n",
       "      <td>2524893</td>\n",
       "      <td>3</td>\n",
       "      <td>3</td>\n",
       "      <td>11</td>\n",
       "      <td>30.0</td>\n",
       "      <td>False</td>\n",
       "      <td>38928</td>\n",
       "      <td>1</td>\n",
       "      <td>1</td>\n",
       "      <td>0% Greek Strained Yogurt</td>\n",
       "      <td>120</td>\n",
       "      <td>16</td>\n",
       "      <td>12.6</td>\n",
       "      <td>Mid-range product</td>\n",
       "      <td>Regularly busy</td>\n",
       "      <td>Slowest days</td>\n",
       "      <td>Most orders</td>\n",
       "      <td>8</td>\n",
       "      <td>New customer</td>\n",
       "      <td>7.988889</td>\n",
       "      <td>Low spender</td>\n",
       "      <td>19.0</td>\n",
       "      <td>Regular customer</td>\n",
       "      <td>both</td>\n",
       "    </tr>\n",
       "    <tr>\n",
       "      <th>3</th>\n",
       "      <td>26711</td>\n",
       "      <td>Female</td>\n",
       "      <td>Missouri</td>\n",
       "      <td>48</td>\n",
       "      <td>2017-01-01</td>\n",
       "      <td>3</td>\n",
       "      <td>married</td>\n",
       "      <td>165665</td>\n",
       "      <td>2524893</td>\n",
       "      <td>3</td>\n",
       "      <td>3</td>\n",
       "      <td>11</td>\n",
       "      <td>30.0</td>\n",
       "      <td>False</td>\n",
       "      <td>6184</td>\n",
       "      <td>2</td>\n",
       "      <td>1</td>\n",
       "      <td>Clementines</td>\n",
       "      <td>32</td>\n",
       "      <td>4</td>\n",
       "      <td>4.3</td>\n",
       "      <td>Low-range product</td>\n",
       "      <td>Regularly busy</td>\n",
       "      <td>Slowest days</td>\n",
       "      <td>Most orders</td>\n",
       "      <td>8</td>\n",
       "      <td>New customer</td>\n",
       "      <td>7.988889</td>\n",
       "      <td>Low spender</td>\n",
       "      <td>19.0</td>\n",
       "      <td>Regular customer</td>\n",
       "      <td>both</td>\n",
       "    </tr>\n",
       "    <tr>\n",
       "      <th>4</th>\n",
       "      <td>26711</td>\n",
       "      <td>Female</td>\n",
       "      <td>Missouri</td>\n",
       "      <td>48</td>\n",
       "      <td>2017-01-01</td>\n",
       "      <td>3</td>\n",
       "      <td>married</td>\n",
       "      <td>165665</td>\n",
       "      <td>2524893</td>\n",
       "      <td>3</td>\n",
       "      <td>3</td>\n",
       "      <td>11</td>\n",
       "      <td>30.0</td>\n",
       "      <td>False</td>\n",
       "      <td>47402</td>\n",
       "      <td>3</td>\n",
       "      <td>0</td>\n",
       "      <td>Fuji Apples</td>\n",
       "      <td>24</td>\n",
       "      <td>4</td>\n",
       "      <td>7.1</td>\n",
       "      <td>Mid-range product</td>\n",
       "      <td>Regularly busy</td>\n",
       "      <td>Slowest days</td>\n",
       "      <td>Most orders</td>\n",
       "      <td>8</td>\n",
       "      <td>New customer</td>\n",
       "      <td>7.988889</td>\n",
       "      <td>Low spender</td>\n",
       "      <td>19.0</td>\n",
       "      <td>Regular customer</td>\n",
       "      <td>both</td>\n",
       "    </tr>\n",
       "  </tbody>\n",
       "</table>\n",
       "</div>"
      ],
      "text/plain": [
       "   user_id  gender     state  age date_joined  num_dependents family_status  income  order_id  order_number  order_day_of_week  order_hour_of_day  days_since_prior_order  first_order  product_id  add_to_cart_order  reordered              product_name  aisle_id  department_id  prices    price_range_loc     busiest_day    busiest_days busiest_period_of_day  max_order  loyalty_flag  user_mean_prices spending_flag  median_frequency    frequency_flag _merge\n",
       "0    26711  Female  Missouri   48  2017-01-01               3       married  165665    518967             1                  2                  9                     NaN         True        6184                  1          0               Clementines        32              4     4.3  Low-range product  Regularly busy  Regularly busy           Most orders          8  New customer          7.988889   Low spender              19.0  Regular customer   both\n",
       "1    26711  Female  Missouri   48  2017-01-01               3       married  165665    423547             2                  2                  9                    14.0        False       38928                  1          0  0% Greek Strained Yogurt       120             16    12.6  Mid-range product  Regularly busy  Regularly busy           Most orders          8  New customer          7.988889   Low spender              19.0  Regular customer   both\n",
       "2    26711  Female  Missouri   48  2017-01-01               3       married  165665   2524893             3                  3                 11                    30.0        False       38928                  1          1  0% Greek Strained Yogurt       120             16    12.6  Mid-range product  Regularly busy    Slowest days           Most orders          8  New customer          7.988889   Low spender              19.0  Regular customer   both\n",
       "3    26711  Female  Missouri   48  2017-01-01               3       married  165665   2524893             3                  3                 11                    30.0        False        6184                  2          1               Clementines        32              4     4.3  Low-range product  Regularly busy    Slowest days           Most orders          8  New customer          7.988889   Low spender              19.0  Regular customer   both\n",
       "4    26711  Female  Missouri   48  2017-01-01               3       married  165665   2524893             3                  3                 11                    30.0        False       47402                  3          0               Fuji Apples        24              4     7.1  Mid-range product  Regularly busy    Slowest days           Most orders          8  New customer          7.988889   Low spender              19.0  Regular customer   both"
      ]
     },
     "execution_count": 28,
     "metadata": {},
     "output_type": "execute_result"
    }
   ],
   "source": [
    "# Checking output\n",
    "df_instacart_merged.head()"
   ]
  },
  {
   "cell_type": "code",
   "execution_count": 29,
   "id": "a8f341ec-a4c6-4c7c-a5df-118f79b9d46d",
   "metadata": {},
   "outputs": [
    {
     "data": {
      "text/plain": [
       "_merge\n",
       "both          32404859\n",
       "left_only            0\n",
       "right_only           0\n",
       "Name: count, dtype: int64"
      ]
     },
     "execution_count": 29,
     "metadata": {},
     "output_type": "execute_result"
    }
   ],
   "source": [
    "# Check matching criteria - checking merge flag frequency\n",
    "df_instacart_merged['_merge'].value_counts()"
   ]
  },
  {
   "cell_type": "code",
   "execution_count": 30,
   "id": "24cabd87-3a5a-4562-bd60-2f233196f8fb",
   "metadata": {},
   "outputs": [],
   "source": [
    "# Drop the \"_merge\" column\n",
    "df_instacart_merged = df_instacart_merged.drop(columns=['_merge'])"
   ]
  },
  {
   "cell_type": "code",
   "execution_count": 31,
   "id": "3a43dfea-800f-4d28-9e90-ed7e55f5bcb6",
   "metadata": {},
   "outputs": [
    {
     "data": {
      "text/html": [
       "<div>\n",
       "<style scoped>\n",
       "    .dataframe tbody tr th:only-of-type {\n",
       "        vertical-align: middle;\n",
       "    }\n",
       "\n",
       "    .dataframe tbody tr th {\n",
       "        vertical-align: top;\n",
       "    }\n",
       "\n",
       "    .dataframe thead th {\n",
       "        text-align: right;\n",
       "    }\n",
       "</style>\n",
       "<table border=\"1\" class=\"dataframe\">\n",
       "  <thead>\n",
       "    <tr style=\"text-align: right;\">\n",
       "      <th></th>\n",
       "      <th>user_id</th>\n",
       "      <th>gender</th>\n",
       "      <th>state</th>\n",
       "      <th>age</th>\n",
       "      <th>date_joined</th>\n",
       "      <th>num_dependents</th>\n",
       "      <th>family_status</th>\n",
       "      <th>income</th>\n",
       "      <th>order_id</th>\n",
       "      <th>order_number</th>\n",
       "      <th>order_day_of_week</th>\n",
       "      <th>order_hour_of_day</th>\n",
       "      <th>days_since_prior_order</th>\n",
       "      <th>first_order</th>\n",
       "      <th>product_id</th>\n",
       "      <th>add_to_cart_order</th>\n",
       "      <th>reordered</th>\n",
       "      <th>product_name</th>\n",
       "      <th>aisle_id</th>\n",
       "      <th>department_id</th>\n",
       "      <th>prices</th>\n",
       "      <th>price_range_loc</th>\n",
       "      <th>busiest_day</th>\n",
       "      <th>busiest_days</th>\n",
       "      <th>busiest_period_of_day</th>\n",
       "      <th>max_order</th>\n",
       "      <th>loyalty_flag</th>\n",
       "      <th>user_mean_prices</th>\n",
       "      <th>spending_flag</th>\n",
       "      <th>median_frequency</th>\n",
       "      <th>frequency_flag</th>\n",
       "    </tr>\n",
       "  </thead>\n",
       "  <tbody>\n",
       "    <tr>\n",
       "      <th>0</th>\n",
       "      <td>26711</td>\n",
       "      <td>Female</td>\n",
       "      <td>Missouri</td>\n",
       "      <td>48</td>\n",
       "      <td>2017-01-01</td>\n",
       "      <td>3</td>\n",
       "      <td>married</td>\n",
       "      <td>165665</td>\n",
       "      <td>518967</td>\n",
       "      <td>1</td>\n",
       "      <td>2</td>\n",
       "      <td>9</td>\n",
       "      <td>NaN</td>\n",
       "      <td>True</td>\n",
       "      <td>6184</td>\n",
       "      <td>1</td>\n",
       "      <td>0</td>\n",
       "      <td>Clementines</td>\n",
       "      <td>32</td>\n",
       "      <td>4</td>\n",
       "      <td>4.3</td>\n",
       "      <td>Low-range product</td>\n",
       "      <td>Regularly busy</td>\n",
       "      <td>Regularly busy</td>\n",
       "      <td>Most orders</td>\n",
       "      <td>8</td>\n",
       "      <td>New customer</td>\n",
       "      <td>7.988889</td>\n",
       "      <td>Low spender</td>\n",
       "      <td>19.0</td>\n",
       "      <td>Regular customer</td>\n",
       "    </tr>\n",
       "  </tbody>\n",
       "</table>\n",
       "</div>"
      ],
      "text/plain": [
       "   user_id  gender     state  age date_joined  num_dependents family_status  income  order_id  order_number  order_day_of_week  order_hour_of_day  days_since_prior_order  first_order  product_id  add_to_cart_order  reordered product_name  aisle_id  department_id  prices    price_range_loc     busiest_day    busiest_days busiest_period_of_day  max_order  loyalty_flag  user_mean_prices spending_flag  median_frequency    frequency_flag\n",
       "0    26711  Female  Missouri   48  2017-01-01               3       married  165665    518967             1                  2                  9                     NaN         True        6184                  1          0  Clementines        32              4     4.3  Low-range product  Regularly busy  Regularly busy           Most orders          8  New customer          7.988889   Low spender              19.0  Regular customer"
      ]
     },
     "execution_count": 31,
     "metadata": {},
     "output_type": "execute_result"
    }
   ],
   "source": [
    "df_instacart_merged.head(1)"
   ]
  },
  {
   "cell_type": "code",
   "execution_count": 32,
   "id": "184158b9-8520-47fd-a45f-5127fea3e990",
   "metadata": {},
   "outputs": [
    {
     "data": {
      "text/plain": [
       "(32404859, 31)"
      ]
     },
     "execution_count": 32,
     "metadata": {},
     "output_type": "execute_result"
    }
   ],
   "source": [
    "# Check shape of instacart merged data\n",
    "df_instacart_merged.shape"
   ]
  },
  {
   "cell_type": "markdown",
   "id": "e1886fa3-5ce3-4473-94b6-11e2e8f55a5e",
   "metadata": {},
   "source": [
    "#### **Question 8:** Export merged Instacart data as pickle"
   ]
  },
  {
   "cell_type": "code",
   "execution_count": 33,
   "id": "cc89b78a-8f50-4bf6-af69-30ad4e04502c",
   "metadata": {},
   "outputs": [],
   "source": [
    "# Export data as pkl\n",
    "df_instacart_merged.to_pickle(os.path.join(path, '02 Data','Prepared Data', 'customers_merged.pkl'))"
   ]
  }
 ],
 "metadata": {
  "kernelspec": {
   "display_name": "Python 3 (ipykernel)",
   "language": "python",
   "name": "python3"
  },
  "language_info": {
   "codemirror_mode": {
    "name": "ipython",
    "version": 3
   },
   "file_extension": ".py",
   "mimetype": "text/x-python",
   "name": "python",
   "nbconvert_exporter": "python",
   "pygments_lexer": "ipython3",
   "version": "3.11.13"
  }
 },
 "nbformat": 4,
 "nbformat_minor": 5
}
