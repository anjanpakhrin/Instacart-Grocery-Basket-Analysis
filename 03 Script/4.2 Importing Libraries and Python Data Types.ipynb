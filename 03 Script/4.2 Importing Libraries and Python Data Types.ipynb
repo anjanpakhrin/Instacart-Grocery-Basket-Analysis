{
 "cells": [
  {
   "cell_type": "markdown",
   "id": "500b1ee0-2d63-4bd7-a5d3-acef94d3178e",
   "metadata": {},
   "source": [
    "# 01. Importing libraries"
   ]
  },
  {
   "cell_type": "code",
   "execution_count": 1,
   "id": "1eff686c-0352-4bfb-b6b1-1d5afcbf6839",
   "metadata": {},
   "outputs": [],
   "source": [
    "# Import libraries\n",
    "import pandas as pd\n",
    "import numpy as np\n",
    "import os"
   ]
  },
  {
   "cell_type": "markdown",
   "id": "efafc179-a5a7-42ac-9d47-e36575199a5d",
   "metadata": {},
   "source": [
    "# 02. Data Types"
   ]
  },
  {
   "cell_type": "markdown",
   "id": "23926741-1356-462b-8919-c302653c5056",
   "metadata": {},
   "source": [
    "### Integer"
   ]
  },
  {
   "cell_type": "code",
   "execution_count": 10,
   "id": "09b4e1a1-d8f9-415a-a2d7-2a5bb4087aab",
   "metadata": {},
   "outputs": [],
   "source": [
    "x = 2"
   ]
  },
  {
   "cell_type": "code",
   "execution_count": 11,
   "id": "bc18c5a8-2d9d-412b-8a9b-e6d43e2133c7",
   "metadata": {},
   "outputs": [
    {
     "data": {
      "text/plain": [
       "int"
      ]
     },
     "execution_count": 11,
     "metadata": {},
     "output_type": "execute_result"
    }
   ],
   "source": [
    "type(x)"
   ]
  },
  {
   "cell_type": "markdown",
   "id": "cdad3420-f308-4b96-ae0c-42ecffee37dd",
   "metadata": {},
   "source": [
    "#### Floating-Point Numbers"
   ]
  },
  {
   "cell_type": "code",
   "execution_count": 12,
   "id": "6f3be99f-f7b6-46a6-9263-2f6a10adf4ba",
   "metadata": {},
   "outputs": [],
   "source": [
    "y = 5.678"
   ]
  },
  {
   "cell_type": "code",
   "execution_count": 10,
   "id": "a25a0635-1987-4b67-b9d4-b1ce770a1efc",
   "metadata": {},
   "outputs": [
    {
     "data": {
      "text/plain": [
       "float"
      ]
     },
     "execution_count": 10,
     "metadata": {},
     "output_type": "execute_result"
    }
   ],
   "source": [
    "type(y)"
   ]
  },
  {
   "cell_type": "markdown",
   "id": "19c17fb4-7c23-48c5-aa2f-2483f288d2f3",
   "metadata": {},
   "source": [
    "### Strings"
   ]
  },
  {
   "cell_type": "code",
   "execution_count": 14,
   "id": "a3e588d2-fe2b-48e2-9772-a95b95b2ac17",
   "metadata": {},
   "outputs": [],
   "source": [
    "z = 'Brazil'"
   ]
  },
  {
   "cell_type": "code",
   "execution_count": 15,
   "id": "51ea6caf-b77c-4ed4-92da-6322cf60b098",
   "metadata": {},
   "outputs": [
    {
     "data": {
      "text/plain": [
       "str"
      ]
     },
     "execution_count": 15,
     "metadata": {},
     "output_type": "execute_result"
    }
   ],
   "source": [
    "type(z)"
   ]
  },
  {
   "cell_type": "code",
   "execution_count": 14,
   "id": "13a642bf-8013-4ec0-ad12-f2a6442258d6",
   "metadata": {},
   "outputs": [
    {
     "data": {
      "text/plain": [
       "str"
      ]
     },
     "execution_count": 14,
     "metadata": {},
     "output_type": "execute_result"
    }
   ],
   "source": [
    "type('Mania')"
   ]
  },
  {
   "cell_type": "markdown",
   "id": "7d1b07a4-f65e-4c04-93dd-aaeed8902185",
   "metadata": {},
   "source": [
    "### Boolean"
   ]
  },
  {
   "cell_type": "code",
   "execution_count": 15,
   "id": "d02b3ab0-260d-4766-8a4c-be4921d40c6a",
   "metadata": {},
   "outputs": [
    {
     "data": {
      "text/plain": [
       "bool"
      ]
     },
     "execution_count": 15,
     "metadata": {},
     "output_type": "execute_result"
    }
   ],
   "source": [
    "type(True)"
   ]
  },
  {
   "cell_type": "markdown",
   "id": "36a77630-a259-470c-8d82-ab668db9fbd3",
   "metadata": {},
   "source": [
    "# Procedures with Data Types"
   ]
  },
  {
   "cell_type": "markdown",
   "id": "9029e00b-d905-4abf-9d4a-be850920c619",
   "metadata": {},
   "source": [
    "### Integers and Floats"
   ]
  },
  {
   "cell_type": "code",
   "execution_count": 16,
   "id": "3a4081fd-4aa0-41de-9344-b27941c7c262",
   "metadata": {},
   "outputs": [
    {
     "data": {
      "text/plain": [
       "bool"
      ]
     },
     "execution_count": 16,
     "metadata": {},
     "output_type": "execute_result"
    }
   ],
   "source": [
    "type(False)"
   ]
  },
  {
   "cell_type": "code",
   "execution_count": 17,
   "id": "f1600f21-669c-43ec-8b27-928711d8b3e2",
   "metadata": {},
   "outputs": [
    {
     "name": "stdout",
     "output_type": "stream",
     "text": [
      "2\n"
     ]
    }
   ],
   "source": [
    "print(x)"
   ]
  },
  {
   "cell_type": "code",
   "execution_count": 18,
   "id": "aa21ac4d-2fa9-44a4-8226-54853d69bcb7",
   "metadata": {},
   "outputs": [
    {
     "data": {
      "text/plain": [
       "10"
      ]
     },
     "execution_count": 18,
     "metadata": {},
     "output_type": "execute_result"
    }
   ],
   "source": [
    "x + 8"
   ]
  },
  {
   "cell_type": "markdown",
   "id": "b43376d3-c2ea-41b5-9e60-9287f5501096",
   "metadata": {},
   "source": [
    "### Strings"
   ]
  },
  {
   "cell_type": "code",
   "execution_count": 4,
   "id": "7cae74b9-f203-4b2e-822a-9d1dd618f0ca",
   "metadata": {},
   "outputs": [],
   "source": [
    "a = 'Hello, '"
   ]
  },
  {
   "cell_type": "code",
   "execution_count": 5,
   "id": "a66612cd-44cb-4aa2-9d82-72c5c92631a5",
   "metadata": {},
   "outputs": [],
   "source": [
    "b = 'Anjan'"
   ]
  },
  {
   "cell_type": "code",
   "execution_count": 6,
   "id": "93dcc613-7e82-460a-b357-6db7b03b5036",
   "metadata": {},
   "outputs": [
    {
     "data": {
      "text/plain": [
       "'Hello, Anjan'"
      ]
     },
     "execution_count": 6,
     "metadata": {},
     "output_type": "execute_result"
    }
   ],
   "source": [
    "a + b"
   ]
  },
  {
   "cell_type": "code",
   "execution_count": 7,
   "id": "90db38cc-cde3-44e6-bb66-8b11af79fbee",
   "metadata": {},
   "outputs": [],
   "source": [
    "n = 'potato'"
   ]
  },
  {
   "cell_type": "code",
   "execution_count": 8,
   "id": "52e57573-de99-443a-b097-b96e277ee8c7",
   "metadata": {},
   "outputs": [
    {
     "data": {
      "text/plain": [
       "'potatopotatopotatopotatopotato'"
      ]
     },
     "execution_count": 8,
     "metadata": {},
     "output_type": "execute_result"
    }
   ],
   "source": [
    "n * 5"
   ]
  },
  {
   "cell_type": "markdown",
   "id": "0966acb3-aa1a-4c81-a413-abb3eb38195e",
   "metadata": {},
   "source": [
    "### Booleans"
   ]
  },
  {
   "cell_type": "code",
   "execution_count": 16,
   "id": "47ef6acc-d338-4d9c-8fcf-1dca05706dd7",
   "metadata": {},
   "outputs": [
    {
     "data": {
      "text/plain": [
       "False"
      ]
     },
     "execution_count": 16,
     "metadata": {},
     "output_type": "execute_result"
    }
   ],
   "source": [
    "x == y"
   ]
  },
  {
   "cell_type": "code",
   "execution_count": 17,
   "id": "0cd7db27-369d-458f-a7cc-dca522c223c2",
   "metadata": {},
   "outputs": [
    {
     "data": {
      "text/plain": [
       "bool"
      ]
     },
     "execution_count": 17,
     "metadata": {},
     "output_type": "execute_result"
    }
   ],
   "source": [
    "type(x==y)"
   ]
  },
  {
   "attachments": {},
   "cell_type": "markdown",
   "id": "a2ca480e-5072-4b49-962c-c8a0dd971c2e",
   "metadata": {},
   "source": [
    "##### 7. Code 3 different ways of reaching a result of 100 by adding or subtracting numeric variables."
   ]
  },
  {
   "cell_type": "code",
   "execution_count": 5,
   "id": "e1700608-209c-44aa-9e59-5fac3d1df211",
   "metadata": {},
   "outputs": [],
   "source": [
    "# Version 1\n",
    "a = 60"
   ]
  },
  {
   "cell_type": "code",
   "execution_count": 6,
   "id": "c5792a31-c6f9-4581-bbd2-350ae26358f1",
   "metadata": {},
   "outputs": [],
   "source": [
    "b = 40"
   ]
  },
  {
   "cell_type": "code",
   "execution_count": 7,
   "id": "3760d848-5b69-4c18-a6e1-500f1edeb715",
   "metadata": {},
   "outputs": [
    {
     "data": {
      "text/plain": [
       "100"
      ]
     },
     "execution_count": 7,
     "metadata": {},
     "output_type": "execute_result"
    }
   ],
   "source": [
    "a + b"
   ]
  },
  {
   "cell_type": "code",
   "execution_count": 8,
   "id": "751437bd-3f2e-43cc-8df2-e03250b56cd4",
   "metadata": {},
   "outputs": [
    {
     "name": "stdout",
     "output_type": "stream",
     "text": [
      "150 - 50 = 100\n"
     ]
    }
   ],
   "source": [
    "# Version 2\n",
    "x = 150\n",
    "y = 50\n",
    "result = x - y\n",
    "print(f'{x} - {y} = {result}')"
   ]
  },
  {
   "cell_type": "code",
   "execution_count": 11,
   "id": "e6751033-959b-4c2b-a979-e70d12681775",
   "metadata": {},
   "outputs": [
    {
     "name": "stdout",
     "output_type": "stream",
     "text": [
      "20 * 7 - 40 = 100\n"
     ]
    }
   ],
   "source": [
    "# Version 3\n",
    "num1 = 20\n",
    "num2 = 7\n",
    "num3 = 40\n",
    "result = num1 * num2 - num3\n",
    "print(f'{num1} * {num2} - {num3} = {result}')"
   ]
  },
  {
   "attachments": {},
   "cell_type": "markdown",
   "id": "a8d37a05-73f8-4ead-9d80-af4776beac0d",
   "metadata": {},
   "source": [
    "#### 8. Code 2 floating-point variables and divide them by each other."
   ]
  },
  {
   "cell_type": "code",
   "execution_count": 15,
   "id": "934a184f-8a4b-4155-89ca-33caa8a4b76a",
   "metadata": {},
   "outputs": [
    {
     "name": "stdout",
     "output_type": "stream",
     "text": [
      "15.8 / 7.15 = 2.2097902097902096\n"
     ]
    }
   ],
   "source": [
    "# Defining floating numbers\n",
    "number1 = 15.8\n",
    "number2 = 7.15\n",
    "\n",
    "# Divide\n",
    "result = number1 / number2\n",
    "\n",
    "# Result\n",
    "print(f'{number1} / {number2} = {result}')"
   ]
  },
  {
   "attachments": {},
   "cell_type": "markdown",
   "id": "a44001d5-f57a-4f43-b4fb-b25ba52743c5",
   "metadata": {},
   "source": [
    "#### 9. Construct a short word made of separate strings (you’ll need to concatenate some strings."
   ]
  },
  {
   "cell_type": "code",
   "execution_count": 18,
   "id": "d8c0027c-05a2-4b03-a7ab-abc37fa188dd",
   "metadata": {},
   "outputs": [
    {
     "name": "stdout",
     "output_type": "stream",
     "text": [
      "Hello world!\n"
     ]
    }
   ],
   "source": [
    "# Sentence 1\n",
    "# Strings\n",
    "word1 = 'Hello'\n",
    "word2 = 'John!'\n",
    "Sentence1 = word1 + ' ' + word2\n",
    "print(sentence1)"
   ]
  },
  {
   "cell_type": "code",
   "execution_count": 20,
   "id": "79fae053-7fef-4f55-a5ac-9b463a2edbe4",
   "metadata": {},
   "outputs": [
    {
     "name": "stdout",
     "output_type": "stream",
     "text": [
      "My name is Anjan.\n"
     ]
    }
   ],
   "source": [
    "# Sentence 2\n",
    "a = 'My'\n",
    "b = 'name is'\n",
    "c = 'Anjan.'\n",
    "sentence2 = a + \" \" + b + \" \" + c\n",
    "print(sentence2)"
   ]
  },
  {
   "attachments": {},
   "cell_type": "markdown",
   "id": "25aa999a-bc86-42b4-a8d8-b80eff7ff5bf",
   "metadata": {},
   "source": [
    "### Bonus Task\n",
    "#### Include a command that makes a string appear 100 times!"
   ]
  },
  {
   "cell_type": "code",
   "execution_count": 26,
   "id": "4d418994-f3e1-482e-9f6e-32ffabf09fd4",
   "metadata": {},
   "outputs": [
    {
     "name": "stdout",
     "output_type": "stream",
     "text": [
      "Hello! Hello! Hello! Hello! Hello! Hello! Hello! Hello! Hello! Hello! Hello! Hello! Hello! Hello! Hello! Hello! Hello! Hello! Hello! Hello! Hello! Hello! Hello! Hello! Hello! Hello! Hello! Hello! Hello! Hello! Hello! Hello! Hello! Hello! Hello! Hello! Hello! Hello! Hello! Hello! Hello! Hello! Hello! Hello! Hello! Hello! Hello! Hello! Hello! Hello! Hello! Hello! Hello! Hello! Hello! Hello! Hello! Hello! Hello! Hello! Hello! Hello! Hello! Hello! Hello! Hello! Hello! Hello! Hello! Hello! Hello! Hello! Hello! Hello! Hello! Hello! Hello! Hello! Hello! Hello! Hello! Hello! Hello! Hello! Hello! Hello! Hello! Hello! Hello! Hello! Hello! Hello! Hello! Hello! Hello! Hello! Hello! Hello! Hello! Hello! \n"
     ]
    }
   ],
   "source": [
    "string = 'Hello! '\n",
    "print(string * 100)"
   ]
  },
  {
   "cell_type": "code",
   "execution_count": null,
   "id": "ba66f74d-f43a-4d2e-aec9-941944019d32",
   "metadata": {},
   "outputs": [],
   "source": []
  }
 ],
 "metadata": {
  "kernelspec": {
   "display_name": "Python 3 (ipykernel)",
   "language": "python",
   "name": "python3"
  },
  "language_info": {
   "codemirror_mode": {
    "name": "ipython",
    "version": 3
   },
   "file_extension": ".py",
   "mimetype": "text/x-python",
   "name": "python",
   "nbconvert_exporter": "python",
   "pygments_lexer": "ipython3",
   "version": "3.13.5"
  }
 },
 "nbformat": 4,
 "nbformat_minor": 5
}
